{
 "cells": [
  {
   "cell_type": "code",
   "execution_count": 1,
   "id": "4aea561b",
   "metadata": {},
   "outputs": [],
   "source": [
    "import numpy as np\n",
    "# Visualization\n",
    "import plotly.express as px # for data visualization\n",
    "import matplotlib.pyplot as plt # for showing handwritten digits\n",
    "\n",
    "def generate_n_tendrils(n_ten, p):\n",
    "    '''\n",
    "    n_ten: number of pts at each tendril\n",
    "    p: column dimension/number of tendrills\n",
    "    \n",
    "    return \n",
    "    ------\n",
    "    X: dataset with shape n_ten * p\n",
    "    '''\n",
    "    # generate random pts on the j-th tendril (canonical axis)\n",
    "    X = np.random.uniform(size =(n_ten,1))\n",
    "    # pad zeros\n",
    "    X = np.c_[X, np.zeros((n_ten, p-1))]\n",
    "\n",
    "    for j in range(1, p):\n",
    "        # generate random pts on the j-th tendril (canonical axis)\n",
    "        rand_pts = np.random.uniform(size =(n_ten,1))\n",
    "        # pad zeros \n",
    "        rand_pts = np.c_[np.zeros((n_ten, j)), rand_pts]\n",
    "        rand_pts = np.c_[rand_pts, np.zeros((n_ten,p-j-1))]\n",
    "        X = np.r_[X, rand_pts]\n",
    "    \n",
    "    return X\n",
    "\n",
    "X = generate_n_tendrils(50,5)"
   ]
  },
  {
   "cell_type": "code",
   "execution_count": 2,
   "id": "2cbbdac5",
   "metadata": {},
   "outputs": [
    {
     "data": {
      "text/plain": [
       "(250, 5)"
      ]
     },
     "execution_count": 2,
     "metadata": {},
     "output_type": "execute_result"
    }
   ],
   "source": [
    "X.shape"
   ]
  },
  {
   "cell_type": "markdown",
   "id": "880aa5aa",
   "metadata": {},
   "source": [
    "## PCA"
   ]
  },
  {
   "cell_type": "code",
   "execution_count": 3,
   "id": "7333e15f",
   "metadata": {},
   "outputs": [
    {
     "data": {
      "text/plain": [
       "<matplotlib.collections.PathCollection at 0x7f44a1c722b0>"
      ]
     },
     "execution_count": 3,
     "metadata": {},
     "output_type": "execute_result"
    },
    {
     "data": {
      "image/png": "[encoded data removed]",
      "text/plain": [
       "<Figure size 432x288 with 1 Axes>"
      ]
     },
     "metadata": {
      "needs_background": "light"
     },
     "output_type": "display_data"
    }
   ],
   "source": [
    "from sklearn.preprocessing import StandardScaler # for data standardization\n",
    "from sklearn.decomposition import PCA # for PCA analysis\n",
    "from sklearn import datasets\n",
    "\n",
    "X_pca = PCA(n_components=2).fit_transform(X)\n",
    "plt.scatter(X_pca[:, 0],X_pca[:,1])"
   ]
  },
  {
   "cell_type": "code",
   "execution_count": 12,
   "id": "231c60b1",
   "metadata": {},
   "outputs": [
    {
     "data": {
      "application/vnd.plotly.v1+json": {
       "config": {
        "plotlyServerURL": "https://plot.ly"
       },
       "data": [
        {
         "hovertemplate": "x=%{x}<br>y=%{y}<br>color=%{marker.color}<extra></extra>",
         "legendgroup": "",
         "marker": {
          "color": [
           1,
           1,
           1,
           1,
           1,
           1,
           1,
           1,
           1,
           1,
           1,
           1,
           1,
           1,
           1,
           1,
           1,
           1,
           1,
           1,
           1,
           1,
           1,
           1,
           1,
           1,
           1,
           1,
           1,
           1,
           1,
           1,
           1,
           1,
           1,
           1,
           1,
           1,
           1,
           1,
           1,
           1,
           1,
           1,
           1,
           1,
           1,
           1,
           1,
           1,
           1,
           1,
           1,
           1,
           1,
           1,
           1,
           1,
           1,
           1,
           1,
           1,
           1,
           1,
           1,
           1,
           1,
           1,
           1,
           1,
           1,
           1,
           1,
           1,
           1,
           1,
           1,
           1,
           1,
           1,
           1,
           1,
           1,
           1,
           1,
           1,
           1,
           1,
           1,
           1,
           1,
           1,
           1,
           1,
           1,
           1,
           1,
           1,
           1,
           1,
           1,
           1,
           1,
           1,
           1,
           1,
           1,
           1,
           1,
           1,
           1,
           1,
           1,
           1,
           1,
           1,
           1,
           1,
           1,
           1,
           1,
           1,
           1,
           1,
           1,
           1,
           1,
           1,
           1,
           1,
           1,
           1,
           1,
           1,
           1,
           1,
           1,
           1,
           1,
           1,
           1,
           1,
           1,
           1,
           1,
           1,
           1,
           1,
           1,
           1,
           1,
           1,
           1,
           1,
           1,
           1,
           1,
           1,
           1,
           1,
           1,
           1,
           1,
           1,
           1,
           1,
           1,
           1,
           1,
           1,
           1,
           1,
           1,
           1,
           1,
           1,
           1,
           1,
           1,
           1,
           1,
           1,
           1,
           1,
           1,
           1,
           1,
           1,
           1,
           1,
           1,
           1,
           1,
           1,
           1,
           1,
           1,
           1,
           1,
           1,
           1,
           1,
           1,
           1,
           1,
           1,
           1,
           1,
           1,
           1,
           1,
           1,
           1,
           1,
           1,
           1,
           1,
           1,
           1,
           1,
           1,
           1,
           1,
           1,
           1,
           1,
           1,
           1,
           1,
           1,
           1,
           1,
           1,
           1,
           1,
           1,
           1,
           1,
           1,
           1,
           1,
           1,
           1,
           1,
           1,
           1,
           1,
           1,
           1,
           1
          ],
          "coloraxis": "coloraxis",
          "line": {
           "color": "black",
           "width": 0.2
          },
          "opacity": 1,
          "size": 5,
          "symbol": "circle"
         },
         "mode": "markers",
         "name": "",
         "orientation": "v",
         "showlegend": false,
         "type": "scatter",
         "x": [
          -0.13815530664671524,
          -0.11732278253128184,
          -0.24564206931532995,
          -0.07041625408544851,
          -0.14264007933120784,
          -0.08583656650174505,
          -0.02509748100920759,
          -0.09178423217334486,
          -0.1557020939699574,
          -0.06819398650296621,
          -0.18335668547308548,
          -0.22175673137590646,
          -0.13770739365735557,
          -0.17990524528326957,
          -0.16687366714445057,
          -0.18807431282244852,
          -0.1202950616269112,
          -0.15867514403577318,
          -0.14306900191887753,
          -0.049812121029768466,
          -0.020327650228357582,
          -0.24398605407356053,
          -0.08976588708004656,
          -0.25215283992387416,
          -0.1819804308329025,
          -0.2278714450861246,
          -0.1497671705089471,
          -0.06494276275181594,
          -0.07961501025385265,
          -0.23685535812027841,
          -0.12044660752501357,
          -0.1485746394904092,
          -0.19119263826877295,
          -0.05600435337206733,
          -0.08701432838685576,
          -0.2193954107582521,
          -0.16885428063695665,
          -0.1371410648982371,
          -0.158125524774219,
          -0.11676095527279419,
          -0.017403573719400878,
          -0.1053354622301413,
          -0.0926413752839629,
          -0.20153492427979114,
          -0.21732709292902969,
          -0.05857164696757473,
          -0.10602268090840278,
          -0.13447954657678826,
          -0.048766511367976266,
          -0.1781372457507024,
          0.38903371866198616,
          0.34203092752021474,
          0.002931705166256601,
          0.6037890587447288,
          0.3609994055969161,
          0.7068959439751005,
          0.018008612932639025,
          0.07927222758203711,
          0.07342363291916136,
          0.3612327222275765,
          0.044764435871423515,
          0.06667677102227243,
          0.6281453199502847,
          0.8088164263574641,
          0.6730165450839609,
          0.011265785654202966,
          0.5934193674137866,
          0.46506632460540476,
          0.5891069406993222,
          0.3466545882912346,
          0.8221281022803824,
          0.2337245404271491,
          0.03287618107650899,
          0.2538952325043005,
          0.549583876997857,
          0.12328107760851356,
          0.6685934189387713,
          0.687939973051882,
          0.673382243736153,
          0.6519523100447407,
          0.5425008777747401,
          0.422610876854955,
          0.5124230935375819,
          0.495864936208528,
          0.48899850477427625,
          0.8243340292432636,
          0.6020917463893827,
          0.5894518530423724,
          0.41873770589121845,
          0.08991936334422905,
          0.5250174171373387,
          0.46114141779436985,
          0.36688302393346595,
          0.6974101183192726,
          0.3339399323159209,
          0.38654939262569776,
          0.20420645527978618,
          0.7148029741027662,
          0.7903030138501546,
          0.4508779221978912,
          -0.04934097154266675,
          -0.032937845150231924,
          -0.028597929017810594,
          -0.040356923048736754,
          -0.03848239916903332,
          -0.04255488781213732,
          -0.03770294683476705,
          -0.04521878912926736,
          -0.02122709004303462,
          -0.009301054164008166,
          -0.04236109435532456,
          -0.03430404415137735,
          -0.015873995449491314,
          -0.009491769678030434,
          -0.042950251656792705,
          -0.02659922715016298,
          -0.025468908752579147,
          -0.03968104582197156,
          -0.011908824227456241,
          -0.024650667997001545,
          -0.010414669429547531,
          -0.016660889734083795,
          -0.04638499868375339,
          -0.0752369658052786,
          -0.0656968254680672,
          -0.06383281865731247,
          -0.03359260600560495,
          -0.021555934871384845,
          -0.05109512130369131,
          -0.04430020737084219,
          -0.06631584704994452,
          -0.051704549783872004,
          -0.04974212416134017,
          -0.07268789364363296,
          -0.050140495888431225,
          -0.04357964343041082,
          -0.010870927224611134,
          -0.0753809984804707,
          -0.0139884757130382,
          -0.008320136221286575,
          -0.05139914624018163,
          -0.018293925452005866,
          -0.059198917805025904,
          -0.05946767133840105,
          -0.061408408940558205,
          -0.06914247352985754,
          -0.06922782951365981,
          -0.03912809155447912,
          -0.05064113147292649,
          -0.0338332998964724,
          -0.3686900954254372,
          -0.3245276094767304,
          -0.3226115959533203,
          -0.36967343116728807,
          -0.2673054553176756,
          -0.06889430332072559,
          -0.10144953457498705,
          -0.39029342975984094,
          -0.23726683079750352,
          -0.1309624025443112,
          -0.2970122337494876,
          -0.2745566546819368,
          -0.30225844470755836,
          -0.07327664837392737,
          -0.007938093821979705,
          -0.1589766740103718,
          -0.2358992758290636,
          -0.4240480229884062,
          -0.37674127386287004,
          -0.16018798822161903,
          -0.37211867953563954,
          -0.2574195421938578,
          -0.07070074840209306,
          -0.3677061390596556,
          -0.22016690040276105,
          -0.3268292330415419,
          -0.2755871669189802,
          -0.20120011206821725,
          -0.26339242282037567,
          -0.04096688019376802,
          -0.3552918352203394,
          -0.09255175946903928,
          -0.030414230010434248,
          -0.3928045042815349,
          -0.41168668074763337,
          -0.06772345423428437,
          -0.11805718023517983,
          -0.3155547298008386,
          -0.21020952395816475,
          -0.19137979039235883,
          -0.10725369419453941,
          -0.08955913260254007,
          -0.43545019359530646,
          -0.3700073604146969,
          -0.3699623531481272,
          -0.09627297868239448,
          -0.082431077523642,
          -0.19058942918624425,
          -0.2089335714270366,
          -0.06216972267548333,
          -0.04050998067044344,
          -0.03222130134376532,
          -0.03140000455947728,
          -0.010409647198967876,
          -0.007122071058446343,
          -0.0566068240702811,
          -0.028004985703273734,
          -0.02899447057694314,
          -0.00985961291943545,
          -0.009620781682508862,
          -0.02737472843056376,
          -0.04496914111367262,
          -0.03358161033432353,
          -0.015987054170945213,
          -0.02059622201808848,
          -0.016914595414103503,
          -0.043961422885018704,
          -0.01673506410775259,
          -0.006354468182579121,
          -0.021002229356170098,
          -0.0520727944610279,
          -0.04494167737883824,
          -0.052657438426994184,
          -0.05362847044955654,
          -0.020621491304150377,
          -0.027133168565623256,
          -0.02834921833229854,
          -0.01413571548665728,
          -0.0410405132252897,
          -0.03987479624502916,
          -0.05378115210553656,
          -0.05788106750486257,
          -0.008310304942095293,
          -0.0593266587572259,
          -0.05257116244352127,
          -0.04970985675226292,
          -0.029159391490064863,
          -0.02647525166741847,
          -0.0376756334424762,
          -0.016582560880374114,
          -0.01653567276667883,
          -0.00910381801866975,
          -0.04852290514036619,
          -0.006455947816709716,
          -0.006940615350863753,
          -0.015949352304233517,
          -0.05364680134839287,
          -0.02018191778179512,
          -0.03865537438702844,
          -0.005299723450681468
         ],
         "xaxis": "x",
         "y": [
          0.3730238798764885,
          0.315128375632862,
          0.6717394982880004,
          0.18477081062336423,
          0.3854874764405924,
          0.2276252798172511,
          0.05882576409836454,
          0.24415439079879925,
          0.4217880187924331,
          0.17859492422864945,
          0.4986426769631621,
          0.6053599431092843,
          0.37177908840366597,
          0.48905080662383665,
          0.4528348501100406,
          0.5117533980986079,
          0.3233886131365237,
          0.4300503988932888,
          0.3866794918371434,
          0.12751002618113572,
          0.045569964816245916,
          0.6671372793285445,
          0.23854522379307935,
          0.6898335297797004,
          0.494817938495585,
          0.622353295983708,
          0.40529431958831397,
          0.16955947382241432,
          0.21033500168504118,
          0.6473204181774078,
          0.32380977315237564,
          0.4019801659955062,
          0.5204195118690912,
          0.1447188104774896,
          0.23089838862728218,
          0.5987976155160242,
          0.45833915752017435,
          0.3702052085946158,
          0.4285229563177577,
          0.31356700590887987,
          0.037443686742837726,
          0.2818145078788219,
          0.24653647048934524,
          0.549161677740202,
          0.5930495696721602,
          0.1518535559567098,
          0.2837243519132329,
          0.36280860391915176,
          0.12460418057759594,
          0.48413737300084886,
          -0.06377410863526481,
          -0.05579322891424403,
          0.001784417888384304,
          -0.10023867801536071,
          -0.059013998114191286,
          -0.11774580109132189,
          -0.0007755787527829786,
          -0.01117788737988265,
          -0.01018482017243477,
          -0.05905361431401651,
          -0.00531860693311586,
          -0.009039230900278642,
          -0.10437427052834569,
          -0.1350514778658907,
          -0.1119932191487917,
          0.000369325457830814,
          -0.09847794727478106,
          -0.07668413095883109,
          -0.09774571503754971,
          -0.05657830740826386,
          -0.13731174543395014,
          -0.03740325190626377,
          -0.003300030391035949,
          -0.040828152075956636,
          -0.09103486212976754,
          -0.01865040827044767,
          -0.11124219060563169,
          -0.11452715555435662,
          -0.11205531326887246,
          -0.10841659907624616,
          -0.08983219812853244,
          -0.06947537135609974,
          -0.08472511464603164,
          -0.08191360794962448,
          -0.08074771626408377,
          -0.13768630271738916,
          -0.09995048139069299,
          -0.09780427972822683,
          -0.06881772293034356,
          -0.012985727038492158,
          -0.08686357875370773,
          -0.07601769799997547,
          -0.06001301219671176,
          -0.11613514709025649,
          -0.05441941136042988,
          -0.06335228033950219,
          -0.03239120301654171,
          -0.1190883821352656,
          -0.13190797691930178,
          -0.0742749988563085,
          0.03916334192780002,
          0.02581947475093313,
          0.022288973123116586,
          0.03185486018197731,
          0.030329943707385943,
          0.033642894314042354,
          0.029695862851681225,
          0.03580996566968697,
          0.01629282983260059,
          0.00659105500571922,
          0.033485244236515166,
          0.02693087129646367,
          0.011938112229839828,
          0.006746201191074156,
          0.03396452096638894,
          0.020663038431767363,
          0.019743529662275484,
          0.03130503719542861,
          0.008712463847055069,
          0.01907789460589002,
          0.007496975854828972,
          0.012578247077589323,
          0.036758671728711896,
          0.06022961305112497,
          0.052468753172173366,
          0.05095239228435157,
          0.026352119667376567,
          0.016560343573964454,
          0.04059033461562327,
          0.03506270367326833,
          0.05297232435552991,
          0.04108610185528076,
          0.03948967772093878,
          0.05815595468042947,
          0.039813751271684204,
          0.034476528252588144,
          0.007868139453162637,
          0.06034678296379343,
          0.010404250676825395,
          0.005793082812740278,
          0.04083765749017312,
          0.013906714053560542,
          0.047182735451602884,
          0.047401365203448564,
          0.04898014623389168,
          0.055271771875727654,
          0.05534120857232797,
          0.030855211465639444,
          0.0402210159957187,
          0.026547923030295222,
          -0.5670623083983626,
          -0.4978115501667156,
          -0.4948070682760821,
          -0.5686042674673912,
          -0.4080820551431505,
          -0.09695548646759973,
          -0.14800502320298,
          -0.6009382836939301,
          -0.3609787845828442,
          -0.19428386010631873,
          -0.4546649611283776,
          -0.41945258928036283,
          -0.4628914927396538,
          -0.10382739848177881,
          -0.0013706561295129267,
          -0.23821276262745733,
          -0.358834335137722,
          -0.6538685281007764,
          -0.5796872818225963,
          -0.24011221248367842,
          -0.5724386372936214,
          -0.3925800523702152,
          -0.09978815516595663,
          -0.5655193761350754,
          -0.3341645525461855,
          -0.5014207033564193,
          -0.42106852534576306,
          -0.3044229190042725,
          -0.40194606751469536,
          -0.053162769969617336,
          -0.5460526288421533,
          -0.13405250990068932,
          -0.03661526339587127,
          -0.6048758748613624,
          -0.6344848293676785,
          -0.09511948957410378,
          -0.1740473084073652,
          -0.48374126612974905,
          -0.3185504888454434,
          -0.289023769533345,
          -0.15710646860209887,
          -0.1293598012553886,
          -0.6717481592640117,
          -0.5691278986236091,
          -0.5690573231732258,
          -0.13988771701222574,
          -0.11818236845633918,
          -0.2877844119287055,
          -0.31654968027794467,
          -0.08641073794475257,
          0.030387600842686505,
          0.024016982536061028,
          0.023385739834667376,
          0.007252704692015281,
          0.004725897715924271,
          0.042759516946598235,
          0.02077635317314514,
          0.021536864009900316,
          0.006829952367747819,
          0.006646388425870931,
          0.020291942043076827,
          0.03381487894480618,
          0.02506250607682883,
          0.01153945889721379,
          0.01508203159281938,
          0.012252360312617266,
          0.03304035408476968,
          0.012114373863657865,
          0.004135923759822641,
          0.015394085863308772,
          0.039274694951069715,
          0.033793770519083756,
          0.03972404802719308,
          0.040470376137552555,
          0.0151014533812656,
          0.020106280897665776,
          0.021040927854077105,
          0.010116533525263684,
          0.03079536428399687,
          0.02989940273908713,
          0.04058772614161671,
          0.043738891130530554,
          0.0056391655880884675,
          0.04484996199396258,
          0.039657736937323114,
          0.037458558310770135,
          0.021663621017484987,
          0.019600610781746183,
          0.028209142293843376,
          0.011997160998511813,
          0.011961123137267883,
          0.006249053934945045,
          0.03654627598329609,
          0.0042139202643877655,
          0.004586432186253389,
          0.011510481518212731,
          0.040484465132324954,
          0.014763600387048425,
          0.028962164017946747,
          0.003325254673347457
         ],
         "yaxis": "y"
        }
       ],
       "layout": {
        "autosize": false,
        "coloraxis": {
         "colorbar": {
          "title": {
           "text": "color"
          }
         },
         "colorscale": [
          [
           0,
           "#0d0887"
          ],
          [
           0.1111111111111111,
           "#46039f"
          ],
          [
           0.2222222222222222,
           "#7201a8"
          ],
          [
           0.3333333333333333,
           "#9c179e"
          ],
          [
           0.4444444444444444,
           "#bd3786"
          ],
          [
           0.5555555555555556,
           "#d8576b"
          ],
          [
           0.6666666666666666,
           "#ed7953"
          ],
          [
           0.7777777777777778,
           "#fb9f3a"
          ],
          [
           0.8888888888888888,
           "#fdca26"
          ],
          [
           1,
           "#f0f921"
          ]
         ],
         "showscale": false
        },
        "height": 400,
        "legend": {
         "tracegroupgap": 0
        },
        "margin": {
         "b": 0,
         "l": 0,
         "r": 0,
         "t": 0
        },
        "plot_bgcolor": "white",
        "template": {
         "data": {
          "bar": [
           {
            "error_x": {
             "color": "#2a3f5f"
            },
            "error_y": {
             "color": "#2a3f5f"
            },
            "marker": {
             "line": {
              "color": "#E5ECF6",
              "width": 0.5
             },
             "pattern": {
              "fillmode": "overlay",
              "size": 10,
              "solidity": 0.2
             }
            },
            "type": "bar"
           }
          ],
          "barpolar": [
           {
            "marker": {
             "line": {
              "color": "#E5ECF6",
              "width": 0.5
             },
             "pattern": {
              "fillmode": "overlay",
              "size": 10,
              "solidity": 0.2
             }
            },
            "type": "barpolar"
           }
          ],
          "carpet": [
           {
            "aaxis": {
             "endlinecolor": "#2a3f5f",
             "gridcolor": "white",
             "linecolor": "white",
             "minorgridcolor": "white",
             "startlinecolor": "#2a3f5f"
            },
            "baxis": {
             "endlinecolor": "#2a3f5f",
             "gridcolor": "white",
             "linecolor": "white",
             "minorgridcolor": "white",
             "startlinecolor": "#2a3f5f"
            },
            "type": "carpet"
           }
          ],
          "choropleth": [
           {
            "colorbar": {
             "outlinewidth": 0,
             "ticks": ""
            },
            "type": "choropleth"
           }
          ],
          "contour": [
           {
            "colorbar": {
             "outlinewidth": 0,
             "ticks": ""
            },
            "colorscale": [
             [
              0,
              "#0d0887"
             ],
             [
              0.1111111111111111,
              "#46039f"
             ],
             [
              0.2222222222222222,
              "#7201a8"
             ],
             [
              0.3333333333333333,
              "#9c179e"
             ],
             [
              0.4444444444444444,
              "#bd3786"
             ],
             [
              0.5555555555555556,
              "#d8576b"
             ],
             [
              0.6666666666666666,
              "#ed7953"
             ],
             [
              0.7777777777777778,
              "#fb9f3a"
             ],
             [
              0.8888888888888888,
              "#fdca26"
             ],
             [
              1,
              "#f0f921"
             ]
            ],
            "type": "contour"
           }
          ],
          "contourcarpet": [
           {
            "colorbar": {
             "outlinewidth": 0,
             "ticks": ""
            },
            "type": "contourcarpet"
           }
          ],
          "heatmap": [
           {
            "colorbar": {
             "outlinewidth": 0,
             "ticks": ""
            },
            "colorscale": [
             [
              0,
              "#0d0887"
             ],
             [
              0.1111111111111111,
              "#46039f"
             ],
             [
              0.2222222222222222,
              "#7201a8"
             ],
             [
              0.3333333333333333,
              "#9c179e"
             ],
             [
              0.4444444444444444,
              "#bd3786"
             ],
             [
              0.5555555555555556,
              "#d8576b"
             ],
             [
              0.6666666666666666,
              "#ed7953"
             ],
             [
              0.7777777777777778,
              "#fb9f3a"
             ],
             [
              0.8888888888888888,
              "#fdca26"
             ],
             [
              1,
              "#f0f921"
             ]
            ],
            "type": "heatmap"
           }
          ],
          "heatmapgl": [
           {
            "colorbar": {
             "outlinewidth": 0,
             "ticks": ""
            },
            "colorscale": [
             [
              0,
              "#0d0887"
             ],
             [
              0.1111111111111111,
              "#46039f"
             ],
             [
              0.2222222222222222,
              "#7201a8"
             ],
             [
              0.3333333333333333,
              "#9c179e"
             ],
             [
              0.4444444444444444,
              "#bd3786"
             ],
             [
              0.5555555555555556,
              "#d8576b"
             ],
             [
              0.6666666666666666,
              "#ed7953"
             ],
             [
              0.7777777777777778,
              "#fb9f3a"
             ],
             [
              0.8888888888888888,
              "#fdca26"
             ],
             [
              1,
              "#f0f921"
             ]
            ],
            "type": "heatmapgl"
           }
          ],
          "histogram": [
           {
            "marker": {
             "pattern": {
              "fillmode": "overlay",
              "size": 10,
              "solidity": 0.2
             }
            },
            "type": "histogram"
           }
          ],
          "histogram2d": [
           {
            "colorbar": {
             "outlinewidth": 0,
             "ticks": ""
            },
            "colorscale": [
             [
              0,
              "#0d0887"
             ],
             [
              0.1111111111111111,
              "#46039f"
             ],
             [
              0.2222222222222222,
              "#7201a8"
             ],
             [
              0.3333333333333333,
              "#9c179e"
             ],
             [
              0.4444444444444444,
              "#bd3786"
             ],
             [
              0.5555555555555556,
              "#d8576b"
             ],
             [
              0.6666666666666666,
              "#ed7953"
             ],
             [
              0.7777777777777778,
              "#fb9f3a"
             ],
             [
              0.8888888888888888,
              "#fdca26"
             ],
             [
              1,
              "#f0f921"
             ]
            ],
            "type": "histogram2d"
           }
          ],
          "histogram2dcontour": [
           {
            "colorbar": {
             "outlinewidth": 0,
             "ticks": ""
            },
            "colorscale": [
             [
              0,
              "#0d0887"
             ],
             [
              0.1111111111111111,
              "#46039f"
             ],
             [
              0.2222222222222222,
              "#7201a8"
             ],
             [
              0.3333333333333333,
              "#9c179e"
             ],
             [
              0.4444444444444444,
              "#bd3786"
             ],
             [
              0.5555555555555556,
              "#d8576b"
             ],
             [
              0.6666666666666666,
              "#ed7953"
             ],
             [
              0.7777777777777778,
              "#fb9f3a"
             ],
             [
              0.8888888888888888,
              "#fdca26"
             ],
             [
              1,
              "#f0f921"
             ]
            ],
            "type": "histogram2dcontour"
           }
          ],
          "mesh3d": [
           {
            "colorbar": {
             "outlinewidth": 0,
             "ticks": ""
            },
            "type": "mesh3d"
           }
          ],
          "parcoords": [
           {
            "line": {
             "colorbar": {
              "outlinewidth": 0,
              "ticks": ""
             }
            },
            "type": "parcoords"
           }
          ],
          "pie": [
           {
            "automargin": true,
            "type": "pie"
           }
          ],
          "scatter": [
           {
            "marker": {
             "colorbar": {
              "outlinewidth": 0,
              "ticks": ""
             }
            },
            "type": "scatter"
           }
          ],
          "scatter3d": [
           {
            "line": {
             "colorbar": {
              "outlinewidth": 0,
              "ticks": ""
             }
            },
            "marker": {
             "colorbar": {
              "outlinewidth": 0,
              "ticks": ""
             }
            },
            "type": "scatter3d"
           }
          ],
          "scattercarpet": [
           {
            "marker": {
             "colorbar": {
              "outlinewidth": 0,
              "ticks": ""
             }
            },
            "type": "scattercarpet"
           }
          ],
          "scattergeo": [
           {
            "marker": {
             "colorbar": {
              "outlinewidth": 0,
              "ticks": ""
             }
            },
            "type": "scattergeo"
           }
          ],
          "scattergl": [
           {
            "marker": {
             "colorbar": {
              "outlinewidth": 0,
              "ticks": ""
             }
            },
            "type": "scattergl"
           }
          ],
          "scattermapbox": [
           {
            "marker": {
             "colorbar": {
              "outlinewidth": 0,
              "ticks": ""
             }
            },
            "type": "scattermapbox"
           }
          ],
          "scatterpolar": [
           {
            "marker": {
             "colorbar": {
              "outlinewidth": 0,
              "ticks": ""
             }
            },
            "type": "scatterpolar"
           }
          ],
          "scatterpolargl": [
           {
            "marker": {
             "colorbar": {
              "outlinewidth": 0,
              "ticks": ""
             }
            },
            "type": "scatterpolargl"
           }
          ],
          "scatterternary": [
           {
            "marker": {
             "colorbar": {
              "outlinewidth": 0,
              "ticks": ""
             }
            },
            "type": "scatterternary"
           }
          ],
          "surface": [
           {
            "colorbar": {
             "outlinewidth": 0,
             "ticks": ""
            },
            "colorscale": [
             [
              0,
              "#0d0887"
             ],
             [
              0.1111111111111111,
              "#46039f"
             ],
             [
              0.2222222222222222,
              "#7201a8"
             ],
             [
              0.3333333333333333,
              "#9c179e"
             ],
             [
              0.4444444444444444,
              "#bd3786"
             ],
             [
              0.5555555555555556,
              "#d8576b"
             ],
             [
              0.6666666666666666,
              "#ed7953"
             ],
             [
              0.7777777777777778,
              "#fb9f3a"
             ],
             [
              0.8888888888888888,
              "#fdca26"
             ],
             [
              1,
              "#f0f921"
             ]
            ],
            "type": "surface"
           }
          ],
          "table": [
           {
            "cells": {
             "fill": {
              "color": "#EBF0F8"
             },
             "line": {
              "color": "white"
             }
            },
            "header": {
             "fill": {
              "color": "#C8D4E3"
             },
             "line": {
              "color": "white"
             }
            },
            "type": "table"
           }
          ]
         },
         "layout": {
          "annotationdefaults": {
           "arrowcolor": "#2a3f5f",
           "arrowhead": 0,
           "arrowwidth": 1
          },
          "autotypenumbers": "strict",
          "coloraxis": {
           "colorbar": {
            "outlinewidth": 0,
            "ticks": ""
           }
          },
          "colorscale": {
           "diverging": [
            [
             0,
             "#8e0152"
            ],
            [
             0.1,
             "#c51b7d"
            ],
            [
             0.2,
             "#de77ae"
            ],
            [
             0.3,
             "#f1b6da"
            ],
            [
             0.4,
             "#fde0ef"
            ],
            [
             0.5,
             "#f7f7f7"
            ],
            [
             0.6,
             "#e6f5d0"
            ],
            [
             0.7,
             "#b8e186"
            ],
            [
             0.8,
             "#7fbc41"
            ],
            [
             0.9,
             "#4d9221"
            ],
            [
             1,
             "#276419"
            ]
           ],
           "sequential": [
            [
             0,
             "#0d0887"
            ],
            [
             0.1111111111111111,
             "#46039f"
            ],
            [
             0.2222222222222222,
             "#7201a8"
            ],
            [
             0.3333333333333333,
             "#9c179e"
            ],
            [
             0.4444444444444444,
             "#bd3786"
            ],
            [
             0.5555555555555556,
             "#d8576b"
            ],
            [
             0.6666666666666666,
             "#ed7953"
            ],
            [
             0.7777777777777778,
             "#fb9f3a"
            ],
            [
             0.8888888888888888,
             "#fdca26"
            ],
            [
             1,
             "#f0f921"
            ]
           ],
           "sequentialminus": [
            [
             0,
             "#0d0887"
            ],
            [
             0.1111111111111111,
             "#46039f"
            ],
            [
             0.2222222222222222,
             "#7201a8"
            ],
            [
             0.3333333333333333,
             "#9c179e"
            ],
            [
             0.4444444444444444,
             "#bd3786"
            ],
            [
             0.5555555555555556,
             "#d8576b"
            ],
            [
             0.6666666666666666,
             "#ed7953"
            ],
            [
             0.7777777777777778,
             "#fb9f3a"
            ],
            [
             0.8888888888888888,
             "#fdca26"
            ],
            [
             1,
             "#f0f921"
            ]
           ]
          },
          "colorway": [
           "#636efa",
           "#EF553B",
           "#00cc96",
           "#ab63fa",
           "#FFA15A",
           "#19d3f3",
           "#FF6692",
           "#B6E880",
           "#FF97FF",
           "#FECB52"
          ],
          "font": {
           "color": "#2a3f5f"
          },
          "geo": {
           "bgcolor": "white",
           "lakecolor": "white",
           "landcolor": "#E5ECF6",
           "showlakes": true,
           "showland": true,
           "subunitcolor": "white"
          },
          "hoverlabel": {
           "align": "left"
          },
          "hovermode": "closest",
          "mapbox": {
           "style": "light"
          },
          "paper_bgcolor": "white",
          "plot_bgcolor": "#E5ECF6",
          "polar": {
           "angularaxis": {
            "gridcolor": "white",
            "linecolor": "white",
            "ticks": ""
           },
           "bgcolor": "#E5ECF6",
           "radialaxis": {
            "gridcolor": "white",
            "linecolor": "white",
            "ticks": ""
           }
          },
          "scene": {
           "xaxis": {
            "backgroundcolor": "#E5ECF6",
            "gridcolor": "white",
            "gridwidth": 2,
            "linecolor": "white",
            "showbackground": true,
            "ticks": "",
            "zerolinecolor": "white"
           },
           "yaxis": {
            "backgroundcolor": "#E5ECF6",
            "gridcolor": "white",
            "gridwidth": 2,
            "linecolor": "white",
            "showbackground": true,
            "ticks": "",
            "zerolinecolor": "white"
           },
           "zaxis": {
            "backgroundcolor": "#E5ECF6",
            "gridcolor": "white",
            "gridwidth": 2,
            "linecolor": "white",
            "showbackground": true,
            "ticks": "",
            "zerolinecolor": "white"
           }
          },
          "shapedefaults": {
           "line": {
            "color": "#2a3f5f"
           }
          },
          "ternary": {
           "aaxis": {
            "gridcolor": "white",
            "linecolor": "white",
            "ticks": ""
           },
           "baxis": {
            "gridcolor": "white",
            "linecolor": "white",
            "ticks": ""
           },
           "bgcolor": "#E5ECF6",
           "caxis": {
            "gridcolor": "white",
            "linecolor": "white",
            "ticks": ""
           }
          },
          "title": {
           "x": 0.05
          },
          "xaxis": {
           "automargin": true,
           "gridcolor": "white",
           "linecolor": "white",
           "ticks": "",
           "title": {
            "standoff": 15
           },
           "zerolinecolor": "white",
           "zerolinewidth": 2
          },
          "yaxis": {
           "automargin": true,
           "gridcolor": "white",
           "linecolor": "white",
           "ticks": "",
           "title": {
            "standoff": 15
           },
           "zerolinecolor": "white",
           "zerolinewidth": 2
          }
         }
        },
        "width": 400,
        "xaxis": {
         "anchor": "y",
         "domain": [
          0,
          1
         ],
         "range": [
          -0.9354501935953065,
          1.3243340292432637
         ],
         "title": {
          "text": "x"
         },
         "visible": false
        },
        "yaxis": {
         "anchor": "x",
         "domain": [
          0,
          1
         ],
         "range": [
          -1.1717481592640118,
          1.1898335297797002
         ],
         "title": {
          "text": "y"
         },
         "visible": false
        }
       }
      },
      "text/html": [
       "<div>                            <div id=\"02fa9b63-ffca-47cd-8415-06aaee8a17b5\" class=\"plotly-graph-div\" style=\"height:400px; width:400px;\"></div>            <script type=\"text/javascript\">                require([\"plotly\"], function(Plotly) {                    window.PLOTLYENV=window.PLOTLYENV || {};                                    if (document.getElementById(\"02fa9b63-ffca-47cd-8415-06aaee8a17b5\")) {                    Plotly.newPlot(                        \"02fa9b63-ffca-47cd-8415-06aaee8a17b5\",                        [{\"hovertemplate\":\"x=%{x}<br>y=%{y}<br>color=%{marker.color}<extra></extra>\",\"legendgroup\":\"\",\"marker\":{\"color\":[1.0,1.0,1.0,1.0,1.0,1.0,1.0,1.0,1.0,1.0,1.0,1.0,1.0,1.0,1.0,1.0,1.0,1.0,1.0,1.0,1.0,1.0,1.0,1.0,1.0,1.0,1.0,1.0,1.0,1.0,1.0,1.0,1.0,1.0,1.0,1.0,1.0,1.0,1.0,1.0,1.0,1.0,1.0,1.0,1.0,1.0,1.0,1.0,1.0,1.0,1.0,1.0,1.0,1.0,1.0,1.0,1.0,1.0,1.0,1.0,1.0,1.0,1.0,1.0,1.0,1.0,1.0,1.0,1.0,1.0,1.0,1.0,1.0,1.0,1.0,1.0,1.0,1.0,1.0,1.0,1.0,1.0,1.0,1.0,1.0,1.0,1.0,1.0,1.0,1.0,1.0,1.0,1.0,1.0,1.0,1.0,1.0,1.0,1.0,1.0,1.0,1.0,1.0,1.0,1.0,1.0,1.0,1.0,1.0,1.0,1.0,1.0,1.0,1.0,1.0,1.0,1.0,1.0,1.0,1.0,1.0,1.0,1.0,1.0,1.0,1.0,1.0,1.0,1.0,1.0,1.0,1.0,1.0,1.0,1.0,1.0,1.0,1.0,1.0,1.0,1.0,1.0,1.0,1.0,1.0,1.0,1.0,1.0,1.0,1.0,1.0,1.0,1.0,1.0,1.0,1.0,1.0,1.0,1.0,1.0,1.0,1.0,1.0,1.0,1.0,1.0,1.0,1.0,1.0,1.0,1.0,1.0,1.0,1.0,1.0,1.0,1.0,1.0,1.0,1.0,1.0,1.0,1.0,1.0,1.0,1.0,1.0,1.0,1.0,1.0,1.0,1.0,1.0,1.0,1.0,1.0,1.0,1.0,1.0,1.0,1.0,1.0,1.0,1.0,1.0,1.0,1.0,1.0,1.0,1.0,1.0,1.0,1.0,1.0,1.0,1.0,1.0,1.0,1.0,1.0,1.0,1.0,1.0,1.0,1.0,1.0,1.0,1.0,1.0,1.0,1.0,1.0,1.0,1.0,1.0,1.0,1.0,1.0,1.0,1.0,1.0,1.0,1.0,1.0,1.0,1.0,1.0,1.0,1.0,1.0],\"coloraxis\":\"coloraxis\",\"opacity\":1,\"symbol\":\"circle\",\"line\":{\"color\":\"black\",\"width\":0.2},\"size\":5},\"mode\":\"markers\",\"name\":\"\",\"orientation\":\"v\",\"showlegend\":false,\"x\":[-0.13815530664671524,-0.11732278253128184,-0.24564206931532995,-0.07041625408544851,-0.14264007933120784,-0.08583656650174505,-0.02509748100920759,-0.09178423217334486,-0.1557020939699574,-0.06819398650296621,-0.18335668547308548,-0.22175673137590646,-0.13770739365735557,-0.17990524528326957,-0.16687366714445057,-0.18807431282244852,-0.1202950616269112,-0.15867514403577318,-0.14306900191887753,-0.049812121029768466,-0.020327650228357582,-0.24398605407356053,-0.08976588708004656,-0.25215283992387416,-0.1819804308329025,-0.2278714450861246,-0.1497671705089471,-0.06494276275181594,-0.07961501025385265,-0.23685535812027841,-0.12044660752501357,-0.1485746394904092,-0.19119263826877295,-0.05600435337206733,-0.08701432838685576,-0.2193954107582521,-0.16885428063695665,-0.1371410648982371,-0.158125524774219,-0.11676095527279419,-0.017403573719400878,-0.1053354622301413,-0.0926413752839629,-0.20153492427979114,-0.21732709292902969,-0.05857164696757473,-0.10602268090840278,-0.13447954657678826,-0.048766511367976266,-0.1781372457507024,0.38903371866198616,0.34203092752021474,0.002931705166256601,0.6037890587447288,0.3609994055969161,0.7068959439751005,0.018008612932639025,0.07927222758203711,0.07342363291916136,0.3612327222275765,0.044764435871423515,0.06667677102227243,0.6281453199502847,0.8088164263574641,0.6730165450839609,0.011265785654202966,0.5934193674137866,0.46506632460540476,0.5891069406993222,0.3466545882912346,0.8221281022803824,0.2337245404271491,0.03287618107650899,0.2538952325043005,0.549583876997857,0.12328107760851356,0.6685934189387713,0.687939973051882,0.673382243736153,0.6519523100447407,0.5425008777747401,0.422610876854955,0.5124230935375819,0.495864936208528,0.48899850477427625,0.8243340292432636,0.6020917463893827,0.5894518530423724,0.41873770589121845,0.08991936334422905,0.5250174171373387,0.46114141779436985,0.36688302393346595,0.6974101183192726,0.3339399323159209,0.38654939262569776,0.20420645527978618,0.7148029741027662,0.7903030138501546,0.4508779221978912,-0.04934097154266675,-0.032937845150231924,-0.028597929017810594,-0.040356923048736754,-0.03848239916903332,-0.04255488781213732,-0.03770294683476705,-0.04521878912926736,-0.02122709004303462,-0.009301054164008166,-0.04236109435532456,-0.03430404415137735,-0.015873995449491314,-0.009491769678030434,-0.042950251656792705,-0.02659922715016298,-0.025468908752579147,-0.03968104582197156,-0.011908824227456241,-0.024650667997001545,-0.010414669429547531,-0.016660889734083795,-0.04638499868375339,-0.0752369658052786,-0.0656968254680672,-0.06383281865731247,-0.03359260600560495,-0.021555934871384845,-0.05109512130369131,-0.04430020737084219,-0.06631584704994452,-0.051704549783872004,-0.04974212416134017,-0.07268789364363296,-0.050140495888431225,-0.04357964343041082,-0.010870927224611134,-0.0753809984804707,-0.0139884757130382,-0.008320136221286575,-0.05139914624018163,-0.018293925452005866,-0.059198917805025904,-0.05946767133840105,-0.061408408940558205,-0.06914247352985754,-0.06922782951365981,-0.03912809155447912,-0.05064113147292649,-0.0338332998964724,-0.3686900954254372,-0.3245276094767304,-0.3226115959533203,-0.36967343116728807,-0.2673054553176756,-0.06889430332072559,-0.10144953457498705,-0.39029342975984094,-0.23726683079750352,-0.1309624025443112,-0.2970122337494876,-0.2745566546819368,-0.30225844470755836,-0.07327664837392737,-0.007938093821979705,-0.1589766740103718,-0.2358992758290636,-0.4240480229884062,-0.37674127386287004,-0.16018798822161903,-0.37211867953563954,-0.2574195421938578,-0.07070074840209306,-0.3677061390596556,-0.22016690040276105,-0.3268292330415419,-0.2755871669189802,-0.20120011206821725,-0.26339242282037567,-0.04096688019376802,-0.3552918352203394,-0.09255175946903928,-0.030414230010434248,-0.3928045042815349,-0.41168668074763337,-0.06772345423428437,-0.11805718023517983,-0.3155547298008386,-0.21020952395816475,-0.19137979039235883,-0.10725369419453941,-0.08955913260254007,-0.43545019359530646,-0.3700073604146969,-0.3699623531481272,-0.09627297868239448,-0.082431077523642,-0.19058942918624425,-0.2089335714270366,-0.06216972267548333,-0.04050998067044344,-0.03222130134376532,-0.03140000455947728,-0.010409647198967876,-0.007122071058446343,-0.0566068240702811,-0.028004985703273734,-0.02899447057694314,-0.00985961291943545,-0.009620781682508862,-0.02737472843056376,-0.04496914111367262,-0.03358161033432353,-0.015987054170945213,-0.02059622201808848,-0.016914595414103503,-0.043961422885018704,-0.01673506410775259,-0.006354468182579121,-0.021002229356170098,-0.0520727944610279,-0.04494167737883824,-0.052657438426994184,-0.05362847044955654,-0.020621491304150377,-0.027133168565623256,-0.02834921833229854,-0.01413571548665728,-0.0410405132252897,-0.03987479624502916,-0.05378115210553656,-0.05788106750486257,-0.008310304942095293,-0.0593266587572259,-0.05257116244352127,-0.04970985675226292,-0.029159391490064863,-0.02647525166741847,-0.0376756334424762,-0.016582560880374114,-0.01653567276667883,-0.00910381801866975,-0.04852290514036619,-0.006455947816709716,-0.006940615350863753,-0.015949352304233517,-0.05364680134839287,-0.02018191778179512,-0.03865537438702844,-0.005299723450681468],\"xaxis\":\"x\",\"y\":[0.3730238798764885,0.315128375632862,0.6717394982880004,0.18477081062336423,0.3854874764405924,0.2276252798172511,0.05882576409836454,0.24415439079879925,0.4217880187924331,0.17859492422864945,0.4986426769631621,0.6053599431092843,0.37177908840366597,0.48905080662383665,0.4528348501100406,0.5117533980986079,0.3233886131365237,0.4300503988932888,0.3866794918371434,0.12751002618113572,0.045569964816245916,0.6671372793285445,0.23854522379307935,0.6898335297797004,0.494817938495585,0.622353295983708,0.40529431958831397,0.16955947382241432,0.21033500168504118,0.6473204181774078,0.32380977315237564,0.4019801659955062,0.5204195118690912,0.1447188104774896,0.23089838862728218,0.5987976155160242,0.45833915752017435,0.3702052085946158,0.4285229563177577,0.31356700590887987,0.037443686742837726,0.2818145078788219,0.24653647048934524,0.549161677740202,0.5930495696721602,0.1518535559567098,0.2837243519132329,0.36280860391915176,0.12460418057759594,0.48413737300084886,-0.06377410863526481,-0.05579322891424403,0.001784417888384304,-0.10023867801536071,-0.059013998114191286,-0.11774580109132189,-0.0007755787527829786,-0.01117788737988265,-0.01018482017243477,-0.05905361431401651,-0.00531860693311586,-0.009039230900278642,-0.10437427052834569,-0.1350514778658907,-0.1119932191487917,0.000369325457830814,-0.09847794727478106,-0.07668413095883109,-0.09774571503754971,-0.05657830740826386,-0.13731174543395014,-0.03740325190626377,-0.003300030391035949,-0.040828152075956636,-0.09103486212976754,-0.01865040827044767,-0.11124219060563169,-0.11452715555435662,-0.11205531326887246,-0.10841659907624616,-0.08983219812853244,-0.06947537135609974,-0.08472511464603164,-0.08191360794962448,-0.08074771626408377,-0.13768630271738916,-0.09995048139069299,-0.09780427972822683,-0.06881772293034356,-0.012985727038492158,-0.08686357875370773,-0.07601769799997547,-0.06001301219671176,-0.11613514709025649,-0.05441941136042988,-0.06335228033950219,-0.03239120301654171,-0.1190883821352656,-0.13190797691930178,-0.0742749988563085,0.03916334192780002,0.02581947475093313,0.022288973123116586,0.03185486018197731,0.030329943707385943,0.033642894314042354,0.029695862851681225,0.03580996566968697,0.01629282983260059,0.00659105500571922,0.033485244236515166,0.02693087129646367,0.011938112229839828,0.006746201191074156,0.03396452096638894,0.020663038431767363,0.019743529662275484,0.03130503719542861,0.008712463847055069,0.01907789460589002,0.007496975854828972,0.012578247077589323,0.036758671728711896,0.06022961305112497,0.052468753172173366,0.05095239228435157,0.026352119667376567,0.016560343573964454,0.04059033461562327,0.03506270367326833,0.05297232435552991,0.04108610185528076,0.03948967772093878,0.05815595468042947,0.039813751271684204,0.034476528252588144,0.007868139453162637,0.06034678296379343,0.010404250676825395,0.005793082812740278,0.04083765749017312,0.013906714053560542,0.047182735451602884,0.047401365203448564,0.04898014623389168,0.055271771875727654,0.05534120857232797,0.030855211465639444,0.0402210159957187,0.026547923030295222,-0.5670623083983626,-0.4978115501667156,-0.4948070682760821,-0.5686042674673912,-0.4080820551431505,-0.09695548646759973,-0.14800502320298,-0.6009382836939301,-0.3609787845828442,-0.19428386010631873,-0.4546649611283776,-0.41945258928036283,-0.4628914927396538,-0.10382739848177881,-0.0013706561295129267,-0.23821276262745733,-0.358834335137722,-0.6538685281007764,-0.5796872818225963,-0.24011221248367842,-0.5724386372936214,-0.3925800523702152,-0.09978815516595663,-0.5655193761350754,-0.3341645525461855,-0.5014207033564193,-0.42106852534576306,-0.3044229190042725,-0.40194606751469536,-0.053162769969617336,-0.5460526288421533,-0.13405250990068932,-0.03661526339587127,-0.6048758748613624,-0.6344848293676785,-0.09511948957410378,-0.1740473084073652,-0.48374126612974905,-0.3185504888454434,-0.289023769533345,-0.15710646860209887,-0.1293598012553886,-0.6717481592640117,-0.5691278986236091,-0.5690573231732258,-0.13988771701222574,-0.11818236845633918,-0.2877844119287055,-0.31654968027794467,-0.08641073794475257,0.030387600842686505,0.024016982536061028,0.023385739834667376,0.007252704692015281,0.004725897715924271,0.042759516946598235,0.02077635317314514,0.021536864009900316,0.006829952367747819,0.006646388425870931,0.020291942043076827,0.03381487894480618,0.02506250607682883,0.01153945889721379,0.01508203159281938,0.012252360312617266,0.03304035408476968,0.012114373863657865,0.004135923759822641,0.015394085863308772,0.039274694951069715,0.033793770519083756,0.03972404802719308,0.040470376137552555,0.0151014533812656,0.020106280897665776,0.021040927854077105,0.010116533525263684,0.03079536428399687,0.02989940273908713,0.04058772614161671,0.043738891130530554,0.0056391655880884675,0.04484996199396258,0.039657736937323114,0.037458558310770135,0.021663621017484987,0.019600610781746183,0.028209142293843376,0.011997160998511813,0.011961123137267883,0.006249053934945045,0.03654627598329609,0.0042139202643877655,0.004586432186253389,0.011510481518212731,0.040484465132324954,0.014763600387048425,0.028962164017946747,0.003325254673347457],\"yaxis\":\"y\",\"type\":\"scatter\"}],                        {\"template\":{\"data\":{\"bar\":[{\"error_x\":{\"color\":\"#2a3f5f\"},\"error_y\":{\"color\":\"#2a3f5f\"},\"marker\":{\"line\":{\"color\":\"#E5ECF6\",\"width\":0.5},\"pattern\":{\"fillmode\":\"overlay\",\"size\":10,\"solidity\":0.2}},\"type\":\"bar\"}],\"barpolar\":[{\"marker\":{\"line\":{\"color\":\"#E5ECF6\",\"width\":0.5},\"pattern\":{\"fillmode\":\"overlay\",\"size\":10,\"solidity\":0.2}},\"type\":\"barpolar\"}],\"carpet\":[{\"aaxis\":{\"endlinecolor\":\"#2a3f5f\",\"gridcolor\":\"white\",\"linecolor\":\"white\",\"minorgridcolor\":\"white\",\"startlinecolor\":\"#2a3f5f\"},\"baxis\":{\"endlinecolor\":\"#2a3f5f\",\"gridcolor\":\"white\",\"linecolor\":\"white\",\"minorgridcolor\":\"white\",\"startlinecolor\":\"#2a3f5f\"},\"type\":\"carpet\"}],\"choropleth\":[{\"colorbar\":{\"outlinewidth\":0,\"ticks\":\"\"},\"type\":\"choropleth\"}],\"contour\":[{\"colorbar\":{\"outlinewidth\":0,\"ticks\":\"\"},\"colorscale\":[[0.0,\"#0d0887\"],[0.1111111111111111,\"#46039f\"],[0.2222222222222222,\"#7201a8\"],[0.3333333333333333,\"#9c179e\"],[0.4444444444444444,\"#bd3786\"],[0.5555555555555556,\"#d8576b\"],[0.6666666666666666,\"#ed7953\"],[0.7777777777777778,\"#fb9f3a\"],[0.8888888888888888,\"#fdca26\"],[1.0,\"#f0f921\"]],\"type\":\"contour\"}],\"contourcarpet\":[{\"colorbar\":{\"outlinewidth\":0,\"ticks\":\"\"},\"type\":\"contourcarpet\"}],\"heatmap\":[{\"colorbar\":{\"outlinewidth\":0,\"ticks\":\"\"},\"colorscale\":[[0.0,\"#0d0887\"],[0.1111111111111111,\"#46039f\"],[0.2222222222222222,\"#7201a8\"],[0.3333333333333333,\"#9c179e\"],[0.4444444444444444,\"#bd3786\"],[0.5555555555555556,\"#d8576b\"],[0.6666666666666666,\"#ed7953\"],[0.7777777777777778,\"#fb9f3a\"],[0.8888888888888888,\"#fdca26\"],[1.0,\"#f0f921\"]],\"type\":\"heatmap\"}],\"heatmapgl\":[{\"colorbar\":{\"outlinewidth\":0,\"ticks\":\"\"},\"colorscale\":[[0.0,\"#0d0887\"],[0.1111111111111111,\"#46039f\"],[0.2222222222222222,\"#7201a8\"],[0.3333333333333333,\"#9c179e\"],[0.4444444444444444,\"#bd3786\"],[0.5555555555555556,\"#d8576b\"],[0.6666666666666666,\"#ed7953\"],[0.7777777777777778,\"#fb9f3a\"],[0.8888888888888888,\"#fdca26\"],[1.0,\"#f0f921\"]],\"type\":\"heatmapgl\"}],\"histogram\":[{\"marker\":{\"pattern\":{\"fillmode\":\"overlay\",\"size\":10,\"solidity\":0.2}},\"type\":\"histogram\"}],\"histogram2d\":[{\"colorbar\":{\"outlinewidth\":0,\"ticks\":\"\"},\"colorscale\":[[0.0,\"#0d0887\"],[0.1111111111111111,\"#46039f\"],[0.2222222222222222,\"#7201a8\"],[0.3333333333333333,\"#9c179e\"],[0.4444444444444444,\"#bd3786\"],[0.5555555555555556,\"#d8576b\"],[0.6666666666666666,\"#ed7953\"],[0.7777777777777778,\"#fb9f3a\"],[0.8888888888888888,\"#fdca26\"],[1.0,\"#f0f921\"]],\"type\":\"histogram2d\"}],\"histogram2dcontour\":[{\"colorbar\":{\"outlinewidth\":0,\"ticks\":\"\"},\"colorscale\":[[0.0,\"#0d0887\"],[0.1111111111111111,\"#46039f\"],[0.2222222222222222,\"#7201a8\"],[0.3333333333333333,\"#9c179e\"],[0.4444444444444444,\"#bd3786\"],[0.5555555555555556,\"#d8576b\"],[0.6666666666666666,\"#ed7953\"],[0.7777777777777778,\"#fb9f3a\"],[0.8888888888888888,\"#fdca26\"],[1.0,\"#f0f921\"]],\"type\":\"histogram2dcontour\"}],\"mesh3d\":[{\"colorbar\":{\"outlinewidth\":0,\"ticks\":\"\"},\"type\":\"mesh3d\"}],\"parcoords\":[{\"line\":{\"colorbar\":{\"outlinewidth\":0,\"ticks\":\"\"}},\"type\":\"parcoords\"}],\"pie\":[{\"automargin\":true,\"type\":\"pie\"}],\"scatter\":[{\"marker\":{\"colorbar\":{\"outlinewidth\":0,\"ticks\":\"\"}},\"type\":\"scatter\"}],\"scatter3d\":[{\"line\":{\"colorbar\":{\"outlinewidth\":0,\"ticks\":\"\"}},\"marker\":{\"colorbar\":{\"outlinewidth\":0,\"ticks\":\"\"}},\"type\":\"scatter3d\"}],\"scattercarpet\":[{\"marker\":{\"colorbar\":{\"outlinewidth\":0,\"ticks\":\"\"}},\"type\":\"scattercarpet\"}],\"scattergeo\":[{\"marker\":{\"colorbar\":{\"outlinewidth\":0,\"ticks\":\"\"}},\"type\":\"scattergeo\"}],\"scattergl\":[{\"marker\":{\"colorbar\":{\"outlinewidth\":0,\"ticks\":\"\"}},\"type\":\"scattergl\"}],\"scattermapbox\":[{\"marker\":{\"colorbar\":{\"outlinewidth\":0,\"ticks\":\"\"}},\"type\":\"scattermapbox\"}],\"scatterpolar\":[{\"marker\":{\"colorbar\":{\"outlinewidth\":0,\"ticks\":\"\"}},\"type\":\"scatterpolar\"}],\"scatterpolargl\":[{\"marker\":{\"colorbar\":{\"outlinewidth\":0,\"ticks\":\"\"}},\"type\":\"scatterpolargl\"}],\"scatterternary\":[{\"marker\":{\"colorbar\":{\"outlinewidth\":0,\"ticks\":\"\"}},\"type\":\"scatterternary\"}],\"surface\":[{\"colorbar\":{\"outlinewidth\":0,\"ticks\":\"\"},\"colorscale\":[[0.0,\"#0d0887\"],[0.1111111111111111,\"#46039f\"],[0.2222222222222222,\"#7201a8\"],[0.3333333333333333,\"#9c179e\"],[0.4444444444444444,\"#bd3786\"],[0.5555555555555556,\"#d8576b\"],[0.6666666666666666,\"#ed7953\"],[0.7777777777777778,\"#fb9f3a\"],[0.8888888888888888,\"#fdca26\"],[1.0,\"#f0f921\"]],\"type\":\"surface\"}],\"table\":[{\"cells\":{\"fill\":{\"color\":\"#EBF0F8\"},\"line\":{\"color\":\"white\"}},\"header\":{\"fill\":{\"color\":\"#C8D4E3\"},\"line\":{\"color\":\"white\"}},\"type\":\"table\"}]},\"layout\":{\"annotationdefaults\":{\"arrowcolor\":\"#2a3f5f\",\"arrowhead\":0,\"arrowwidth\":1},\"autotypenumbers\":\"strict\",\"coloraxis\":{\"colorbar\":{\"outlinewidth\":0,\"ticks\":\"\"}},\"colorscale\":{\"diverging\":[[0,\"#8e0152\"],[0.1,\"#c51b7d\"],[0.2,\"#de77ae\"],[0.3,\"#f1b6da\"],[0.4,\"#fde0ef\"],[0.5,\"#f7f7f7\"],[0.6,\"#e6f5d0\"],[0.7,\"#b8e186\"],[0.8,\"#7fbc41\"],[0.9,\"#4d9221\"],[1,\"#276419\"]],\"sequential\":[[0.0,\"#0d0887\"],[0.1111111111111111,\"#46039f\"],[0.2222222222222222,\"#7201a8\"],[0.3333333333333333,\"#9c179e\"],[0.4444444444444444,\"#bd3786\"],[0.5555555555555556,\"#d8576b\"],[0.6666666666666666,\"#ed7953\"],[0.7777777777777778,\"#fb9f3a\"],[0.8888888888888888,\"#fdca26\"],[1.0,\"#f0f921\"]],\"sequentialminus\":[[0.0,\"#0d0887\"],[0.1111111111111111,\"#46039f\"],[0.2222222222222222,\"#7201a8\"],[0.3333333333333333,\"#9c179e\"],[0.4444444444444444,\"#bd3786\"],[0.5555555555555556,\"#d8576b\"],[0.6666666666666666,\"#ed7953\"],[0.7777777777777778,\"#fb9f3a\"],[0.8888888888888888,\"#fdca26\"],[1.0,\"#f0f921\"]]},\"colorway\":[\"#636efa\",\"#EF553B\",\"#00cc96\",\"#ab63fa\",\"#FFA15A\",\"#19d3f3\",\"#FF6692\",\"#B6E880\",\"#FF97FF\",\"#FECB52\"],\"font\":{\"color\":\"#2a3f5f\"},\"geo\":{\"bgcolor\":\"white\",\"lakecolor\":\"white\",\"landcolor\":\"#E5ECF6\",\"showlakes\":true,\"showland\":true,\"subunitcolor\":\"white\"},\"hoverlabel\":{\"align\":\"left\"},\"hovermode\":\"closest\",\"mapbox\":{\"style\":\"light\"},\"paper_bgcolor\":\"white\",\"plot_bgcolor\":\"#E5ECF6\",\"polar\":{\"angularaxis\":{\"gridcolor\":\"white\",\"linecolor\":\"white\",\"ticks\":\"\"},\"bgcolor\":\"#E5ECF6\",\"radialaxis\":{\"gridcolor\":\"white\",\"linecolor\":\"white\",\"ticks\":\"\"}},\"scene\":{\"xaxis\":{\"backgroundcolor\":\"#E5ECF6\",\"gridcolor\":\"white\",\"gridwidth\":2,\"linecolor\":\"white\",\"showbackground\":true,\"ticks\":\"\",\"zerolinecolor\":\"white\"},\"yaxis\":{\"backgroundcolor\":\"#E5ECF6\",\"gridcolor\":\"white\",\"gridwidth\":2,\"linecolor\":\"white\",\"showbackground\":true,\"ticks\":\"\",\"zerolinecolor\":\"white\"},\"zaxis\":{\"backgroundcolor\":\"#E5ECF6\",\"gridcolor\":\"white\",\"gridwidth\":2,\"linecolor\":\"white\",\"showbackground\":true,\"ticks\":\"\",\"zerolinecolor\":\"white\"}},\"shapedefaults\":{\"line\":{\"color\":\"#2a3f5f\"}},\"ternary\":{\"aaxis\":{\"gridcolor\":\"white\",\"linecolor\":\"white\",\"ticks\":\"\"},\"baxis\":{\"gridcolor\":\"white\",\"linecolor\":\"white\",\"ticks\":\"\"},\"bgcolor\":\"#E5ECF6\",\"caxis\":{\"gridcolor\":\"white\",\"linecolor\":\"white\",\"ticks\":\"\"}},\"title\":{\"x\":0.05},\"xaxis\":{\"automargin\":true,\"gridcolor\":\"white\",\"linecolor\":\"white\",\"ticks\":\"\",\"title\":{\"standoff\":15},\"zerolinecolor\":\"white\",\"zerolinewidth\":2},\"yaxis\":{\"automargin\":true,\"gridcolor\":\"white\",\"linecolor\":\"white\",\"ticks\":\"\",\"title\":{\"standoff\":15},\"zerolinecolor\":\"white\",\"zerolinewidth\":2}}},\"xaxis\":{\"anchor\":\"y\",\"domain\":[0.0,1.0],\"title\":{\"text\":\"x\"},\"visible\":false,\"range\":[-0.9354501935953065,1.3243340292432637]},\"yaxis\":{\"anchor\":\"x\",\"domain\":[0.0,1.0],\"title\":{\"text\":\"y\"},\"visible\":false,\"range\":[-1.1717481592640118,1.1898335297797002]},\"coloraxis\":{\"colorbar\":{\"title\":{\"text\":\"color\"}},\"colorscale\":[[0.0,\"#0d0887\"],[0.1111111111111111,\"#46039f\"],[0.2222222222222222,\"#7201a8\"],[0.3333333333333333,\"#9c179e\"],[0.4444444444444444,\"#bd3786\"],[0.5555555555555556,\"#d8576b\"],[0.6666666666666666,\"#ed7953\"],[0.7777777777777778,\"#fb9f3a\"],[0.8888888888888888,\"#fdca26\"],[1.0,\"#f0f921\"]],\"showscale\":false},\"legend\":{\"tracegroupgap\":0},\"margin\":{\"t\":0,\"l\":0,\"r\":0,\"b\":0},\"plot_bgcolor\":\"white\",\"width\":400,\"height\":400,\"autosize\":false},                        {\"responsive\": true}                    ).then(function(){\n",
       "                            \n",
       "var gd = document.getElementById('02fa9b63-ffca-47cd-8415-06aaee8a17b5');\n",
       "var x = new MutationObserver(function (mutations, observer) {{\n",
       "        var display = window.getComputedStyle(gd).display;\n",
       "        if (!display || display === 'none') {{\n",
       "            console.log([gd, 'removed!']);\n",
       "            Plotly.purge(gd);\n",
       "            observer.disconnect();\n",
       "        }}\n",
       "}});\n",
       "\n",
       "// Listen for the removal of the full notebook cells\n",
       "var notebookContainer = gd.closest('#notebook-container');\n",
       "if (notebookContainer) {{\n",
       "    x.observe(notebookContainer, {childList: true});\n",
       "}}\n",
       "\n",
       "// Listen for the clearing of the current output cell\n",
       "var outputEl = gd.closest('.output');\n",
       "if (outputEl) {{\n",
       "    x.observe(outputEl, {childList: true});\n",
       "}}\n",
       "\n",
       "                        })                };                });            </script>        </div>"
      ]
     },
     "metadata": {},
     "output_type": "display_data"
    }
   ],
   "source": [
    "from dr_visualization import plotly_2D_scatter\n",
    "fig = plotly_2D_scatter(X_pca, y = np.ones(X.shape[0]), \n",
    "                        save_path=\"images/Tendril/PCA.pdf\",\n",
    "                  width=400, height=400, \n",
    "                  autosize=False, margin = {'l':0,'r':0,'t':0,'b':0})\n",
    "fig.show()"
   ]
  },
  {
   "cell_type": "markdown",
   "id": "627d99cf",
   "metadata": {},
   "source": [
    "Only see 4 clear tendrils."
   ]
  },
  {
   "cell_type": "markdown",
   "id": "9924ace7",
   "metadata": {},
   "source": [
    "## PH"
   ]
  },
  {
   "cell_type": "code",
   "execution_count": 5,
   "id": "8fde812b",
   "metadata": {},
   "outputs": [],
   "source": [
    "from PH_projection_pursuit import bottleneck_proj_pursuit, subsample_bats\n",
    "Y, inds, dHY = subsample_bats(X, k = 100)\n",
    "P, opt_info = bottleneck_proj_pursuit(Y, opt_dim = 0, \n",
    "                                      optimizer_iter=10, scheduler_iter=20)"
   ]
  },
  {
   "cell_type": "code",
   "execution_count": 6,
   "id": "a369572c",
   "metadata": {},
   "outputs": [
    {
     "data": {
      "text/plain": [
       "<matplotlib.collections.PathCollection at 0x7f43b28dbe80>"
      ]
     },
     "execution_count": 6,
     "metadata": {},
     "output_type": "execute_result"
    },
    {
     "data": {
      "image/png": "[encoded data removed]",
      "text/plain": [
       "<Figure size 432x288 with 1 Axes>"
      ]
     },
     "metadata": {
      "needs_background": "light"
     },
     "output_type": "display_data"
    }
   ],
   "source": [
    "X_PH = X @ P.T\n",
    "plt.scatter(X_PH[:, 0],X_PH[:,1])"
   ]
  },
  {
   "cell_type": "code",
   "execution_count": 7,
   "id": "9f7b039b",
   "metadata": {},
   "outputs": [
    {
     "data": {
      "text/plain": [
       "Text(0.5, 1.0, 'learning rate')"
      ]
     },
     "execution_count": 7,
     "metadata": {},
     "output_type": "execute_result"
    },
    {
     "data": {
      "image/png": "[encoded data removed]",
      "text/plain": [
       "<Figure size 720x360 with 2 Axes>"
      ]
     },
     "metadata": {
      "needs_background": "light"
     },
     "output_type": "display_data"
    }
   ],
   "source": [
    "fig, (ax1, ax2) = plt.subplots(1, 2)\n",
    "fig.set_size_inches(10, 5)\n",
    "fig.suptitle('Optimization Information')\n",
    "ax1.plot(opt_info['losses'])\n",
    "ax1.set_title('loss')\n",
    "ax2.plot(opt_info['lrs'])\n",
    "ax2.set_title('learning rate')"
   ]
  },
  {
   "cell_type": "markdown",
   "id": "60f99bc6",
   "metadata": {},
   "source": [
    "Able to see 5"
   ]
  },
  {
   "cell_type": "code",
   "execution_count": 8,
   "id": "39bfff05",
   "metadata": {},
   "outputs": [
    {
     "data": {
      "application/vnd.plotly.v1+json": {
       "config": {
        "plotlyServerURL": "https://plot.ly"
       },
       "data": [
        {
         "hovertemplate": "x=%{x}<br>y=%{y}<br>color=%{marker.color}<extra></extra>",
         "legendgroup": "",
         "marker": {
          "color": [
           1,
           1,
           1,
           1,
           1,
           1,
           1,
           1,
           1,
           1,
           1,
           1,
           1,
           1,
           1,
           1,
           1,
           1,
           1,
           1,
           1,
           1,
           1,
           1,
           1,
           1,
           1,
           1,
           1,
           1,
           1,
           1,
           1,
           1,
           1,
           1,
           1,
           1,
           1,
           1,
           1,
           1,
           1,
           1,
           1,
           1,
           1,
           1,
           1,
           1,
           1,
           1,
           1,
           1,
           1,
           1,
           1,
           1,
           1,
           1,
           1,
           1,
           1,
           1,
           1,
           1,
           1,
           1,
           1,
           1,
           1,
           1,
           1,
           1,
           1,
           1,
           1,
           1,
           1,
           1,
           1,
           1,
           1,
           1,
           1,
           1,
           1,
           1,
           1,
           1,
           1,
           1,
           1,
           1,
           1,
           1,
           1,
           1,
           1,
           1,
           1,
           1,
           1,
           1,
           1,
           1,
           1,
           1,
           1,
           1,
           1,
           1,
           1,
           1,
           1,
           1,
           1,
           1,
           1,
           1,
           1,
           1,
           1,
           1,
           1,
           1,
           1,
           1,
           1,
           1,
           1,
           1,
           1,
           1,
           1,
           1,
           1,
           1,
           1,
           1,
           1,
           1,
           1,
           1,
           1,
           1,
           1,
           1,
           1,
           1,
           1,
           1,
           1,
           1,
           1,
           1,
           1,
           1,
           1,
           1,
           1,
           1,
           1,
           1,
           1,
           1,
           1,
           1,
           1,
           1,
           1,
           1,
           1,
           1,
           1,
           1,
           1,
           1,
           1,
           1,
           1,
           1,
           1,
           1,
           1,
           1,
           1,
           1,
           1,
           1,
           1,
           1,
           1,
           1,
           1,
           1,
           1,
           1,
           1,
           1,
           1,
           1,
           1,
           1,
           1,
           1,
           1,
           1,
           1,
           1,
           1,
           1,
           1,
           1,
           1,
           1,
           1,
           1,
           1,
           1,
           1,
           1,
           1,
           1,
           1,
           1,
           1,
           1,
           1,
           1,
           1,
           1,
           1,
           1,
           1,
           1,
           1,
           1,
           1,
           1,
           1,
           1,
           1,
           1,
           1,
           1,
           1,
           1,
           1,
           1
          ],
          "coloraxis": "coloraxis",
          "line": {
           "color": "black",
           "width": 0.2
          },
          "opacity": 1,
          "size": 5,
          "symbol": "circle"
         },
         "mode": "markers",
         "name": "",
         "orientation": "v",
         "showlegend": false,
         "type": "scatter",
         "x": [
          -0.11255852561979658,
          -0.09494040529224604,
          -0.20346036294980427,
          -0.05527143106102608,
          -0.11635130965111695,
          -0.06831242974814519,
          -0.016945225713557405,
          -0.07334238621859811,
          -0.12739788971748717,
          -0.05339205353330812,
          -0.1507854503420028,
          -0.18326046995799763,
          -0.11217972442897216,
          -0.1478665583138172,
          -0.1368457184753308,
          -0.15477516017462215,
          -0.09745406952533164,
          -0.12991220596208336,
          -0.11671405060938472,
          -0.037846461652210374,
          -0.012911367301901172,
          -0.20205986651297841,
          -0.07163546647525754,
          -0.20896653874352075,
          -0.14962154818027998,
          -0.18843169939319318,
          -0.12237870936797678,
          -0.05064248507284865,
          -0.06305084329838842,
          -0.19602941822797987,
          -0.09758223228914849,
          -0.12137018275533394,
          -0.15741233618984668,
          -0.04308324879803461,
          -0.06930846606588126,
          -0.1812634949134354,
          -0.13852072850483999,
          -0.11170077871083377,
          -0.12944739150989573,
          -0.09446526650500686,
          -0.010438468122890973,
          -0.0848026970481483,
          -0.07406727439715602,
          -0.16615883461675018,
          -0.17951431309615076,
          -0.045254415730624026,
          -0.0853838796882289,
          -0.10944992568018591,
          -0.0369621868166201,
          -0.14637135646831703,
          -0.21226494421902387,
          -0.18694855711577435,
          -0.004304782757140192,
          -0.3279352946377037,
          -0.19716525536037083,
          -0.38347016301667214,
          -0.012425424618225683,
          -0.04542289872844128,
          -0.04227276055794919,
          -0.1972909230919234,
          -0.026836500095449887,
          -0.0386388025872701,
          -0.3410539312567051,
          -0.43836601756197313,
          -0.3652222258980771,
          -0.008793639751740757,
          -0.32235002802909923,
          -0.2532172118987571,
          -0.3200272922637173,
          -0.18943892807183485,
          -0.4455358798716629,
          -0.12861316139146187,
          -0.020433313113163445,
          -0.13947738958645092,
          -0.29873959517452325,
          -0.06912670559128505,
          -0.3628398658088567,
          -0.3732602013068949,
          -0.36541919651231386,
          -0.3538767224644989,
          -0.2949245887498284,
          -0.23035009010060128,
          -0.2787242565895706,
          -0.26980579216488465,
          -0.2661074323018902,
          -0.44672402422558755,
          -0.32702109751069774,
          -0.32021306706945185,
          -0.2282639438728322,
          -0.05115760094396476,
          -0.2855077425019995,
          -0.25110319999098274,
          -0.2003342577910265,
          -0.3783609593191185,
          -0.18259062939134174,
          -0.21092685007402603,
          -0.11271429130344275,
          -0.3877290044745178,
          -0.4283944242533225,
          -0.2455751319498907,
          0.37619068299481256,
          0.23683534490880434,
          0.1999649053700695,
          0.29986528713429406,
          0.28393997492510165,
          0.3185384422010065,
          0.27731801512518806,
          0.3411700344837819,
          0.1373447845020646,
          0.036025272465987454,
          0.31689203943321126,
          0.24844210322685245,
          0.09186672812168706,
          0.03764552608709458,
          0.32189731787633774,
          0.1829846195492135,
          0.17338182196833427,
          0.2941232659374119,
          0.058179992861849335,
          0.1664303290394097,
          0.045486165963616855,
          0.09855191218013006,
          0.35107775102856736,
          0.5961941719153128,
          0.5151444104080666,
          0.4993084476109289,
          0.24239796865399935,
          0.1401385374206371,
          0.3910933379614786,
          0.3333660787961627,
          0.5204034055387045,
          0.396270833389057,
          0.379598738109544,
          0.5745381287688313,
          0.38298316772280877,
          0.32724441460062786,
          0.04936237576437689,
          0.5974178241427373,
          0.07584799888343334,
          0.02769172992828914,
          0.3936762295882068,
          0.11242562376004654,
          0.4599404146836656,
          0.4622236525621822,
          0.47871149385624034,
          0.5444174550148344,
          0.5451426101892719,
          0.2894255560588823,
          0.3872363960078386,
          0.24444282142990303,
          0.3482500387871283,
          0.30595537211191304,
          0.3041203949457281,
          0.34919178508011806,
          0.2511533861139784,
          0.061133885216697006,
          0.09231221734303556,
          0.36893967627284585,
          0.222385222724394,
          0.12057686066139373,
          0.27960373859701754,
          0.2580979014309642,
          0.2846280649910791,
          0.06533088226745692,
          0.0027557729535321214,
          0.14740628949341633,
          0.22107550746929308,
          0.4012666442568901,
          0.3559606986614254,
          0.14856637207715392,
          0.3515336134997785,
          0.24168559028297293,
          0.06286392805604846,
          0.34730769811903217,
          0.20600852108094425,
          0.3081596502315503,
          0.259084828924609,
          0.18784391885631824,
          0.24740585239599877,
          0.034387631538308774,
          0.33541844796453313,
          0.08379076697237067,
          0.024281297792454033,
          0.3713445467779851,
          0.38942811572978264,
          0.06001255631561279,
          0.10821745506615126,
          0.2973619936628501,
          0.19647228441679937,
          0.17843894033209676,
          0.09787089437774399,
          0.08092471101825419,
          0.41218656859613356,
          0.3495115910400603,
          0.34946848732212793,
          0.08735460000561672,
          0.07409813169129495,
          0.1776820068613573,
          0.19525029734251778,
          0.054693715674351454,
          -0.2818361818205156,
          -0.215937962275362,
          -0.20940833389071165,
          -0.042526841296107634,
          -0.016389334252953303,
          -0.4098123380378635,
          -0.1824166155326435,
          -0.19028340454350604,
          -0.03815385516871274,
          -0.03625505408533961,
          -0.1774058254549898,
          -0.3172882390534679,
          -0.22675294702456422,
          -0.0868693927022234,
          -0.123514067051477,
          -0.09424370579479255,
          -0.3092764877895784,
          -0.09281636218854858,
          -0.010286593292209432,
          -0.12674198306165865,
          -0.37376504185967496,
          -0.3170698916960282,
          -0.3784131884348466,
          -0.3861332701132669,
          -0.12371496768896417,
          -0.17548533071924682,
          -0.18515339861569385,
          -0.07215053119711357,
          -0.28605412166318556,
          -0.2767862189654093,
          -0.3873471485720347,
          -0.41994306819360155,
          -0.0258362550770782,
          -0.4314360800434122,
          -0.37772726086106867,
          -0.35497876943114287,
          -0.19159458984965036,
          -0.17025463587732909,
          -0.25930202064303914,
          -0.09160390230645551,
          -0.0912311235936387,
          -0.03214499219563802,
          -0.34554204316541665,
          -0.011093395793034342,
          -0.014946690909578675,
          -0.08656964822039344,
          -0.38627900787779695,
          -0.1202201874784221,
          -0.26709134163337767,
          -0.0019009630648494094
         ],
         "xaxis": "x",
         "y": [
          0.33199470477391013,
          0.28002953710128353,
          0.6001123660670329,
          0.16302472279638275,
          0.34318163359885506,
          0.20148953463757113,
          0.049980445080655175,
          0.21632554021101238,
          0.37576384865277124,
          0.15748144311998558,
          0.4447461513451972,
          0.5405321834611235,
          0.3308774194432498,
          0.4361367928641018,
          0.40363049937463436,
          0.4565139186530969,
          0.28744366419977513,
          0.3831798988785229,
          0.3442515487979605,
          0.11162925947879346,
          0.038082460231411326,
          0.5959815603504455,
          0.2112909298770312,
          0.6163529946378343,
          0.4413131874498446,
          0.5557848778279192,
          0.36095962756718836,
          0.14937150951647232,
          0.18597032958037393,
          0.5781945745401027,
          0.28782168406723596,
          0.3579849484553459,
          0.4642923474108499,
          0.12707531825460197,
          0.2044273732546818,
          0.5346420464261045,
          0.408570991062653,
          0.3294647548634632,
          0.3818089148861602,
          0.27862810117692777,
          0.030788570867185845,
          0.25012806640370255,
          0.2184636193614744,
          0.49009040355147315,
          0.5294827828534198,
          0.13347923942210813,
          0.25184228181253826,
          0.32282579718980325,
          0.10902106466312543,
          0.4317266507398971,
          -0.24089641012292612,
          -0.21216520915663595,
          -0.004885435587913742,
          -0.3721690151027152,
          -0.2237599919856506,
          -0.4351947326952469,
          -0.014101434392741962,
          -0.05154978972772865,
          -0.04797474355392556,
          -0.22390261047364768,
          -0.030456355179340276,
          -0.043850617297962614,
          -0.3870571657526112,
          -0.4974952427453098,
          -0.4144854132162726,
          -0.009979774361247324,
          -0.3658303769420779,
          -0.2873725454392763,
          -0.36319433777129845,
          -0.21499149507679405,
          -0.505632215611153,
          -0.14596121365096773,
          -0.023189471035781294,
          -0.15829086883995008,
          -0.33903523873853647,
          -0.07845089674054871,
          -0.4117817072641434,
          -0.4236075950620068,
          -0.4147089523128668,
          -0.4016095657312248,
          -0.3347056432149506,
          -0.2614209801853574,
          -0.3163201209396463,
          -0.30619868486540197,
          -0.3020014698348372,
          -0.5069806234258365,
          -0.3711315060272025,
          -0.36340517090701663,
          -0.25905344305335454,
          -0.05805802019379251,
          -0.324018600829653,
          -0.2849733839507241,
          -0.22735644693502777,
          -0.42939637143566245,
          -0.20721946011525041,
          -0.2393778264626686,
          -0.12791781631418164,
          -0.4400280301681405,
          -0.48617862595727757,
          -0.27869965961572385,
          0.17384392390375694,
          0.10944552201632794,
          0.0924070833329375,
          0.13857269867226157,
          0.1312133490419131,
          0.1472018718421494,
          0.12815323211826832,
          0.15766030418637073,
          0.06346929189068741,
          0.01664787302899682,
          0.14644104194811536,
          0.11480919661280879,
          0.04245313139000286,
          0.017396618970736206,
          0.1487540637323258,
          0.08456021298355769,
          0.08012260172050424,
          0.13591921590108325,
          0.02688593500316946,
          0.07691020209876738,
          0.021019908072953807,
          0.045542465287074944,
          0.16223882353554725,
          0.2755111674462661,
          0.23805673487043952,
          0.23073867507817644,
          0.11201610226400051,
          0.06476033122721693,
          0.1807306867426568,
          0.15405396745334357,
          0.24048700332372136,
          0.1831232928379449,
          0.17541884242462139,
          0.2655035524600509,
          0.1769828432113026,
          0.15122504538621312,
          0.022811168601454497,
          0.2760766373377997,
          0.035050612208611366,
          0.012796805471344617,
          0.18192428359581114,
          0.05195373640352343,
          0.21254605726541118,
          0.213601179175521,
          0.22122048278092418,
          0.25158429195542026,
          0.2519193981307241,
          0.13374832662720856,
          0.17894833020433965,
          0.11296106248347912,
          -0.3792579517947118,
          -0.3331974008441714,
          -0.33119903873612655,
          -0.3802835504462826,
          -0.27351588857142284,
          -0.06657719888068675,
          -0.10053162548690561,
          -0.4017897785348797,
          -0.24218623025457595,
          -0.13131293069641076,
          -0.30449943834541304,
          -0.28107873813922135,
          -0.3099711268597815,
          -0.07114789328951818,
          -0.003001144837220577,
          -0.1605312310362842,
          -0.24075989897026706,
          -0.4369951146435601,
          -0.3876551628362276,
          -0.16179460647237415,
          -0.382833893449799,
          -0.26320508755218003,
          -0.06846128339092743,
          -0.3782317058453367,
          -0.22435135981470677,
          -0.33559794617577016,
          -0.2821535408904664,
          -0.2045693955143716,
          -0.2694346773614756,
          -0.037449479545534674,
          -0.3652838460901035,
          -0.09125143179287379,
          -0.026443285691383944,
          -0.4044087768422084,
          -0.42410249273003175,
          -0.06535602772505805,
          -0.11785305322510635,
          -0.3238388746514993,
          -0.2139660240436921,
          -0.19432700500612585,
          -0.10658524280799503,
          -0.088130184442341,
          -0.448887340565712,
          -0.3806318316805413,
          -0.38058489004103796,
          -0.09513258575177805,
          -0.08069577179353364,
          -0.1935026747669755,
          -0.21263523218929423,
          -0.059563601643634737,
          0.12557358180959843,
          0.0962122861458993,
          0.09330297613875357,
          0.018948056101616723,
          0.0073023534179466835,
          0.18259402616358617,
          0.08127667514530255,
          0.08478176404855595,
          0.016999649308445042,
          0.016153628575255582,
          0.07904409147317602,
          0.14136943094615753,
          0.10103095904801228,
          0.0387051113195599,
          0.05503233723696384,
          0.04199077500701736,
          0.13779975335446032,
          0.04135481461346069,
          0.0045832453305940275,
          0.05647055206289842,
          0.16653296520822133,
          0.1412721451414207,
          0.16860397117505652,
          0.17204369386062449,
          0.055121849564565416,
          0.07818840501994657,
          0.08249606313216298,
          0.03214704575318373,
          0.1274529069213713,
          0.12332354450202174,
          0.1725845437435755,
          0.18710782586022234,
          0.011511478297847728,
          0.19222859727586683,
          0.168298352564469,
          0.15816264347570505,
          0.08536596950523331,
          0.07585784163234398,
          0.11553336868347618,
          0.040814596784751134,
          0.040648503283595955,
          0.014322369048479713,
          0.15395806083450744,
          0.0049427203958148785,
          0.006659576146656886,
          0.03857155860121156,
          0.17210862808226612,
          0.05356473200130468,
          0.119003941305853,
          0.0008469840153203348
         ],
         "yaxis": "y"
        }
       ],
       "layout": {
        "autosize": false,
        "coloraxis": {
         "colorbar": {
          "title": {
           "text": "color"
          }
         },
         "colorscale": [
          [
           0,
           "#0d0887"
          ],
          [
           0.1111111111111111,
           "#46039f"
          ],
          [
           0.2222222222222222,
           "#7201a8"
          ],
          [
           0.3333333333333333,
           "#9c179e"
          ],
          [
           0.4444444444444444,
           "#bd3786"
          ],
          [
           0.5555555555555556,
           "#d8576b"
          ],
          [
           0.6666666666666666,
           "#ed7953"
          ],
          [
           0.7777777777777778,
           "#fb9f3a"
          ],
          [
           0.8888888888888888,
           "#fdca26"
          ],
          [
           1,
           "#f0f921"
          ]
         ],
         "showscale": false
        },
        "height": 400,
        "legend": {
         "tracegroupgap": 0
        },
        "margin": {
         "b": 0,
         "l": 0,
         "r": 0,
         "t": 0
        },
        "plot_bgcolor": "white",
        "template": {
         "data": {
          "bar": [
           {
            "error_x": {
             "color": "#2a3f5f"
            },
            "error_y": {
             "color": "#2a3f5f"
            },
            "marker": {
             "line": {
              "color": "#E5ECF6",
              "width": 0.5
             },
             "pattern": {
              "fillmode": "overlay",
              "size": 10,
              "solidity": 0.2
             }
            },
            "type": "bar"
           }
          ],
          "barpolar": [
           {
            "marker": {
             "line": {
              "color": "#E5ECF6",
              "width": 0.5
             },
             "pattern": {
              "fillmode": "overlay",
              "size": 10,
              "solidity": 0.2
             }
            },
            "type": "barpolar"
           }
          ],
          "carpet": [
           {
            "aaxis": {
             "endlinecolor": "#2a3f5f",
             "gridcolor": "white",
             "linecolor": "white",
             "minorgridcolor": "white",
             "startlinecolor": "#2a3f5f"
            },
            "baxis": {
             "endlinecolor": "#2a3f5f",
             "gridcolor": "white",
             "linecolor": "white",
             "minorgridcolor": "white",
             "startlinecolor": "#2a3f5f"
            },
            "type": "carpet"
           }
          ],
          "choropleth": [
           {
            "colorbar": {
             "outlinewidth": 0,
             "ticks": ""
            },
            "type": "choropleth"
           }
          ],
          "contour": [
           {
            "colorbar": {
             "outlinewidth": 0,
             "ticks": ""
            },
            "colorscale": [
             [
              0,
              "#0d0887"
             ],
             [
              0.1111111111111111,
              "#46039f"
             ],
             [
              0.2222222222222222,
              "#7201a8"
             ],
             [
              0.3333333333333333,
              "#9c179e"
             ],
             [
              0.4444444444444444,
              "#bd3786"
             ],
             [
              0.5555555555555556,
              "#d8576b"
             ],
             [
              0.6666666666666666,
              "#ed7953"
             ],
             [
              0.7777777777777778,
              "#fb9f3a"
             ],
             [
              0.8888888888888888,
              "#fdca26"
             ],
             [
              1,
              "#f0f921"
             ]
            ],
            "type": "contour"
           }
          ],
          "contourcarpet": [
           {
            "colorbar": {
             "outlinewidth": 0,
             "ticks": ""
            },
            "type": "contourcarpet"
           }
          ],
          "heatmap": [
           {
            "colorbar": {
             "outlinewidth": 0,
             "ticks": ""
            },
            "colorscale": [
             [
              0,
              "#0d0887"
             ],
             [
              0.1111111111111111,
              "#46039f"
             ],
             [
              0.2222222222222222,
              "#7201a8"
             ],
             [
              0.3333333333333333,
              "#9c179e"
             ],
             [
              0.4444444444444444,
              "#bd3786"
             ],
             [
              0.5555555555555556,
              "#d8576b"
             ],
             [
              0.6666666666666666,
              "#ed7953"
             ],
             [
              0.7777777777777778,
              "#fb9f3a"
             ],
             [
              0.8888888888888888,
              "#fdca26"
             ],
             [
              1,
              "#f0f921"
             ]
            ],
            "type": "heatmap"
           }
          ],
          "heatmapgl": [
           {
            "colorbar": {
             "outlinewidth": 0,
             "ticks": ""
            },
            "colorscale": [
             [
              0,
              "#0d0887"
             ],
             [
              0.1111111111111111,
              "#46039f"
             ],
             [
              0.2222222222222222,
              "#7201a8"
             ],
             [
              0.3333333333333333,
              "#9c179e"
             ],
             [
              0.4444444444444444,
              "#bd3786"
             ],
             [
              0.5555555555555556,
              "#d8576b"
             ],
             [
              0.6666666666666666,
              "#ed7953"
             ],
             [
              0.7777777777777778,
              "#fb9f3a"
             ],
             [
              0.8888888888888888,
              "#fdca26"
             ],
             [
              1,
              "#f0f921"
             ]
            ],
            "type": "heatmapgl"
           }
          ],
          "histogram": [
           {
            "marker": {
             "pattern": {
              "fillmode": "overlay",
              "size": 10,
              "solidity": 0.2
             }
            },
            "type": "histogram"
           }
          ],
          "histogram2d": [
           {
            "colorbar": {
             "outlinewidth": 0,
             "ticks": ""
            },
            "colorscale": [
             [
              0,
              "#0d0887"
             ],
             [
              0.1111111111111111,
              "#46039f"
             ],
             [
              0.2222222222222222,
              "#7201a8"
             ],
             [
              0.3333333333333333,
              "#9c179e"
             ],
             [
              0.4444444444444444,
              "#bd3786"
             ],
             [
              0.5555555555555556,
              "#d8576b"
             ],
             [
              0.6666666666666666,
              "#ed7953"
             ],
             [
              0.7777777777777778,
              "#fb9f3a"
             ],
             [
              0.8888888888888888,
              "#fdca26"
             ],
             [
              1,
              "#f0f921"
             ]
            ],
            "type": "histogram2d"
           }
          ],
          "histogram2dcontour": [
           {
            "colorbar": {
             "outlinewidth": 0,
             "ticks": ""
            },
            "colorscale": [
             [
              0,
              "#0d0887"
             ],
             [
              0.1111111111111111,
              "#46039f"
             ],
             [
              0.2222222222222222,
              "#7201a8"
             ],
             [
              0.3333333333333333,
              "#9c179e"
             ],
             [
              0.4444444444444444,
              "#bd3786"
             ],
             [
              0.5555555555555556,
              "#d8576b"
             ],
             [
              0.6666666666666666,
              "#ed7953"
             ],
             [
              0.7777777777777778,
              "#fb9f3a"
             ],
             [
              0.8888888888888888,
              "#fdca26"
             ],
             [
              1,
              "#f0f921"
             ]
            ],
            "type": "histogram2dcontour"
           }
          ],
          "mesh3d": [
           {
            "colorbar": {
             "outlinewidth": 0,
             "ticks": ""
            },
            "type": "mesh3d"
           }
          ],
          "parcoords": [
           {
            "line": {
             "colorbar": {
              "outlinewidth": 0,
              "ticks": ""
             }
            },
            "type": "parcoords"
           }
          ],
          "pie": [
           {
            "automargin": true,
            "type": "pie"
           }
          ],
          "scatter": [
           {
            "marker": {
             "colorbar": {
              "outlinewidth": 0,
              "ticks": ""
             }
            },
            "type": "scatter"
           }
          ],
          "scatter3d": [
           {
            "line": {
             "colorbar": {
              "outlinewidth": 0,
              "ticks": ""
             }
            },
            "marker": {
             "colorbar": {
              "outlinewidth": 0,
              "ticks": ""
             }
            },
            "type": "scatter3d"
           }
          ],
          "scattercarpet": [
           {
            "marker": {
             "colorbar": {
              "outlinewidth": 0,
              "ticks": ""
             }
            },
            "type": "scattercarpet"
           }
          ],
          "scattergeo": [
           {
            "marker": {
             "colorbar": {
              "outlinewidth": 0,
              "ticks": ""
             }
            },
            "type": "scattergeo"
           }
          ],
          "scattergl": [
           {
            "marker": {
             "colorbar": {
              "outlinewidth": 0,
              "ticks": ""
             }
            },
            "type": "scattergl"
           }
          ],
          "scattermapbox": [
           {
            "marker": {
             "colorbar": {
              "outlinewidth": 0,
              "ticks": ""
             }
            },
            "type": "scattermapbox"
           }
          ],
          "scatterpolar": [
           {
            "marker": {
             "colorbar": {
              "outlinewidth": 0,
              "ticks": ""
             }
            },
            "type": "scatterpolar"
           }
          ],
          "scatterpolargl": [
           {
            "marker": {
             "colorbar": {
              "outlinewidth": 0,
              "ticks": ""
             }
            },
            "type": "scatterpolargl"
           }
          ],
          "scatterternary": [
           {
            "marker": {
             "colorbar": {
              "outlinewidth": 0,
              "ticks": ""
             }
            },
            "type": "scatterternary"
           }
          ],
          "surface": [
           {
            "colorbar": {
             "outlinewidth": 0,
             "ticks": ""
            },
            "colorscale": [
             [
              0,
              "#0d0887"
             ],
             [
              0.1111111111111111,
              "#46039f"
             ],
             [
              0.2222222222222222,
              "#7201a8"
             ],
             [
              0.3333333333333333,
              "#9c179e"
             ],
             [
              0.4444444444444444,
              "#bd3786"
             ],
             [
              0.5555555555555556,
              "#d8576b"
             ],
             [
              0.6666666666666666,
              "#ed7953"
             ],
             [
              0.7777777777777778,
              "#fb9f3a"
             ],
             [
              0.8888888888888888,
              "#fdca26"
             ],
             [
              1,
              "#f0f921"
             ]
            ],
            "type": "surface"
           }
          ],
          "table": [
           {
            "cells": {
             "fill": {
              "color": "#EBF0F8"
             },
             "line": {
              "color": "white"
             }
            },
            "header": {
             "fill": {
              "color": "#C8D4E3"
             },
             "line": {
              "color": "white"
             }
            },
            "type": "table"
           }
          ]
         },
         "layout": {
          "annotationdefaults": {
           "arrowcolor": "#2a3f5f",
           "arrowhead": 0,
           "arrowwidth": 1
          },
          "autotypenumbers": "strict",
          "coloraxis": {
           "colorbar": {
            "outlinewidth": 0,
            "ticks": ""
           }
          },
          "colorscale": {
           "diverging": [
            [
             0,
             "#8e0152"
            ],
            [
             0.1,
             "#c51b7d"
            ],
            [
             0.2,
             "#de77ae"
            ],
            [
             0.3,
             "#f1b6da"
            ],
            [
             0.4,
             "#fde0ef"
            ],
            [
             0.5,
             "#f7f7f7"
            ],
            [
             0.6,
             "#e6f5d0"
            ],
            [
             0.7,
             "#b8e186"
            ],
            [
             0.8,
             "#7fbc41"
            ],
            [
             0.9,
             "#4d9221"
            ],
            [
             1,
             "#276419"
            ]
           ],
           "sequential": [
            [
             0,
             "#0d0887"
            ],
            [
             0.1111111111111111,
             "#46039f"
            ],
            [
             0.2222222222222222,
             "#7201a8"
            ],
            [
             0.3333333333333333,
             "#9c179e"
            ],
            [
             0.4444444444444444,
             "#bd3786"
            ],
            [
             0.5555555555555556,
             "#d8576b"
            ],
            [
             0.6666666666666666,
             "#ed7953"
            ],
            [
             0.7777777777777778,
             "#fb9f3a"
            ],
            [
             0.8888888888888888,
             "#fdca26"
            ],
            [
             1,
             "#f0f921"
            ]
           ],
           "sequentialminus": [
            [
             0,
             "#0d0887"
            ],
            [
             0.1111111111111111,
             "#46039f"
            ],
            [
             0.2222222222222222,
             "#7201a8"
            ],
            [
             0.3333333333333333,
             "#9c179e"
            ],
            [
             0.4444444444444444,
             "#bd3786"
            ],
            [
             0.5555555555555556,
             "#d8576b"
            ],
            [
             0.6666666666666666,
             "#ed7953"
            ],
            [
             0.7777777777777778,
             "#fb9f3a"
            ],
            [
             0.8888888888888888,
             "#fdca26"
            ],
            [
             1,
             "#f0f921"
            ]
           ]
          },
          "colorway": [
           "#636efa",
           "#EF553B",
           "#00cc96",
           "#ab63fa",
           "#FFA15A",
           "#19d3f3",
           "#FF6692",
           "#B6E880",
           "#FF97FF",
           "#FECB52"
          ],
          "font": {
           "color": "#2a3f5f"
          },
          "geo": {
           "bgcolor": "white",
           "lakecolor": "white",
           "landcolor": "#E5ECF6",
           "showlakes": true,
           "showland": true,
           "subunitcolor": "white"
          },
          "hoverlabel": {
           "align": "left"
          },
          "hovermode": "closest",
          "mapbox": {
           "style": "light"
          },
          "paper_bgcolor": "white",
          "plot_bgcolor": "#E5ECF6",
          "polar": {
           "angularaxis": {
            "gridcolor": "white",
            "linecolor": "white",
            "ticks": ""
           },
           "bgcolor": "#E5ECF6",
           "radialaxis": {
            "gridcolor": "white",
            "linecolor": "white",
            "ticks": ""
           }
          },
          "scene": {
           "xaxis": {
            "backgroundcolor": "#E5ECF6",
            "gridcolor": "white",
            "gridwidth": 2,
            "linecolor": "white",
            "showbackground": true,
            "ticks": "",
            "zerolinecolor": "white"
           },
           "yaxis": {
            "backgroundcolor": "#E5ECF6",
            "gridcolor": "white",
            "gridwidth": 2,
            "linecolor": "white",
            "showbackground": true,
            "ticks": "",
            "zerolinecolor": "white"
           },
           "zaxis": {
            "backgroundcolor": "#E5ECF6",
            "gridcolor": "white",
            "gridwidth": 2,
            "linecolor": "white",
            "showbackground": true,
            "ticks": "",
            "zerolinecolor": "white"
           }
          },
          "shapedefaults": {
           "line": {
            "color": "#2a3f5f"
           }
          },
          "ternary": {
           "aaxis": {
            "gridcolor": "white",
            "linecolor": "white",
            "ticks": ""
           },
           "baxis": {
            "gridcolor": "white",
            "linecolor": "white",
            "ticks": ""
           },
           "bgcolor": "#E5ECF6",
           "caxis": {
            "gridcolor": "white",
            "linecolor": "white",
            "ticks": ""
           }
          },
          "title": {
           "x": 0.05
          },
          "xaxis": {
           "automargin": true,
           "gridcolor": "white",
           "linecolor": "white",
           "ticks": "",
           "title": {
            "standoff": 15
           },
           "zerolinecolor": "white",
           "zerolinewidth": 2
          },
          "yaxis": {
           "automargin": true,
           "gridcolor": "white",
           "linecolor": "white",
           "ticks": "",
           "title": {
            "standoff": 15
           },
           "zerolinecolor": "white",
           "zerolinewidth": 2
          }
         }
        },
        "width": 400,
        "xaxis": {
         "anchor": "y",
         "domain": [
          0,
          1
         ],
         "range": [
          -0.9467240242255875,
          1.0974178241427373
         ],
         "title": {
          "text": "x"
         },
         "visible": false
        },
        "yaxis": {
         "anchor": "x",
         "domain": [
          0,
          1
         ],
         "range": [
          -1.0069806234258365,
          1.1163529946378343
         ],
         "title": {
          "text": "y"
         },
         "visible": false
        }
       }
      },
      "text/html": [
       "<div>                            <div id=\"7901ed58-dee9-4303-a502-e4c163cb9e0e\" class=\"plotly-graph-div\" style=\"height:400px; width:400px;\"></div>            <script type=\"text/javascript\">                require([\"plotly\"], function(Plotly) {                    window.PLOTLYENV=window.PLOTLYENV || {};                                    if (document.getElementById(\"7901ed58-dee9-4303-a502-e4c163cb9e0e\")) {                    Plotly.newPlot(                        \"7901ed58-dee9-4303-a502-e4c163cb9e0e\",                        [{\"hovertemplate\":\"x=%{x}<br>y=%{y}<br>color=%{marker.color}<extra></extra>\",\"legendgroup\":\"\",\"marker\":{\"color\":[1.0,1.0,1.0,1.0,1.0,1.0,1.0,1.0,1.0,1.0,1.0,1.0,1.0,1.0,1.0,1.0,1.0,1.0,1.0,1.0,1.0,1.0,1.0,1.0,1.0,1.0,1.0,1.0,1.0,1.0,1.0,1.0,1.0,1.0,1.0,1.0,1.0,1.0,1.0,1.0,1.0,1.0,1.0,1.0,1.0,1.0,1.0,1.0,1.0,1.0,1.0,1.0,1.0,1.0,1.0,1.0,1.0,1.0,1.0,1.0,1.0,1.0,1.0,1.0,1.0,1.0,1.0,1.0,1.0,1.0,1.0,1.0,1.0,1.0,1.0,1.0,1.0,1.0,1.0,1.0,1.0,1.0,1.0,1.0,1.0,1.0,1.0,1.0,1.0,1.0,1.0,1.0,1.0,1.0,1.0,1.0,1.0,1.0,1.0,1.0,1.0,1.0,1.0,1.0,1.0,1.0,1.0,1.0,1.0,1.0,1.0,1.0,1.0,1.0,1.0,1.0,1.0,1.0,1.0,1.0,1.0,1.0,1.0,1.0,1.0,1.0,1.0,1.0,1.0,1.0,1.0,1.0,1.0,1.0,1.0,1.0,1.0,1.0,1.0,1.0,1.0,1.0,1.0,1.0,1.0,1.0,1.0,1.0,1.0,1.0,1.0,1.0,1.0,1.0,1.0,1.0,1.0,1.0,1.0,1.0,1.0,1.0,1.0,1.0,1.0,1.0,1.0,1.0,1.0,1.0,1.0,1.0,1.0,1.0,1.0,1.0,1.0,1.0,1.0,1.0,1.0,1.0,1.0,1.0,1.0,1.0,1.0,1.0,1.0,1.0,1.0,1.0,1.0,1.0,1.0,1.0,1.0,1.0,1.0,1.0,1.0,1.0,1.0,1.0,1.0,1.0,1.0,1.0,1.0,1.0,1.0,1.0,1.0,1.0,1.0,1.0,1.0,1.0,1.0,1.0,1.0,1.0,1.0,1.0,1.0,1.0,1.0,1.0,1.0,1.0,1.0,1.0,1.0,1.0,1.0,1.0,1.0,1.0,1.0,1.0,1.0,1.0,1.0,1.0,1.0,1.0,1.0,1.0,1.0,1.0],\"coloraxis\":\"coloraxis\",\"opacity\":1,\"symbol\":\"circle\",\"line\":{\"color\":\"black\",\"width\":0.2},\"size\":5},\"mode\":\"markers\",\"name\":\"\",\"orientation\":\"v\",\"showlegend\":false,\"x\":[-0.11255852561979658,-0.09494040529224604,-0.20346036294980427,-0.05527143106102608,-0.11635130965111695,-0.06831242974814519,-0.016945225713557405,-0.07334238621859811,-0.12739788971748717,-0.05339205353330812,-0.1507854503420028,-0.18326046995799763,-0.11217972442897216,-0.1478665583138172,-0.1368457184753308,-0.15477516017462215,-0.09745406952533164,-0.12991220596208336,-0.11671405060938472,-0.037846461652210374,-0.012911367301901172,-0.20205986651297841,-0.07163546647525754,-0.20896653874352075,-0.14962154818027998,-0.18843169939319318,-0.12237870936797678,-0.05064248507284865,-0.06305084329838842,-0.19602941822797987,-0.09758223228914849,-0.12137018275533394,-0.15741233618984668,-0.04308324879803461,-0.06930846606588126,-0.1812634949134354,-0.13852072850483999,-0.11170077871083377,-0.12944739150989573,-0.09446526650500686,-0.010438468122890973,-0.0848026970481483,-0.07406727439715602,-0.16615883461675018,-0.17951431309615076,-0.045254415730624026,-0.0853838796882289,-0.10944992568018591,-0.0369621868166201,-0.14637135646831703,-0.21226494421902387,-0.18694855711577435,-0.004304782757140192,-0.3279352946377037,-0.19716525536037083,-0.38347016301667214,-0.012425424618225683,-0.04542289872844128,-0.04227276055794919,-0.1972909230919234,-0.026836500095449887,-0.0386388025872701,-0.3410539312567051,-0.43836601756197313,-0.3652222258980771,-0.008793639751740757,-0.32235002802909923,-0.2532172118987571,-0.3200272922637173,-0.18943892807183485,-0.4455358798716629,-0.12861316139146187,-0.020433313113163445,-0.13947738958645092,-0.29873959517452325,-0.06912670559128505,-0.3628398658088567,-0.3732602013068949,-0.36541919651231386,-0.3538767224644989,-0.2949245887498284,-0.23035009010060128,-0.2787242565895706,-0.26980579216488465,-0.2661074323018902,-0.44672402422558755,-0.32702109751069774,-0.32021306706945185,-0.2282639438728322,-0.05115760094396476,-0.2855077425019995,-0.25110319999098274,-0.2003342577910265,-0.3783609593191185,-0.18259062939134174,-0.21092685007402603,-0.11271429130344275,-0.3877290044745178,-0.4283944242533225,-0.2455751319498907,0.37619068299481256,0.23683534490880434,0.1999649053700695,0.29986528713429406,0.28393997492510165,0.3185384422010065,0.27731801512518806,0.3411700344837819,0.1373447845020646,0.036025272465987454,0.31689203943321126,0.24844210322685245,0.09186672812168706,0.03764552608709458,0.32189731787633774,0.1829846195492135,0.17338182196833427,0.2941232659374119,0.058179992861849335,0.1664303290394097,0.045486165963616855,0.09855191218013006,0.35107775102856736,0.5961941719153128,0.5151444104080666,0.4993084476109289,0.24239796865399935,0.1401385374206371,0.3910933379614786,0.3333660787961627,0.5204034055387045,0.396270833389057,0.379598738109544,0.5745381287688313,0.38298316772280877,0.32724441460062786,0.04936237576437689,0.5974178241427373,0.07584799888343334,0.02769172992828914,0.3936762295882068,0.11242562376004654,0.4599404146836656,0.4622236525621822,0.47871149385624034,0.5444174550148344,0.5451426101892719,0.2894255560588823,0.3872363960078386,0.24444282142990303,0.3482500387871283,0.30595537211191304,0.3041203949457281,0.34919178508011806,0.2511533861139784,0.061133885216697006,0.09231221734303556,0.36893967627284585,0.222385222724394,0.12057686066139373,0.27960373859701754,0.2580979014309642,0.2846280649910791,0.06533088226745692,0.0027557729535321214,0.14740628949341633,0.22107550746929308,0.4012666442568901,0.3559606986614254,0.14856637207715392,0.3515336134997785,0.24168559028297293,0.06286392805604846,0.34730769811903217,0.20600852108094425,0.3081596502315503,0.259084828924609,0.18784391885631824,0.24740585239599877,0.034387631538308774,0.33541844796453313,0.08379076697237067,0.024281297792454033,0.3713445467779851,0.38942811572978264,0.06001255631561279,0.10821745506615126,0.2973619936628501,0.19647228441679937,0.17843894033209676,0.09787089437774399,0.08092471101825419,0.41218656859613356,0.3495115910400603,0.34946848732212793,0.08735460000561672,0.07409813169129495,0.1776820068613573,0.19525029734251778,0.054693715674351454,-0.2818361818205156,-0.215937962275362,-0.20940833389071165,-0.042526841296107634,-0.016389334252953303,-0.4098123380378635,-0.1824166155326435,-0.19028340454350604,-0.03815385516871274,-0.03625505408533961,-0.1774058254549898,-0.3172882390534679,-0.22675294702456422,-0.0868693927022234,-0.123514067051477,-0.09424370579479255,-0.3092764877895784,-0.09281636218854858,-0.010286593292209432,-0.12674198306165865,-0.37376504185967496,-0.3170698916960282,-0.3784131884348466,-0.3861332701132669,-0.12371496768896417,-0.17548533071924682,-0.18515339861569385,-0.07215053119711357,-0.28605412166318556,-0.2767862189654093,-0.3873471485720347,-0.41994306819360155,-0.0258362550770782,-0.4314360800434122,-0.37772726086106867,-0.35497876943114287,-0.19159458984965036,-0.17025463587732909,-0.25930202064303914,-0.09160390230645551,-0.0912311235936387,-0.03214499219563802,-0.34554204316541665,-0.011093395793034342,-0.014946690909578675,-0.08656964822039344,-0.38627900787779695,-0.1202201874784221,-0.26709134163337767,-0.0019009630648494094],\"xaxis\":\"x\",\"y\":[0.33199470477391013,0.28002953710128353,0.6001123660670329,0.16302472279638275,0.34318163359885506,0.20148953463757113,0.049980445080655175,0.21632554021101238,0.37576384865277124,0.15748144311998558,0.4447461513451972,0.5405321834611235,0.3308774194432498,0.4361367928641018,0.40363049937463436,0.4565139186530969,0.28744366419977513,0.3831798988785229,0.3442515487979605,0.11162925947879346,0.038082460231411326,0.5959815603504455,0.2112909298770312,0.6163529946378343,0.4413131874498446,0.5557848778279192,0.36095962756718836,0.14937150951647232,0.18597032958037393,0.5781945745401027,0.28782168406723596,0.3579849484553459,0.4642923474108499,0.12707531825460197,0.2044273732546818,0.5346420464261045,0.408570991062653,0.3294647548634632,0.3818089148861602,0.27862810117692777,0.030788570867185845,0.25012806640370255,0.2184636193614744,0.49009040355147315,0.5294827828534198,0.13347923942210813,0.25184228181253826,0.32282579718980325,0.10902106466312543,0.4317266507398971,-0.24089641012292612,-0.21216520915663595,-0.004885435587913742,-0.3721690151027152,-0.2237599919856506,-0.4351947326952469,-0.014101434392741962,-0.05154978972772865,-0.04797474355392556,-0.22390261047364768,-0.030456355179340276,-0.043850617297962614,-0.3870571657526112,-0.4974952427453098,-0.4144854132162726,-0.009979774361247324,-0.3658303769420779,-0.2873725454392763,-0.36319433777129845,-0.21499149507679405,-0.505632215611153,-0.14596121365096773,-0.023189471035781294,-0.15829086883995008,-0.33903523873853647,-0.07845089674054871,-0.4117817072641434,-0.4236075950620068,-0.4147089523128668,-0.4016095657312248,-0.3347056432149506,-0.2614209801853574,-0.3163201209396463,-0.30619868486540197,-0.3020014698348372,-0.5069806234258365,-0.3711315060272025,-0.36340517090701663,-0.25905344305335454,-0.05805802019379251,-0.324018600829653,-0.2849733839507241,-0.22735644693502777,-0.42939637143566245,-0.20721946011525041,-0.2393778264626686,-0.12791781631418164,-0.4400280301681405,-0.48617862595727757,-0.27869965961572385,0.17384392390375694,0.10944552201632794,0.0924070833329375,0.13857269867226157,0.1312133490419131,0.1472018718421494,0.12815323211826832,0.15766030418637073,0.06346929189068741,0.01664787302899682,0.14644104194811536,0.11480919661280879,0.04245313139000286,0.017396618970736206,0.1487540637323258,0.08456021298355769,0.08012260172050424,0.13591921590108325,0.02688593500316946,0.07691020209876738,0.021019908072953807,0.045542465287074944,0.16223882353554725,0.2755111674462661,0.23805673487043952,0.23073867507817644,0.11201610226400051,0.06476033122721693,0.1807306867426568,0.15405396745334357,0.24048700332372136,0.1831232928379449,0.17541884242462139,0.2655035524600509,0.1769828432113026,0.15122504538621312,0.022811168601454497,0.2760766373377997,0.035050612208611366,0.012796805471344617,0.18192428359581114,0.05195373640352343,0.21254605726541118,0.213601179175521,0.22122048278092418,0.25158429195542026,0.2519193981307241,0.13374832662720856,0.17894833020433965,0.11296106248347912,-0.3792579517947118,-0.3331974008441714,-0.33119903873612655,-0.3802835504462826,-0.27351588857142284,-0.06657719888068675,-0.10053162548690561,-0.4017897785348797,-0.24218623025457595,-0.13131293069641076,-0.30449943834541304,-0.28107873813922135,-0.3099711268597815,-0.07114789328951818,-0.003001144837220577,-0.1605312310362842,-0.24075989897026706,-0.4369951146435601,-0.3876551628362276,-0.16179460647237415,-0.382833893449799,-0.26320508755218003,-0.06846128339092743,-0.3782317058453367,-0.22435135981470677,-0.33559794617577016,-0.2821535408904664,-0.2045693955143716,-0.2694346773614756,-0.037449479545534674,-0.3652838460901035,-0.09125143179287379,-0.026443285691383944,-0.4044087768422084,-0.42410249273003175,-0.06535602772505805,-0.11785305322510635,-0.3238388746514993,-0.2139660240436921,-0.19432700500612585,-0.10658524280799503,-0.088130184442341,-0.448887340565712,-0.3806318316805413,-0.38058489004103796,-0.09513258575177805,-0.08069577179353364,-0.1935026747669755,-0.21263523218929423,-0.059563601643634737,0.12557358180959843,0.0962122861458993,0.09330297613875357,0.018948056101616723,0.0073023534179466835,0.18259402616358617,0.08127667514530255,0.08478176404855595,0.016999649308445042,0.016153628575255582,0.07904409147317602,0.14136943094615753,0.10103095904801228,0.0387051113195599,0.05503233723696384,0.04199077500701736,0.13779975335446032,0.04135481461346069,0.0045832453305940275,0.05647055206289842,0.16653296520822133,0.1412721451414207,0.16860397117505652,0.17204369386062449,0.055121849564565416,0.07818840501994657,0.08249606313216298,0.03214704575318373,0.1274529069213713,0.12332354450202174,0.1725845437435755,0.18710782586022234,0.011511478297847728,0.19222859727586683,0.168298352564469,0.15816264347570505,0.08536596950523331,0.07585784163234398,0.11553336868347618,0.040814596784751134,0.040648503283595955,0.014322369048479713,0.15395806083450744,0.0049427203958148785,0.006659576146656886,0.03857155860121156,0.17210862808226612,0.05356473200130468,0.119003941305853,0.0008469840153203348],\"yaxis\":\"y\",\"type\":\"scatter\"}],                        {\"template\":{\"data\":{\"bar\":[{\"error_x\":{\"color\":\"#2a3f5f\"},\"error_y\":{\"color\":\"#2a3f5f\"},\"marker\":{\"line\":{\"color\":\"#E5ECF6\",\"width\":0.5},\"pattern\":{\"fillmode\":\"overlay\",\"size\":10,\"solidity\":0.2}},\"type\":\"bar\"}],\"barpolar\":[{\"marker\":{\"line\":{\"color\":\"#E5ECF6\",\"width\":0.5},\"pattern\":{\"fillmode\":\"overlay\",\"size\":10,\"solidity\":0.2}},\"type\":\"barpolar\"}],\"carpet\":[{\"aaxis\":{\"endlinecolor\":\"#2a3f5f\",\"gridcolor\":\"white\",\"linecolor\":\"white\",\"minorgridcolor\":\"white\",\"startlinecolor\":\"#2a3f5f\"},\"baxis\":{\"endlinecolor\":\"#2a3f5f\",\"gridcolor\":\"white\",\"linecolor\":\"white\",\"minorgridcolor\":\"white\",\"startlinecolor\":\"#2a3f5f\"},\"type\":\"carpet\"}],\"choropleth\":[{\"colorbar\":{\"outlinewidth\":0,\"ticks\":\"\"},\"type\":\"choropleth\"}],\"contour\":[{\"colorbar\":{\"outlinewidth\":0,\"ticks\":\"\"},\"colorscale\":[[0.0,\"#0d0887\"],[0.1111111111111111,\"#46039f\"],[0.2222222222222222,\"#7201a8\"],[0.3333333333333333,\"#9c179e\"],[0.4444444444444444,\"#bd3786\"],[0.5555555555555556,\"#d8576b\"],[0.6666666666666666,\"#ed7953\"],[0.7777777777777778,\"#fb9f3a\"],[0.8888888888888888,\"#fdca26\"],[1.0,\"#f0f921\"]],\"type\":\"contour\"}],\"contourcarpet\":[{\"colorbar\":{\"outlinewidth\":0,\"ticks\":\"\"},\"type\":\"contourcarpet\"}],\"heatmap\":[{\"colorbar\":{\"outlinewidth\":0,\"ticks\":\"\"},\"colorscale\":[[0.0,\"#0d0887\"],[0.1111111111111111,\"#46039f\"],[0.2222222222222222,\"#7201a8\"],[0.3333333333333333,\"#9c179e\"],[0.4444444444444444,\"#bd3786\"],[0.5555555555555556,\"#d8576b\"],[0.6666666666666666,\"#ed7953\"],[0.7777777777777778,\"#fb9f3a\"],[0.8888888888888888,\"#fdca26\"],[1.0,\"#f0f921\"]],\"type\":\"heatmap\"}],\"heatmapgl\":[{\"colorbar\":{\"outlinewidth\":0,\"ticks\":\"\"},\"colorscale\":[[0.0,\"#0d0887\"],[0.1111111111111111,\"#46039f\"],[0.2222222222222222,\"#7201a8\"],[0.3333333333333333,\"#9c179e\"],[0.4444444444444444,\"#bd3786\"],[0.5555555555555556,\"#d8576b\"],[0.6666666666666666,\"#ed7953\"],[0.7777777777777778,\"#fb9f3a\"],[0.8888888888888888,\"#fdca26\"],[1.0,\"#f0f921\"]],\"type\":\"heatmapgl\"}],\"histogram\":[{\"marker\":{\"pattern\":{\"fillmode\":\"overlay\",\"size\":10,\"solidity\":0.2}},\"type\":\"histogram\"}],\"histogram2d\":[{\"colorbar\":{\"outlinewidth\":0,\"ticks\":\"\"},\"colorscale\":[[0.0,\"#0d0887\"],[0.1111111111111111,\"#46039f\"],[0.2222222222222222,\"#7201a8\"],[0.3333333333333333,\"#9c179e\"],[0.4444444444444444,\"#bd3786\"],[0.5555555555555556,\"#d8576b\"],[0.6666666666666666,\"#ed7953\"],[0.7777777777777778,\"#fb9f3a\"],[0.8888888888888888,\"#fdca26\"],[1.0,\"#f0f921\"]],\"type\":\"histogram2d\"}],\"histogram2dcontour\":[{\"colorbar\":{\"outlinewidth\":0,\"ticks\":\"\"},\"colorscale\":[[0.0,\"#0d0887\"],[0.1111111111111111,\"#46039f\"],[0.2222222222222222,\"#7201a8\"],[0.3333333333333333,\"#9c179e\"],[0.4444444444444444,\"#bd3786\"],[0.5555555555555556,\"#d8576b\"],[0.6666666666666666,\"#ed7953\"],[0.7777777777777778,\"#fb9f3a\"],[0.8888888888888888,\"#fdca26\"],[1.0,\"#f0f921\"]],\"type\":\"histogram2dcontour\"}],\"mesh3d\":[{\"colorbar\":{\"outlinewidth\":0,\"ticks\":\"\"},\"type\":\"mesh3d\"}],\"parcoords\":[{\"line\":{\"colorbar\":{\"outlinewidth\":0,\"ticks\":\"\"}},\"type\":\"parcoords\"}],\"pie\":[{\"automargin\":true,\"type\":\"pie\"}],\"scatter\":[{\"marker\":{\"colorbar\":{\"outlinewidth\":0,\"ticks\":\"\"}},\"type\":\"scatter\"}],\"scatter3d\":[{\"line\":{\"colorbar\":{\"outlinewidth\":0,\"ticks\":\"\"}},\"marker\":{\"colorbar\":{\"outlinewidth\":0,\"ticks\":\"\"}},\"type\":\"scatter3d\"}],\"scattercarpet\":[{\"marker\":{\"colorbar\":{\"outlinewidth\":0,\"ticks\":\"\"}},\"type\":\"scattercarpet\"}],\"scattergeo\":[{\"marker\":{\"colorbar\":{\"outlinewidth\":0,\"ticks\":\"\"}},\"type\":\"scattergeo\"}],\"scattergl\":[{\"marker\":{\"colorbar\":{\"outlinewidth\":0,\"ticks\":\"\"}},\"type\":\"scattergl\"}],\"scattermapbox\":[{\"marker\":{\"colorbar\":{\"outlinewidth\":0,\"ticks\":\"\"}},\"type\":\"scattermapbox\"}],\"scatterpolar\":[{\"marker\":{\"colorbar\":{\"outlinewidth\":0,\"ticks\":\"\"}},\"type\":\"scatterpolar\"}],\"scatterpolargl\":[{\"marker\":{\"colorbar\":{\"outlinewidth\":0,\"ticks\":\"\"}},\"type\":\"scatterpolargl\"}],\"scatterternary\":[{\"marker\":{\"colorbar\":{\"outlinewidth\":0,\"ticks\":\"\"}},\"type\":\"scatterternary\"}],\"surface\":[{\"colorbar\":{\"outlinewidth\":0,\"ticks\":\"\"},\"colorscale\":[[0.0,\"#0d0887\"],[0.1111111111111111,\"#46039f\"],[0.2222222222222222,\"#7201a8\"],[0.3333333333333333,\"#9c179e\"],[0.4444444444444444,\"#bd3786\"],[0.5555555555555556,\"#d8576b\"],[0.6666666666666666,\"#ed7953\"],[0.7777777777777778,\"#fb9f3a\"],[0.8888888888888888,\"#fdca26\"],[1.0,\"#f0f921\"]],\"type\":\"surface\"}],\"table\":[{\"cells\":{\"fill\":{\"color\":\"#EBF0F8\"},\"line\":{\"color\":\"white\"}},\"header\":{\"fill\":{\"color\":\"#C8D4E3\"},\"line\":{\"color\":\"white\"}},\"type\":\"table\"}]},\"layout\":{\"annotationdefaults\":{\"arrowcolor\":\"#2a3f5f\",\"arrowhead\":0,\"arrowwidth\":1},\"autotypenumbers\":\"strict\",\"coloraxis\":{\"colorbar\":{\"outlinewidth\":0,\"ticks\":\"\"}},\"colorscale\":{\"diverging\":[[0,\"#8e0152\"],[0.1,\"#c51b7d\"],[0.2,\"#de77ae\"],[0.3,\"#f1b6da\"],[0.4,\"#fde0ef\"],[0.5,\"#f7f7f7\"],[0.6,\"#e6f5d0\"],[0.7,\"#b8e186\"],[0.8,\"#7fbc41\"],[0.9,\"#4d9221\"],[1,\"#276419\"]],\"sequential\":[[0.0,\"#0d0887\"],[0.1111111111111111,\"#46039f\"],[0.2222222222222222,\"#7201a8\"],[0.3333333333333333,\"#9c179e\"],[0.4444444444444444,\"#bd3786\"],[0.5555555555555556,\"#d8576b\"],[0.6666666666666666,\"#ed7953\"],[0.7777777777777778,\"#fb9f3a\"],[0.8888888888888888,\"#fdca26\"],[1.0,\"#f0f921\"]],\"sequentialminus\":[[0.0,\"#0d0887\"],[0.1111111111111111,\"#46039f\"],[0.2222222222222222,\"#7201a8\"],[0.3333333333333333,\"#9c179e\"],[0.4444444444444444,\"#bd3786\"],[0.5555555555555556,\"#d8576b\"],[0.6666666666666666,\"#ed7953\"],[0.7777777777777778,\"#fb9f3a\"],[0.8888888888888888,\"#fdca26\"],[1.0,\"#f0f921\"]]},\"colorway\":[\"#636efa\",\"#EF553B\",\"#00cc96\",\"#ab63fa\",\"#FFA15A\",\"#19d3f3\",\"#FF6692\",\"#B6E880\",\"#FF97FF\",\"#FECB52\"],\"font\":{\"color\":\"#2a3f5f\"},\"geo\":{\"bgcolor\":\"white\",\"lakecolor\":\"white\",\"landcolor\":\"#E5ECF6\",\"showlakes\":true,\"showland\":true,\"subunitcolor\":\"white\"},\"hoverlabel\":{\"align\":\"left\"},\"hovermode\":\"closest\",\"mapbox\":{\"style\":\"light\"},\"paper_bgcolor\":\"white\",\"plot_bgcolor\":\"#E5ECF6\",\"polar\":{\"angularaxis\":{\"gridcolor\":\"white\",\"linecolor\":\"white\",\"ticks\":\"\"},\"bgcolor\":\"#E5ECF6\",\"radialaxis\":{\"gridcolor\":\"white\",\"linecolor\":\"white\",\"ticks\":\"\"}},\"scene\":{\"xaxis\":{\"backgroundcolor\":\"#E5ECF6\",\"gridcolor\":\"white\",\"gridwidth\":2,\"linecolor\":\"white\",\"showbackground\":true,\"ticks\":\"\",\"zerolinecolor\":\"white\"},\"yaxis\":{\"backgroundcolor\":\"#E5ECF6\",\"gridcolor\":\"white\",\"gridwidth\":2,\"linecolor\":\"white\",\"showbackground\":true,\"ticks\":\"\",\"zerolinecolor\":\"white\"},\"zaxis\":{\"backgroundcolor\":\"#E5ECF6\",\"gridcolor\":\"white\",\"gridwidth\":2,\"linecolor\":\"white\",\"showbackground\":true,\"ticks\":\"\",\"zerolinecolor\":\"white\"}},\"shapedefaults\":{\"line\":{\"color\":\"#2a3f5f\"}},\"ternary\":{\"aaxis\":{\"gridcolor\":\"white\",\"linecolor\":\"white\",\"ticks\":\"\"},\"baxis\":{\"gridcolor\":\"white\",\"linecolor\":\"white\",\"ticks\":\"\"},\"bgcolor\":\"#E5ECF6\",\"caxis\":{\"gridcolor\":\"white\",\"linecolor\":\"white\",\"ticks\":\"\"}},\"title\":{\"x\":0.05},\"xaxis\":{\"automargin\":true,\"gridcolor\":\"white\",\"linecolor\":\"white\",\"ticks\":\"\",\"title\":{\"standoff\":15},\"zerolinecolor\":\"white\",\"zerolinewidth\":2},\"yaxis\":{\"automargin\":true,\"gridcolor\":\"white\",\"linecolor\":\"white\",\"ticks\":\"\",\"title\":{\"standoff\":15},\"zerolinecolor\":\"white\",\"zerolinewidth\":2}}},\"xaxis\":{\"anchor\":\"y\",\"domain\":[0.0,1.0],\"title\":{\"text\":\"x\"},\"visible\":false,\"range\":[-0.9467240242255875,1.0974178241427373]},\"yaxis\":{\"anchor\":\"x\",\"domain\":[0.0,1.0],\"title\":{\"text\":\"y\"},\"visible\":false,\"range\":[-1.0069806234258365,1.1163529946378343]},\"coloraxis\":{\"colorbar\":{\"title\":{\"text\":\"color\"}},\"colorscale\":[[0.0,\"#0d0887\"],[0.1111111111111111,\"#46039f\"],[0.2222222222222222,\"#7201a8\"],[0.3333333333333333,\"#9c179e\"],[0.4444444444444444,\"#bd3786\"],[0.5555555555555556,\"#d8576b\"],[0.6666666666666666,\"#ed7953\"],[0.7777777777777778,\"#fb9f3a\"],[0.8888888888888888,\"#fdca26\"],[1.0,\"#f0f921\"]],\"showscale\":false},\"legend\":{\"tracegroupgap\":0},\"margin\":{\"t\":0,\"l\":0,\"r\":0,\"b\":0},\"plot_bgcolor\":\"white\",\"width\":400,\"height\":400,\"autosize\":false},                        {\"responsive\": true}                    ).then(function(){\n",
       "                            \n",
       "var gd = document.getElementById('7901ed58-dee9-4303-a502-e4c163cb9e0e');\n",
       "var x = new MutationObserver(function (mutations, observer) {{\n",
       "        var display = window.getComputedStyle(gd).display;\n",
       "        if (!display || display === 'none') {{\n",
       "            console.log([gd, 'removed!']);\n",
       "            Plotly.purge(gd);\n",
       "            observer.disconnect();\n",
       "        }}\n",
       "}});\n",
       "\n",
       "// Listen for the removal of the full notebook cells\n",
       "var notebookContainer = gd.closest('#notebook-container');\n",
       "if (notebookContainer) {{\n",
       "    x.observe(notebookContainer, {childList: true});\n",
       "}}\n",
       "\n",
       "// Listen for the clearing of the current output cell\n",
       "var outputEl = gd.closest('.output');\n",
       "if (outputEl) {{\n",
       "    x.observe(outputEl, {childList: true});\n",
       "}}\n",
       "\n",
       "                        })                };                });            </script>        </div>"
      ]
     },
     "metadata": {},
     "output_type": "display_data"
    }
   ],
   "source": [
    "fig = plotly_2D_scatter(X_PH, y = np.ones(X.shape[0]), \n",
    "                        save_path=\"images/Tendril/PH.pdf\",\n",
    "                  width=400, height=400, \n",
    "                  autosize=False, margin = {'l':0,'r':0,'t':0,'b':0})\n",
    "fig.show()"
   ]
  },
  {
   "cell_type": "code",
   "execution_count": null,
   "id": "f7c453b9",
   "metadata": {},
   "outputs": [],
   "source": []
  },
  {
   "cell_type": "markdown",
   "id": "a191f0a8",
   "metadata": {},
   "source": [
    "## Isomap"
   ]
  },
  {
   "cell_type": "code",
   "execution_count": 9,
   "id": "23320282",
   "metadata": {},
   "outputs": [
    {
     "name": "stderr",
     "output_type": "stream",
     "text": [
      "/home/ubuntu/miniconda3/envs/bats/lib/python3.9/site-packages/scikit_learn-1.0.2-py3.9-linux-x86_64.egg/sklearn/manifold/_isomap.py:324: UserWarning:\n",
      "\n",
      "The number of connected components of the neighbors graph is 5 > 1. Completing the graph to fit Isomap might be slow. Increase the number of neighbors to avoid this issue.\n",
      "\n",
      "/home/ubuntu/miniconda3/envs/bats/lib/python3.9/site-packages/scipy-1.8.0rc2-py3.9-linux-x86_64.egg/scipy/sparse/_index.py:103: SparseEfficiencyWarning:\n",
      "\n",
      "Changing the sparsity structure of a csr_matrix is expensive. lil_matrix is more efficient.\n",
      "\n",
      "/home/ubuntu/miniconda3/envs/bats/lib/python3.9/site-packages/scipy-1.8.0rc2-py3.9-linux-x86_64.egg/scipy/sparse/_index.py:103: SparseEfficiencyWarning:\n",
      "\n",
      "Changing the sparsity structure of a csr_matrix is expensive. lil_matrix is more efficient.\n",
      "\n",
      "/home/ubuntu/miniconda3/envs/bats/lib/python3.9/site-packages/scipy-1.8.0rc2-py3.9-linux-x86_64.egg/scipy/sparse/_index.py:103: SparseEfficiencyWarning:\n",
      "\n",
      "Changing the sparsity structure of a csr_matrix is expensive. lil_matrix is more efficient.\n",
      "\n",
      "/home/ubuntu/miniconda3/envs/bats/lib/python3.9/site-packages/scipy-1.8.0rc2-py3.9-linux-x86_64.egg/scipy/sparse/_index.py:103: SparseEfficiencyWarning:\n",
      "\n",
      "Changing the sparsity structure of a csr_matrix is expensive. lil_matrix is more efficient.\n",
      "\n",
      "/home/ubuntu/miniconda3/envs/bats/lib/python3.9/site-packages/scipy-1.8.0rc2-py3.9-linux-x86_64.egg/scipy/sparse/_index.py:103: SparseEfficiencyWarning:\n",
      "\n",
      "Changing the sparsity structure of a csr_matrix is expensive. lil_matrix is more efficient.\n",
      "\n",
      "/home/ubuntu/miniconda3/envs/bats/lib/python3.9/site-packages/scipy-1.8.0rc2-py3.9-linux-x86_64.egg/scipy/sparse/_index.py:103: SparseEfficiencyWarning:\n",
      "\n",
      "Changing the sparsity structure of a csr_matrix is expensive. lil_matrix is more efficient.\n",
      "\n",
      "/home/ubuntu/miniconda3/envs/bats/lib/python3.9/site-packages/scipy-1.8.0rc2-py3.9-linux-x86_64.egg/scipy/sparse/_index.py:103: SparseEfficiencyWarning:\n",
      "\n",
      "Changing the sparsity structure of a csr_matrix is expensive. lil_matrix is more efficient.\n",
      "\n",
      "/home/ubuntu/miniconda3/envs/bats/lib/python3.9/site-packages/scipy-1.8.0rc2-py3.9-linux-x86_64.egg/scipy/sparse/_index.py:103: SparseEfficiencyWarning:\n",
      "\n",
      "Changing the sparsity structure of a csr_matrix is expensive. lil_matrix is more efficient.\n",
      "\n",
      "/home/ubuntu/miniconda3/envs/bats/lib/python3.9/site-packages/scipy-1.8.0rc2-py3.9-linux-x86_64.egg/scipy/sparse/_index.py:103: SparseEfficiencyWarning:\n",
      "\n",
      "Changing the sparsity structure of a csr_matrix is expensive. lil_matrix is more efficient.\n",
      "\n",
      "/home/ubuntu/miniconda3/envs/bats/lib/python3.9/site-packages/scipy-1.8.0rc2-py3.9-linux-x86_64.egg/scipy/sparse/_index.py:103: SparseEfficiencyWarning:\n",
      "\n",
      "Changing the sparsity structure of a csr_matrix is expensive. lil_matrix is more efficient.\n",
      "\n"
     ]
    },
    {
     "data": {
      "text/plain": [
       "(250, 2)"
      ]
     },
     "execution_count": 9,
     "metadata": {},
     "output_type": "execute_result"
    }
   ],
   "source": [
    "from sklearn.manifold import Isomap # for Isomap dimensionality reduction\n",
    "### Step 1 - Configure the Isomap function, note we use default hyperparameter values in this example\n",
    "embed = Isomap(\n",
    "    n_neighbors=5, # default=5, algorithm finds local structures based on the nearest neighbors\n",
    "    n_components=2, # number of dimensions\n",
    "    eigen_solver='auto', # {‘auto’, ‘arpack’, ‘dense’}, default=’auto’\n",
    "    tol=0, # default=0, Convergence tolerance passed to arpack or lobpcg. not used if eigen_solver == ‘dense’.\n",
    "    max_iter=None, # default=None, Maximum number of iterations for the arpack solver. not used if eigen_solver == ‘dense’.\n",
    "    path_method='auto', # {‘auto’, ‘FW’, ‘D’}, default=’auto’, Method to use in finding shortest path.\n",
    "    neighbors_algorithm='auto', # neighbors_algorithm{‘auto’, ‘brute’, ‘kd_tree’, ‘ball_tree’}, default=’auto’\n",
    "    n_jobs=-1, # n_jobsint or None, default=None, The number of parallel jobs to run. -1 means using all processors\n",
    "    metric='minkowski', # string, or callable, default=”minkowski”\n",
    "    p=2, # default=2, Parameter for the Minkowski metric. When p = 1, this is equivalent to using manhattan_distance (l1), and euclidean_distance (l2) for p = 2\n",
    "    metric_params=None # default=None, Additional keyword arguments for the metric function.\n",
    ")\n",
    "\n",
    "### Step 2 - Fit the data and transform it, so we have 3 dimensions instead of 64\n",
    "X_isomap = embed.fit_transform(X)\n",
    "\n",
    "X_isomap.shape"
   ]
  },
  {
   "cell_type": "code",
   "execution_count": 10,
   "id": "f89ff051",
   "metadata": {},
   "outputs": [
    {
     "data": {
      "text/plain": [
       "<matplotlib.collections.PathCollection at 0x7f43b191e9d0>"
      ]
     },
     "execution_count": 10,
     "metadata": {},
     "output_type": "execute_result"
    },
    {
     "data": {
      "image/png": "[encoded data removed]",
      "text/plain": [
       "<Figure size 432x288 with 1 Axes>"
      ]
     },
     "metadata": {
      "needs_background": "light"
     },
     "output_type": "display_data"
    }
   ],
   "source": [
    "plt.scatter(X_isomap[:, 0],X_isomap[:,1])"
   ]
  },
  {
   "cell_type": "code",
   "execution_count": 11,
   "id": "3678b2fc",
   "metadata": {},
   "outputs": [
    {
     "data": {
      "application/vnd.plotly.v1+json": {
       "config": {
        "plotlyServerURL": "https://plot.ly"
       },
       "data": [
        {
         "hovertemplate": "x=%{x}<br>y=%{y}<br>color=%{marker.color}<extra></extra>",
         "legendgroup": "",
         "marker": {
          "color": [
           1,
           1,
           1,
           1,
           1,
           1,
           1,
           1,
           1,
           1,
           1,
           1,
           1,
           1,
           1,
           1,
           1,
           1,
           1,
           1,
           1,
           1,
           1,
           1,
           1,
           1,
           1,
           1,
           1,
           1,
           1,
           1,
           1,
           1,
           1,
           1,
           1,
           1,
           1,
           1,
           1,
           1,
           1,
           1,
           1,
           1,
           1,
           1,
           1,
           1,
           1,
           1,
           1,
           1,
           1,
           1,
           1,
           1,
           1,
           1,
           1,
           1,
           1,
           1,
           1,
           1,
           1,
           1,
           1,
           1,
           1,
           1,
           1,
           1,
           1,
           1,
           1,
           1,
           1,
           1,
           1,
           1,
           1,
           1,
           1,
           1,
           1,
           1,
           1,
           1,
           1,
           1,
           1,
           1,
           1,
           1,
           1,
           1,
           1,
           1,
           1,
           1,
           1,
           1,
           1,
           1,
           1,
           1,
           1,
           1,
           1,
           1,
           1,
           1,
           1,
           1,
           1,
           1,
           1,
           1,
           1,
           1,
           1,
           1,
           1,
           1,
           1,
           1,
           1,
           1,
           1,
           1,
           1,
           1,
           1,
           1,
           1,
           1,
           1,
           1,
           1,
           1,
           1,
           1,
           1,
           1,
           1,
           1,
           1,
           1,
           1,
           1,
           1,
           1,
           1,
           1,
           1,
           1,
           1,
           1,
           1,
           1,
           1,
           1,
           1,
           1,
           1,
           1,
           1,
           1,
           1,
           1,
           1,
           1,
           1,
           1,
           1,
           1,
           1,
           1,
           1,
           1,
           1,
           1,
           1,
           1,
           1,
           1,
           1,
           1,
           1,
           1,
           1,
           1,
           1,
           1,
           1,
           1,
           1,
           1,
           1,
           1,
           1,
           1,
           1,
           1,
           1,
           1,
           1,
           1,
           1,
           1,
           1,
           1,
           1,
           1,
           1,
           1,
           1,
           1,
           1,
           1,
           1,
           1,
           1,
           1,
           1,
           1,
           1,
           1,
           1,
           1,
           1,
           1,
           1,
           1,
           1,
           1,
           1,
           1,
           1,
           1,
           1,
           1,
           1,
           1,
           1,
           1,
           1,
           1
          ],
          "coloraxis": "coloraxis",
          "line": {
           "color": "black",
           "width": 0.2
          },
          "opacity": 1,
          "size": 5,
          "symbol": "circle"
         },
         "mode": "markers",
         "name": "",
         "orientation": "v",
         "showlegend": false,
         "type": "scatter",
         "x": [
          -0.3232192967891466,
          -0.27493157048857736,
          -0.5723629602222001,
          -0.16620688620395094,
          -0.3336145554101912,
          -0.20194964216100744,
          -0.005792578227808158,
          -0.21573574174673854,
          -0.3638910108370548,
          -0.16105589018470082,
          -0.427991613244031,
          -0.5169991140255181,
          -0.32218107887005026,
          -0.41999151693764253,
          -0.38978561030122105,
          -0.43892660590127563,
          -0.2818210188657098,
          -0.37078224624667344,
          -0.3346087554602072,
          -0.11844854774528372,
          0.00380148166621602,
          -0.5685244810105095,
          -0.2110574178477596,
          -0.5874542812454785,
          -0.42480159138125456,
          -0.5311724144095367,
          -0.3501344464326587,
          -0.1535198757407692,
          -0.18752869136324626,
          -0.5519962344755835,
          -0.2821722872386152,
          -0.3473702777169992,
          -0.4461545752454547,
          -0.13280152863601277,
          -0.2046795774890716,
          -0.5115258068515343,
          -0.3943764760889388,
          -0.32086838493219955,
          -0.3695082832681889,
          -0.27362931058306894,
          0.009655351997871838,
          -0.24714615002913615,
          -0.21772251453032468,
          -0.47012696925085934,
          -0.5067316511032111,
          -0.1387522607597898,
          -0.24873905481881278,
          -0.3146992492317942,
          -0.11602492817397829,
          -0.41589346923804144,
          0.3991118491800738,
          0.3552583346389301,
          0.03663500739487007,
          0.5994781721224828,
          0.37295588852782524,
          0.6956766995057588,
          0.05294613276219437,
          0.1101049684527581,
          0.10464824078056374,
          0.3731735724994964,
          0.07790926456360577,
          0.09835343149126255,
          0.6222025174007036,
          0.7907683152932992,
          0.6640672849193681,
          0.0466859111797912,
          0.5898032698768473,
          0.47005012559612136,
          0.5857797839723626,
          0.3595722013249244,
          0.8031880835553994,
          0.254208681928764,
          0.06681754550068646,
          0.2730278991884851,
          0.5489048408755806,
          0.15116514164021694,
          0.6599405166570255,
          0.6779908147672227,
          0.6644084810647889,
          0.6444143937792594,
          0.5422964161016351,
          0.430439273771186,
          0.5142339007409803,
          0.4987851715152201,
          0.49237880407547596,
          0.8052462092069507,
          0.5978945829302683,
          0.5861015865309754,
          0.4268256126448444,
          0.12003872582390002,
          0.5259843806529484,
          0.4663881950228669,
          0.3784452932207975,
          0.686826442250229,
          0.3477094515359332,
          0.3967939777237016,
          0.226668364752021,
          0.7030539435429263,
          0.7734953367132257,
          0.45681237319506157,
          -0.22661710726824424,
          -0.12677042780168654,
          -0.10249673075046078,
          -0.16826626408349898,
          -0.1577818161396115,
          -0.18055975759077697,
          -0.15342224115001496,
          -0.1954592928751833,
          -0.06127070083931175,
          0.005433118570218206,
          -0.179475846400411,
          -0.13441175073365505,
          -0.03133016915956042,
          0.004366422701198548,
          -0.1827710773253866,
          -0.09131773969379942,
          -0.08499572666008928,
          -0.1644859977037501,
          -0.00915246754894896,
          -0.08041920314907501,
          -0.0007954717440932375,
          -0.035731367913804754,
          -0.2019820496658878,
          -0.620413642623927,
          -0.5448230674931132,
          -0.5300537515404824,
          -0.13043258765901544,
          -0.06310997134516425,
          -0.25801259704744195,
          -0.190321549508619,
          -0.5497278378359539,
          -0.26892004978938433,
          -0.2337968722001184,
          -0.6002162635563295,
          -0.2409268651825327,
          -0.18629134471608758,
          -0.0033473790060555906,
          -0.6215548745524485,
          -0.02078422000518463,
          0.010919516059759273,
          -0.2634539863736464,
          -0.04486514218067178,
          -0.4933373911786503,
          -0.49546683932492375,
          -0.5108441258573708,
          -0.5721243973984168,
          -0.5728007090330898,
          -0.16139325490348638,
          -0.2498871602071395,
          -0.13177881887886553,
          0.5825961742565664,
          0.5159189825928765,
          0.513026156290503,
          0.5840808294864661,
          0.42952410562186677,
          0.12995993649244603,
          0.17911231882249226,
          0.6152132163692504,
          0.3841713343405712,
          0.2236712948824307,
          0.47437585064159393,
          0.44047207649388753,
          0.4822966595825969,
          0.13657646757695396,
          0.03421089659304115,
          0.26596766719332504,
          0.3821065790899904,
          0.6661764136141916,
          0.5947519656767946,
          0.26779652777699064,
          0.5877727025914194,
          0.4145982039212023,
          0.13268733469779556,
          0.5811105819992342,
          0.3583535998568227,
          0.5193940087892475,
          0.44202795951236,
          0.32971725491700526,
          0.423616149758337,
          0.08779468912227106,
          0.5623672776158086,
          0.16567832290095935,
          0.07186213768820442,
          0.6190044747997484,
          0.6475130714561945,
          0.12819217076846565,
          0.20418679434122697,
          0.502371592651569,
          0.34331980174964655,
          0.3148903841801357,
          0.18787552712215716,
          0.16116000943039904,
          0.6833915838793211,
          0.5845850009331877,
          0.584517048278919,
          0.17129667615669925,
          0.15039796366972694,
          0.31369708483360753,
          0.34139334924942705,
          0.11980706255637452,
          -0.4157063829525983,
          -0.32648451654872207,
          -0.31764382805329083,
          -0.015158371096226525,
          0.01500348333323518,
          -0.5889777033572715,
          -0.2810988120274107,
          -0.2917499282942729,
          -0.009150772093347838,
          -0.007043483513480295,
          -0.2743145309653109,
          -0.46370614282492245,
          -0.341127296446472,
          -0.1179986278470894,
          -0.1640341398273319,
          -0.12726273742774763,
          -0.45285875717684604,
          -0.12546961210047894,
          0.02175590587281897,
          -0.16808926567567944,
          -0.5401720290002044,
          -0.46341051482632734,
          -0.5464653145490105,
          -0.5569177987116074,
          -0.16428652476097133,
          -0.27171430707573513,
          -0.28480423679150463,
          -0.09950780108476014,
          -0.4214171968067483,
          -0.40886906451952404,
          -0.5585613105155117,
          -0.6026940474219192,
          0.004519294893534993,
          -0.6182548315359625,
          -0.5455366136103093,
          -0.5147366484935,
          -0.2935251871862888,
          -0.2646322893883643,
          -0.3851966069377457,
          -0.12394643820362024,
          -0.12347812843679604,
          -0.0024821386951327505,
          -0.5019599401699365,
          0.02088091343056955,
          0.01660452826044516,
          -0.11762206860814578,
          -0.557115118084523,
          -0.15989614610137765,
          -0.39574283658664655,
          0.02923567888788598
         ],
         "xaxis": "x",
         "y": [
          -0.02835577187790931,
          -0.024113699287892573,
          -0.050243021218395856,
          -0.014562245152504863,
          -0.02926899445103244,
          -0.017702243180022486,
          -0.002096784830309012,
          -0.018913350839385723,
          -0.031928778448517305,
          -0.01410973059655873,
          -0.037560010840401815,
          -0.04537931210591992,
          -0.028264564523277746,
          -0.03685720307000542,
          -0.03420361677767495,
          -0.038520649002045715,
          -0.024718936733512772,
          -0.03253417288478809,
          -0.02935633483966287,
          -0.01036667923873222,
          -0.001166783128419207,
          -0.049905811150771674,
          -0.01850236048843134,
          -0.05156879246845532,
          -0.03727976769494051,
          -0.046624435322012006,
          -0.030720265452285823,
          -0.013447692377745454,
          -0.016435363896446675,
          -0.04845380611846978,
          -0.02474979562977117,
          -0.030477433469063363,
          -0.0391556254854182,
          -0.011627587371838354,
          -0.01794206776309799,
          -0.04489848254283432,
          -0.03460692394109993,
          -0.02814924447407579,
          -0.03242225534702485,
          -0.0239992958675321,
          -0.0005823575010304937,
          -0.02167275249740984,
          -0.01908788865703731,
          -0.04126159823084073,
          -0.04447731637390696,
          -0.012150358675578463,
          -0.021812689045772785,
          -0.02760728643496902,
          -0.010153764468463824,
          -0.03649718993310856,
          -0.4261560972449262,
          -0.37406374323342706,
          -0.0021167990116100306,
          -0.6641656053974787,
          -0.3950861687325962,
          -0.7784371249385865,
          -0.01495559860835282,
          -0.0828529686329249,
          -0.07637107561662837,
          -0.39534474938761405,
          -0.0446085993459518,
          -0.06889364906680168,
          -0.6911592147193052,
          -0.8913937753909155,
          -0.7408891921911291,
          -0.007481991349041267,
          -0.6526730616850827,
          -0.5104216765649916,
          -0.6478936761719774,
          -0.3791880638931631,
          -0.9061468680864415,
          -0.25402970863448027,
          -0.03143305886607516,
          -0.2763845264403132,
          -0.6040909705040141,
          -0.13162719117437777,
          -0.7359871204759034,
          -0.7574285608942609,
          -0.7412944894764341,
          -0.7175440766779929,
          -0.59624100895852,
          -0.4633690620242415,
          -0.5629063378399973,
          -0.5445552277801394,
          -0.5369452844474155,
          -0.9085916575443128,
          -0.6622845044259192,
          -0.6482759363620776,
          -0.45907649581511006,
          -0.09465299905366485,
          -0.5768644017667773,
          -0.5060717724402372,
          -0.4016068778609464,
          -0.7679241537691875,
          -0.3650966377435393,
          -0.42340276306585634,
          -0.22131534202165423,
          -0.787200345219433,
          -0.8708756909354025,
          -0.4946969235638244,
          0.0013234991916917561,
          0.002197400686866748,
          0.002273160121192089,
          0.0020678900862793888,
          0.0021006125777796557,
          0.002029521472218138,
          0.002114219031482056,
          0.0019830192701647716,
          0.0024018286424710715,
          0.0026100146314104082,
          0.0020329044137810696,
          0.002173551732106892,
          0.002495274553849068,
          0.0026066854197345987,
          0.002022619831654514,
          0.002308050316822189,
          0.0023277816387639616,
          0.0020796884885550403,
          0.0025644922805559216,
          0.0023420651997574605,
          0.002590574886493662,
          0.0024815381902749873,
          0.0019626614168197854,
          -0.01984087625506246,
          -0.017831727947381647,
          -0.01743916913829106,
          0.002185970901011559,
          0.0023960881863387146,
          -0.00027244162564193675,
          0.0019990544266693154,
          -0.017962093552046633,
          -0.0008269049949488756,
          0.0009585270254913089,
          -0.019304043059878505,
          0.0005960849388106618,
          0.0020116328993531932,
          0.0025826102550570284,
          -0.019871209457236125,
          0.0025281889937332977,
          0.0026271379550397754,
          -0.000549046175842362,
          0.002453031219529971,
          -0.016463272167570337,
          -0.016519871513878147,
          -0.016928589785433303,
          -0.018557379533994722,
          -0.018575355457235404,
          0.0020893410950190362,
          0.00014060229892512628,
          0.002181769245389486,
          0.8545337098414071,
          0.7501154997443035,
          0.7455852587866562,
          0.8568587184065466,
          0.6148188834684692,
          0.14569363135089314,
          0.2226675358728334,
          0.9056128430665563,
          0.5437952683164968,
          0.29244804713681105,
          0.6850578785106389,
          0.6319636895727458,
          0.6974620705814791,
          0.15605529049786027,
          0.006507479630841331,
          0.3586852622939908,
          0.5405618080855723,
          0.9854225306728268,
          0.873569994225071,
          0.361549305363272,
          0.8626402873644775,
          0.5914445345977228,
          0.1499648076214995,
          0.8522072338670271,
          0.5033640270435774,
          0.7555574808237668,
          0.6344002427006701,
          0.4585187687516426,
          0.6055668714804122,
          0.07966176124900691,
          0.8228547334663794,
          0.20162955011522132,
          0.05471097280823833,
          0.9115500520198803,
          0.9561952531894359,
          0.14292526441516348,
          0.2619348143448472,
          0.7288999360130961,
          0.47982070960407874,
          0.4352995049366049,
          0.23639094717027395,
          0.19455375412739367,
          1.012381933442344,
          0.8576482639578088,
          0.8575418483402185,
          0.21042803691437498,
          0.17770011156577278,
          0.43343076723536816,
          0.4768038350643616,
          0.12979396765339715,
          -0.026755688996905426,
          -0.021086325683088384,
          -0.020524567931933614,
          -0.0011102804249436824,
          0.0007428197659726552,
          -0.03776574860260885,
          -0.018202413268388323,
          -0.01887920977857575,
          -0.0007649303398802916,
          -0.0006333897677019268,
          -0.01777132439169989,
          -0.029805704521802576,
          -0.022016761713072423,
          -0.008112374001446983,
          -0.011058633057685738,
          -0.008705274255531633,
          -0.029116436602146772,
          -0.008590514768622843,
          0.001132377727065235,
          -0.01131815990426472,
          -0.034664523411314034,
          -0.02978691963646768,
          -0.03506441329987867,
          -0.03572858826772176,
          -0.01107478561827226,
          -0.017606100164484398,
          -0.018437864509954417,
          -0.006928966595676933,
          -0.027118567289656524,
          -0.026321230003255276,
          -0.035833020800938205,
          -0.038637316761559855,
          8.837871819183655e-05,
          -0.03962608489818476,
          -0.03500540149880799,
          -0.03304830062950254,
          -0.018992013825840894,
          -0.017156092415455543,
          -0.02481702741288943,
          -0.008493032092862377,
          -0.008463060407259549,
          -0.0003486627905611991,
          -0.03223643909420316,
          0.0011096990464512903,
          0.0008427597399375483,
          -0.008088274322303225,
          -0.03574112639608643,
          -0.010793802691620223,
          -0.02548715918529541,
          0.0026843036241977576
         ],
         "yaxis": "y"
        }
       ],
       "layout": {
        "autosize": false,
        "coloraxis": {
         "colorbar": {
          "title": {
           "text": "color"
          }
         },
         "colorscale": [
          [
           0,
           "#0d0887"
          ],
          [
           0.1111111111111111,
           "#46039f"
          ],
          [
           0.2222222222222222,
           "#7201a8"
          ],
          [
           0.3333333333333333,
           "#9c179e"
          ],
          [
           0.4444444444444444,
           "#bd3786"
          ],
          [
           0.5555555555555556,
           "#d8576b"
          ],
          [
           0.6666666666666666,
           "#ed7953"
          ],
          [
           0.7777777777777778,
           "#fb9f3a"
          ],
          [
           0.8888888888888888,
           "#fdca26"
          ],
          [
           1,
           "#f0f921"
          ]
         ],
         "showscale": false
        },
        "height": 400,
        "legend": {
         "tracegroupgap": 0
        },
        "margin": {
         "b": 0,
         "l": 0,
         "r": 0,
         "t": 0
        },
        "plot_bgcolor": "white",
        "template": {
         "data": {
          "bar": [
           {
            "error_x": {
             "color": "#2a3f5f"
            },
            "error_y": {
             "color": "#2a3f5f"
            },
            "marker": {
             "line": {
              "color": "#E5ECF6",
              "width": 0.5
             },
             "pattern": {
              "fillmode": "overlay",
              "size": 10,
              "solidity": 0.2
             }
            },
            "type": "bar"
           }
          ],
          "barpolar": [
           {
            "marker": {
             "line": {
              "color": "#E5ECF6",
              "width": 0.5
             },
             "pattern": {
              "fillmode": "overlay",
              "size": 10,
              "solidity": 0.2
             }
            },
            "type": "barpolar"
           }
          ],
          "carpet": [
           {
            "aaxis": {
             "endlinecolor": "#2a3f5f",
             "gridcolor": "white",
             "linecolor": "white",
             "minorgridcolor": "white",
             "startlinecolor": "#2a3f5f"
            },
            "baxis": {
             "endlinecolor": "#2a3f5f",
             "gridcolor": "white",
             "linecolor": "white",
             "minorgridcolor": "white",
             "startlinecolor": "#2a3f5f"
            },
            "type": "carpet"
           }
          ],
          "choropleth": [
           {
            "colorbar": {
             "outlinewidth": 0,
             "ticks": ""
            },
            "type": "choropleth"
           }
          ],
          "contour": [
           {
            "colorbar": {
             "outlinewidth": 0,
             "ticks": ""
            },
            "colorscale": [
             [
              0,
              "#0d0887"
             ],
             [
              0.1111111111111111,
              "#46039f"
             ],
             [
              0.2222222222222222,
              "#7201a8"
             ],
             [
              0.3333333333333333,
              "#9c179e"
             ],
             [
              0.4444444444444444,
              "#bd3786"
             ],
             [
              0.5555555555555556,
              "#d8576b"
             ],
             [
              0.6666666666666666,
              "#ed7953"
             ],
             [
              0.7777777777777778,
              "#fb9f3a"
             ],
             [
              0.8888888888888888,
              "#fdca26"
             ],
             [
              1,
              "#f0f921"
             ]
            ],
            "type": "contour"
           }
          ],
          "contourcarpet": [
           {
            "colorbar": {
             "outlinewidth": 0,
             "ticks": ""
            },
            "type": "contourcarpet"
           }
          ],
          "heatmap": [
           {
            "colorbar": {
             "outlinewidth": 0,
             "ticks": ""
            },
            "colorscale": [
             [
              0,
              "#0d0887"
             ],
             [
              0.1111111111111111,
              "#46039f"
             ],
             [
              0.2222222222222222,
              "#7201a8"
             ],
             [
              0.3333333333333333,
              "#9c179e"
             ],
             [
              0.4444444444444444,
              "#bd3786"
             ],
             [
              0.5555555555555556,
              "#d8576b"
             ],
             [
              0.6666666666666666,
              "#ed7953"
             ],
             [
              0.7777777777777778,
              "#fb9f3a"
             ],
             [
              0.8888888888888888,
              "#fdca26"
             ],
             [
              1,
              "#f0f921"
             ]
            ],
            "type": "heatmap"
           }
          ],
          "heatmapgl": [
           {
            "colorbar": {
             "outlinewidth": 0,
             "ticks": ""
            },
            "colorscale": [
             [
              0,
              "#0d0887"
             ],
             [
              0.1111111111111111,
              "#46039f"
             ],
             [
              0.2222222222222222,
              "#7201a8"
             ],
             [
              0.3333333333333333,
              "#9c179e"
             ],
             [
              0.4444444444444444,
              "#bd3786"
             ],
             [
              0.5555555555555556,
              "#d8576b"
             ],
             [
              0.6666666666666666,
              "#ed7953"
             ],
             [
              0.7777777777777778,
              "#fb9f3a"
             ],
             [
              0.8888888888888888,
              "#fdca26"
             ],
             [
              1,
              "#f0f921"
             ]
            ],
            "type": "heatmapgl"
           }
          ],
          "histogram": [
           {
            "marker": {
             "pattern": {
              "fillmode": "overlay",
              "size": 10,
              "solidity": 0.2
             }
            },
            "type": "histogram"
           }
          ],
          "histogram2d": [
           {
            "colorbar": {
             "outlinewidth": 0,
             "ticks": ""
            },
            "colorscale": [
             [
              0,
              "#0d0887"
             ],
             [
              0.1111111111111111,
              "#46039f"
             ],
             [
              0.2222222222222222,
              "#7201a8"
             ],
             [
              0.3333333333333333,
              "#9c179e"
             ],
             [
              0.4444444444444444,
              "#bd3786"
             ],
             [
              0.5555555555555556,
              "#d8576b"
             ],
             [
              0.6666666666666666,
              "#ed7953"
             ],
             [
              0.7777777777777778,
              "#fb9f3a"
             ],
             [
              0.8888888888888888,
              "#fdca26"
             ],
             [
              1,
              "#f0f921"
             ]
            ],
            "type": "histogram2d"
           }
          ],
          "histogram2dcontour": [
           {
            "colorbar": {
             "outlinewidth": 0,
             "ticks": ""
            },
            "colorscale": [
             [
              0,
              "#0d0887"
             ],
             [
              0.1111111111111111,
              "#46039f"
             ],
             [
              0.2222222222222222,
              "#7201a8"
             ],
             [
              0.3333333333333333,
              "#9c179e"
             ],
             [
              0.4444444444444444,
              "#bd3786"
             ],
             [
              0.5555555555555556,
              "#d8576b"
             ],
             [
              0.6666666666666666,
              "#ed7953"
             ],
             [
              0.7777777777777778,
              "#fb9f3a"
             ],
             [
              0.8888888888888888,
              "#fdca26"
             ],
             [
              1,
              "#f0f921"
             ]
            ],
            "type": "histogram2dcontour"
           }
          ],
          "mesh3d": [
           {
            "colorbar": {
             "outlinewidth": 0,
             "ticks": ""
            },
            "type": "mesh3d"
           }
          ],
          "parcoords": [
           {
            "line": {
             "colorbar": {
              "outlinewidth": 0,
              "ticks": ""
             }
            },
            "type": "parcoords"
           }
          ],
          "pie": [
           {
            "automargin": true,
            "type": "pie"
           }
          ],
          "scatter": [
           {
            "marker": {
             "colorbar": {
              "outlinewidth": 0,
              "ticks": ""
             }
            },
            "type": "scatter"
           }
          ],
          "scatter3d": [
           {
            "line": {
             "colorbar": {
              "outlinewidth": 0,
              "ticks": ""
             }
            },
            "marker": {
             "colorbar": {
              "outlinewidth": 0,
              "ticks": ""
             }
            },
            "type": "scatter3d"
           }
          ],
          "scattercarpet": [
           {
            "marker": {
             "colorbar": {
              "outlinewidth": 0,
              "ticks": ""
             }
            },
            "type": "scattercarpet"
           }
          ],
          "scattergeo": [
           {
            "marker": {
             "colorbar": {
              "outlinewidth": 0,
              "ticks": ""
             }
            },
            "type": "scattergeo"
           }
          ],
          "scattergl": [
           {
            "marker": {
             "colorbar": {
              "outlinewidth": 0,
              "ticks": ""
             }
            },
            "type": "scattergl"
           }
          ],
          "scattermapbox": [
           {
            "marker": {
             "colorbar": {
              "outlinewidth": 0,
              "ticks": ""
             }
            },
            "type": "scattermapbox"
           }
          ],
          "scatterpolar": [
           {
            "marker": {
             "colorbar": {
              "outlinewidth": 0,
              "ticks": ""
             }
            },
            "type": "scatterpolar"
           }
          ],
          "scatterpolargl": [
           {
            "marker": {
             "colorbar": {
              "outlinewidth": 0,
              "ticks": ""
             }
            },
            "type": "scatterpolargl"
           }
          ],
          "scatterternary": [
           {
            "marker": {
             "colorbar": {
              "outlinewidth": 0,
              "ticks": ""
             }
            },
            "type": "scatterternary"
           }
          ],
          "surface": [
           {
            "colorbar": {
             "outlinewidth": 0,
             "ticks": ""
            },
            "colorscale": [
             [
              0,
              "#0d0887"
             ],
             [
              0.1111111111111111,
              "#46039f"
             ],
             [
              0.2222222222222222,
              "#7201a8"
             ],
             [
              0.3333333333333333,
              "#9c179e"
             ],
             [
              0.4444444444444444,
              "#bd3786"
             ],
             [
              0.5555555555555556,
              "#d8576b"
             ],
             [
              0.6666666666666666,
              "#ed7953"
             ],
             [
              0.7777777777777778,
              "#fb9f3a"
             ],
             [
              0.8888888888888888,
              "#fdca26"
             ],
             [
              1,
              "#f0f921"
             ]
            ],
            "type": "surface"
           }
          ],
          "table": [
           {
            "cells": {
             "fill": {
              "color": "#EBF0F8"
             },
             "line": {
              "color": "white"
             }
            },
            "header": {
             "fill": {
              "color": "#C8D4E3"
             },
             "line": {
              "color": "white"
             }
            },
            "type": "table"
           }
          ]
         },
         "layout": {
          "annotationdefaults": {
           "arrowcolor": "#2a3f5f",
           "arrowhead": 0,
           "arrowwidth": 1
          },
          "autotypenumbers": "strict",
          "coloraxis": {
           "colorbar": {
            "outlinewidth": 0,
            "ticks": ""
           }
          },
          "colorscale": {
           "diverging": [
            [
             0,
             "#8e0152"
            ],
            [
             0.1,
             "#c51b7d"
            ],
            [
             0.2,
             "#de77ae"
            ],
            [
             0.3,
             "#f1b6da"
            ],
            [
             0.4,
             "#fde0ef"
            ],
            [
             0.5,
             "#f7f7f7"
            ],
            [
             0.6,
             "#e6f5d0"
            ],
            [
             0.7,
             "#b8e186"
            ],
            [
             0.8,
             "#7fbc41"
            ],
            [
             0.9,
             "#4d9221"
            ],
            [
             1,
             "#276419"
            ]
           ],
           "sequential": [
            [
             0,
             "#0d0887"
            ],
            [
             0.1111111111111111,
             "#46039f"
            ],
            [
             0.2222222222222222,
             "#7201a8"
            ],
            [
             0.3333333333333333,
             "#9c179e"
            ],
            [
             0.4444444444444444,
             "#bd3786"
            ],
            [
             0.5555555555555556,
             "#d8576b"
            ],
            [
             0.6666666666666666,
             "#ed7953"
            ],
            [
             0.7777777777777778,
             "#fb9f3a"
            ],
            [
             0.8888888888888888,
             "#fdca26"
            ],
            [
             1,
             "#f0f921"
            ]
           ],
           "sequentialminus": [
            [
             0,
             "#0d0887"
            ],
            [
             0.1111111111111111,
             "#46039f"
            ],
            [
             0.2222222222222222,
             "#7201a8"
            ],
            [
             0.3333333333333333,
             "#9c179e"
            ],
            [
             0.4444444444444444,
             "#bd3786"
            ],
            [
             0.5555555555555556,
             "#d8576b"
            ],
            [
             0.6666666666666666,
             "#ed7953"
            ],
            [
             0.7777777777777778,
             "#fb9f3a"
            ],
            [
             0.8888888888888888,
             "#fdca26"
            ],
            [
             1,
             "#f0f921"
            ]
           ]
          },
          "colorway": [
           "#636efa",
           "#EF553B",
           "#00cc96",
           "#ab63fa",
           "#FFA15A",
           "#19d3f3",
           "#FF6692",
           "#B6E880",
           "#FF97FF",
           "#FECB52"
          ],
          "font": {
           "color": "#2a3f5f"
          },
          "geo": {
           "bgcolor": "white",
           "lakecolor": "white",
           "landcolor": "#E5ECF6",
           "showlakes": true,
           "showland": true,
           "subunitcolor": "white"
          },
          "hoverlabel": {
           "align": "left"
          },
          "hovermode": "closest",
          "mapbox": {
           "style": "light"
          },
          "paper_bgcolor": "white",
          "plot_bgcolor": "#E5ECF6",
          "polar": {
           "angularaxis": {
            "gridcolor": "white",
            "linecolor": "white",
            "ticks": ""
           },
           "bgcolor": "#E5ECF6",
           "radialaxis": {
            "gridcolor": "white",
            "linecolor": "white",
            "ticks": ""
           }
          },
          "scene": {
           "xaxis": {
            "backgroundcolor": "#E5ECF6",
            "gridcolor": "white",
            "gridwidth": 2,
            "linecolor": "white",
            "showbackground": true,
            "ticks": "",
            "zerolinecolor": "white"
           },
           "yaxis": {
            "backgroundcolor": "#E5ECF6",
            "gridcolor": "white",
            "gridwidth": 2,
            "linecolor": "white",
            "showbackground": true,
            "ticks": "",
            "zerolinecolor": "white"
           },
           "zaxis": {
            "backgroundcolor": "#E5ECF6",
            "gridcolor": "white",
            "gridwidth": 2,
            "linecolor": "white",
            "showbackground": true,
            "ticks": "",
            "zerolinecolor": "white"
           }
          },
          "shapedefaults": {
           "line": {
            "color": "#2a3f5f"
           }
          },
          "ternary": {
           "aaxis": {
            "gridcolor": "white",
            "linecolor": "white",
            "ticks": ""
           },
           "baxis": {
            "gridcolor": "white",
            "linecolor": "white",
            "ticks": ""
           },
           "bgcolor": "#E5ECF6",
           "caxis": {
            "gridcolor": "white",
            "linecolor": "white",
            "ticks": ""
           }
          },
          "title": {
           "x": 0.05
          },
          "xaxis": {
           "automargin": true,
           "gridcolor": "white",
           "linecolor": "white",
           "ticks": "",
           "title": {
            "standoff": 15
           },
           "zerolinecolor": "white",
           "zerolinewidth": 2
          },
          "yaxis": {
           "automargin": true,
           "gridcolor": "white",
           "linecolor": "white",
           "ticks": "",
           "title": {
            "standoff": 15
           },
           "zerolinecolor": "white",
           "zerolinewidth": 2
          }
         }
        },
        "width": 400,
        "xaxis": {
         "anchor": "y",
         "domain": [
          0,
          1
         ],
         "range": [
          -1.1215548745524484,
          1.3052462092069508
         ],
         "title": {
          "text": "x"
         },
         "visible": false
        },
        "yaxis": {
         "anchor": "x",
         "domain": [
          0,
          1
         ],
         "range": [
          -1.4085916575443127,
          1.512381933442344
         ],
         "title": {
          "text": "y"
         },
         "visible": false
        }
       }
      },
      "text/html": [
       "<div>                            <div id=\"9dd09ae8-2407-4177-8abf-23027e47f271\" class=\"plotly-graph-div\" style=\"height:400px; width:400px;\"></div>            <script type=\"text/javascript\">                require([\"plotly\"], function(Plotly) {                    window.PLOTLYENV=window.PLOTLYENV || {};                                    if (document.getElementById(\"9dd09ae8-2407-4177-8abf-23027e47f271\")) {                    Plotly.newPlot(                        \"9dd09ae8-2407-4177-8abf-23027e47f271\",                        [{\"hovertemplate\":\"x=%{x}<br>y=%{y}<br>color=%{marker.color}<extra></extra>\",\"legendgroup\":\"\",\"marker\":{\"color\":[1.0,1.0,1.0,1.0,1.0,1.0,1.0,1.0,1.0,1.0,1.0,1.0,1.0,1.0,1.0,1.0,1.0,1.0,1.0,1.0,1.0,1.0,1.0,1.0,1.0,1.0,1.0,1.0,1.0,1.0,1.0,1.0,1.0,1.0,1.0,1.0,1.0,1.0,1.0,1.0,1.0,1.0,1.0,1.0,1.0,1.0,1.0,1.0,1.0,1.0,1.0,1.0,1.0,1.0,1.0,1.0,1.0,1.0,1.0,1.0,1.0,1.0,1.0,1.0,1.0,1.0,1.0,1.0,1.0,1.0,1.0,1.0,1.0,1.0,1.0,1.0,1.0,1.0,1.0,1.0,1.0,1.0,1.0,1.0,1.0,1.0,1.0,1.0,1.0,1.0,1.0,1.0,1.0,1.0,1.0,1.0,1.0,1.0,1.0,1.0,1.0,1.0,1.0,1.0,1.0,1.0,1.0,1.0,1.0,1.0,1.0,1.0,1.0,1.0,1.0,1.0,1.0,1.0,1.0,1.0,1.0,1.0,1.0,1.0,1.0,1.0,1.0,1.0,1.0,1.0,1.0,1.0,1.0,1.0,1.0,1.0,1.0,1.0,1.0,1.0,1.0,1.0,1.0,1.0,1.0,1.0,1.0,1.0,1.0,1.0,1.0,1.0,1.0,1.0,1.0,1.0,1.0,1.0,1.0,1.0,1.0,1.0,1.0,1.0,1.0,1.0,1.0,1.0,1.0,1.0,1.0,1.0,1.0,1.0,1.0,1.0,1.0,1.0,1.0,1.0,1.0,1.0,1.0,1.0,1.0,1.0,1.0,1.0,1.0,1.0,1.0,1.0,1.0,1.0,1.0,1.0,1.0,1.0,1.0,1.0,1.0,1.0,1.0,1.0,1.0,1.0,1.0,1.0,1.0,1.0,1.0,1.0,1.0,1.0,1.0,1.0,1.0,1.0,1.0,1.0,1.0,1.0,1.0,1.0,1.0,1.0,1.0,1.0,1.0,1.0,1.0,1.0,1.0,1.0,1.0,1.0,1.0,1.0,1.0,1.0,1.0,1.0,1.0,1.0,1.0,1.0,1.0,1.0,1.0,1.0],\"coloraxis\":\"coloraxis\",\"opacity\":1,\"symbol\":\"circle\",\"line\":{\"color\":\"black\",\"width\":0.2},\"size\":5},\"mode\":\"markers\",\"name\":\"\",\"orientation\":\"v\",\"showlegend\":false,\"x\":[-0.3232192967891466,-0.27493157048857736,-0.5723629602222001,-0.16620688620395094,-0.3336145554101912,-0.20194964216100744,-0.005792578227808158,-0.21573574174673854,-0.3638910108370548,-0.16105589018470082,-0.427991613244031,-0.5169991140255181,-0.32218107887005026,-0.41999151693764253,-0.38978561030122105,-0.43892660590127563,-0.2818210188657098,-0.37078224624667344,-0.3346087554602072,-0.11844854774528372,0.00380148166621602,-0.5685244810105095,-0.2110574178477596,-0.5874542812454785,-0.42480159138125456,-0.5311724144095367,-0.3501344464326587,-0.1535198757407692,-0.18752869136324626,-0.5519962344755835,-0.2821722872386152,-0.3473702777169992,-0.4461545752454547,-0.13280152863601277,-0.2046795774890716,-0.5115258068515343,-0.3943764760889388,-0.32086838493219955,-0.3695082832681889,-0.27362931058306894,0.009655351997871838,-0.24714615002913615,-0.21772251453032468,-0.47012696925085934,-0.5067316511032111,-0.1387522607597898,-0.24873905481881278,-0.3146992492317942,-0.11602492817397829,-0.41589346923804144,0.3991118491800738,0.3552583346389301,0.03663500739487007,0.5994781721224828,0.37295588852782524,0.6956766995057588,0.05294613276219437,0.1101049684527581,0.10464824078056374,0.3731735724994964,0.07790926456360577,0.09835343149126255,0.6222025174007036,0.7907683152932992,0.6640672849193681,0.0466859111797912,0.5898032698768473,0.47005012559612136,0.5857797839723626,0.3595722013249244,0.8031880835553994,0.254208681928764,0.06681754550068646,0.2730278991884851,0.5489048408755806,0.15116514164021694,0.6599405166570255,0.6779908147672227,0.6644084810647889,0.6444143937792594,0.5422964161016351,0.430439273771186,0.5142339007409803,0.4987851715152201,0.49237880407547596,0.8052462092069507,0.5978945829302683,0.5861015865309754,0.4268256126448444,0.12003872582390002,0.5259843806529484,0.4663881950228669,0.3784452932207975,0.686826442250229,0.3477094515359332,0.3967939777237016,0.226668364752021,0.7030539435429263,0.7734953367132257,0.45681237319506157,-0.22661710726824424,-0.12677042780168654,-0.10249673075046078,-0.16826626408349898,-0.1577818161396115,-0.18055975759077697,-0.15342224115001496,-0.1954592928751833,-0.06127070083931175,0.005433118570218206,-0.179475846400411,-0.13441175073365505,-0.03133016915956042,0.004366422701198548,-0.1827710773253866,-0.09131773969379942,-0.08499572666008928,-0.1644859977037501,-0.00915246754894896,-0.08041920314907501,-0.0007954717440932375,-0.035731367913804754,-0.2019820496658878,-0.620413642623927,-0.5448230674931132,-0.5300537515404824,-0.13043258765901544,-0.06310997134516425,-0.25801259704744195,-0.190321549508619,-0.5497278378359539,-0.26892004978938433,-0.2337968722001184,-0.6002162635563295,-0.2409268651825327,-0.18629134471608758,-0.0033473790060555906,-0.6215548745524485,-0.02078422000518463,0.010919516059759273,-0.2634539863736464,-0.04486514218067178,-0.4933373911786503,-0.49546683932492375,-0.5108441258573708,-0.5721243973984168,-0.5728007090330898,-0.16139325490348638,-0.2498871602071395,-0.13177881887886553,0.5825961742565664,0.5159189825928765,0.513026156290503,0.5840808294864661,0.42952410562186677,0.12995993649244603,0.17911231882249226,0.6152132163692504,0.3841713343405712,0.2236712948824307,0.47437585064159393,0.44047207649388753,0.4822966595825969,0.13657646757695396,0.03421089659304115,0.26596766719332504,0.3821065790899904,0.6661764136141916,0.5947519656767946,0.26779652777699064,0.5877727025914194,0.4145982039212023,0.13268733469779556,0.5811105819992342,0.3583535998568227,0.5193940087892475,0.44202795951236,0.32971725491700526,0.423616149758337,0.08779468912227106,0.5623672776158086,0.16567832290095935,0.07186213768820442,0.6190044747997484,0.6475130714561945,0.12819217076846565,0.20418679434122697,0.502371592651569,0.34331980174964655,0.3148903841801357,0.18787552712215716,0.16116000943039904,0.6833915838793211,0.5845850009331877,0.584517048278919,0.17129667615669925,0.15039796366972694,0.31369708483360753,0.34139334924942705,0.11980706255637452,-0.4157063829525983,-0.32648451654872207,-0.31764382805329083,-0.015158371096226525,0.01500348333323518,-0.5889777033572715,-0.2810988120274107,-0.2917499282942729,-0.009150772093347838,-0.007043483513480295,-0.2743145309653109,-0.46370614282492245,-0.341127296446472,-0.1179986278470894,-0.1640341398273319,-0.12726273742774763,-0.45285875717684604,-0.12546961210047894,0.02175590587281897,-0.16808926567567944,-0.5401720290002044,-0.46341051482632734,-0.5464653145490105,-0.5569177987116074,-0.16428652476097133,-0.27171430707573513,-0.28480423679150463,-0.09950780108476014,-0.4214171968067483,-0.40886906451952404,-0.5585613105155117,-0.6026940474219192,0.004519294893534993,-0.6182548315359625,-0.5455366136103093,-0.5147366484935,-0.2935251871862888,-0.2646322893883643,-0.3851966069377457,-0.12394643820362024,-0.12347812843679604,-0.0024821386951327505,-0.5019599401699365,0.02088091343056955,0.01660452826044516,-0.11762206860814578,-0.557115118084523,-0.15989614610137765,-0.39574283658664655,0.02923567888788598],\"xaxis\":\"x\",\"y\":[-0.02835577187790931,-0.024113699287892573,-0.050243021218395856,-0.014562245152504863,-0.02926899445103244,-0.017702243180022486,-0.002096784830309012,-0.018913350839385723,-0.031928778448517305,-0.01410973059655873,-0.037560010840401815,-0.04537931210591992,-0.028264564523277746,-0.03685720307000542,-0.03420361677767495,-0.038520649002045715,-0.024718936733512772,-0.03253417288478809,-0.02935633483966287,-0.01036667923873222,-0.001166783128419207,-0.049905811150771674,-0.01850236048843134,-0.05156879246845532,-0.03727976769494051,-0.046624435322012006,-0.030720265452285823,-0.013447692377745454,-0.016435363896446675,-0.04845380611846978,-0.02474979562977117,-0.030477433469063363,-0.0391556254854182,-0.011627587371838354,-0.01794206776309799,-0.04489848254283432,-0.03460692394109993,-0.02814924447407579,-0.03242225534702485,-0.0239992958675321,-0.0005823575010304937,-0.02167275249740984,-0.01908788865703731,-0.04126159823084073,-0.04447731637390696,-0.012150358675578463,-0.021812689045772785,-0.02760728643496902,-0.010153764468463824,-0.03649718993310856,-0.4261560972449262,-0.37406374323342706,-0.0021167990116100306,-0.6641656053974787,-0.3950861687325962,-0.7784371249385865,-0.01495559860835282,-0.0828529686329249,-0.07637107561662837,-0.39534474938761405,-0.0446085993459518,-0.06889364906680168,-0.6911592147193052,-0.8913937753909155,-0.7408891921911291,-0.007481991349041267,-0.6526730616850827,-0.5104216765649916,-0.6478936761719774,-0.3791880638931631,-0.9061468680864415,-0.25402970863448027,-0.03143305886607516,-0.2763845264403132,-0.6040909705040141,-0.13162719117437777,-0.7359871204759034,-0.7574285608942609,-0.7412944894764341,-0.7175440766779929,-0.59624100895852,-0.4633690620242415,-0.5629063378399973,-0.5445552277801394,-0.5369452844474155,-0.9085916575443128,-0.6622845044259192,-0.6482759363620776,-0.45907649581511006,-0.09465299905366485,-0.5768644017667773,-0.5060717724402372,-0.4016068778609464,-0.7679241537691875,-0.3650966377435393,-0.42340276306585634,-0.22131534202165423,-0.787200345219433,-0.8708756909354025,-0.4946969235638244,0.0013234991916917561,0.002197400686866748,0.002273160121192089,0.0020678900862793888,0.0021006125777796557,0.002029521472218138,0.002114219031482056,0.0019830192701647716,0.0024018286424710715,0.0026100146314104082,0.0020329044137810696,0.002173551732106892,0.002495274553849068,0.0026066854197345987,0.002022619831654514,0.002308050316822189,0.0023277816387639616,0.0020796884885550403,0.0025644922805559216,0.0023420651997574605,0.002590574886493662,0.0024815381902749873,0.0019626614168197854,-0.01984087625506246,-0.017831727947381647,-0.01743916913829106,0.002185970901011559,0.0023960881863387146,-0.00027244162564193675,0.0019990544266693154,-0.017962093552046633,-0.0008269049949488756,0.0009585270254913089,-0.019304043059878505,0.0005960849388106618,0.0020116328993531932,0.0025826102550570284,-0.019871209457236125,0.0025281889937332977,0.0026271379550397754,-0.000549046175842362,0.002453031219529971,-0.016463272167570337,-0.016519871513878147,-0.016928589785433303,-0.018557379533994722,-0.018575355457235404,0.0020893410950190362,0.00014060229892512628,0.002181769245389486,0.8545337098414071,0.7501154997443035,0.7455852587866562,0.8568587184065466,0.6148188834684692,0.14569363135089314,0.2226675358728334,0.9056128430665563,0.5437952683164968,0.29244804713681105,0.6850578785106389,0.6319636895727458,0.6974620705814791,0.15605529049786027,0.006507479630841331,0.3586852622939908,0.5405618080855723,0.9854225306728268,0.873569994225071,0.361549305363272,0.8626402873644775,0.5914445345977228,0.1499648076214995,0.8522072338670271,0.5033640270435774,0.7555574808237668,0.6344002427006701,0.4585187687516426,0.6055668714804122,0.07966176124900691,0.8228547334663794,0.20162955011522132,0.05471097280823833,0.9115500520198803,0.9561952531894359,0.14292526441516348,0.2619348143448472,0.7288999360130961,0.47982070960407874,0.4352995049366049,0.23639094717027395,0.19455375412739367,1.012381933442344,0.8576482639578088,0.8575418483402185,0.21042803691437498,0.17770011156577278,0.43343076723536816,0.4768038350643616,0.12979396765339715,-0.026755688996905426,-0.021086325683088384,-0.020524567931933614,-0.0011102804249436824,0.0007428197659726552,-0.03776574860260885,-0.018202413268388323,-0.01887920977857575,-0.0007649303398802916,-0.0006333897677019268,-0.01777132439169989,-0.029805704521802576,-0.022016761713072423,-0.008112374001446983,-0.011058633057685738,-0.008705274255531633,-0.029116436602146772,-0.008590514768622843,0.001132377727065235,-0.01131815990426472,-0.034664523411314034,-0.02978691963646768,-0.03506441329987867,-0.03572858826772176,-0.01107478561827226,-0.017606100164484398,-0.018437864509954417,-0.006928966595676933,-0.027118567289656524,-0.026321230003255276,-0.035833020800938205,-0.038637316761559855,8.837871819183655e-05,-0.03962608489818476,-0.03500540149880799,-0.03304830062950254,-0.018992013825840894,-0.017156092415455543,-0.02481702741288943,-0.008493032092862377,-0.008463060407259549,-0.0003486627905611991,-0.03223643909420316,0.0011096990464512903,0.0008427597399375483,-0.008088274322303225,-0.03574112639608643,-0.010793802691620223,-0.02548715918529541,0.0026843036241977576],\"yaxis\":\"y\",\"type\":\"scatter\"}],                        {\"template\":{\"data\":{\"bar\":[{\"error_x\":{\"color\":\"#2a3f5f\"},\"error_y\":{\"color\":\"#2a3f5f\"},\"marker\":{\"line\":{\"color\":\"#E5ECF6\",\"width\":0.5},\"pattern\":{\"fillmode\":\"overlay\",\"size\":10,\"solidity\":0.2}},\"type\":\"bar\"}],\"barpolar\":[{\"marker\":{\"line\":{\"color\":\"#E5ECF6\",\"width\":0.5},\"pattern\":{\"fillmode\":\"overlay\",\"size\":10,\"solidity\":0.2}},\"type\":\"barpolar\"}],\"carpet\":[{\"aaxis\":{\"endlinecolor\":\"#2a3f5f\",\"gridcolor\":\"white\",\"linecolor\":\"white\",\"minorgridcolor\":\"white\",\"startlinecolor\":\"#2a3f5f\"},\"baxis\":{\"endlinecolor\":\"#2a3f5f\",\"gridcolor\":\"white\",\"linecolor\":\"white\",\"minorgridcolor\":\"white\",\"startlinecolor\":\"#2a3f5f\"},\"type\":\"carpet\"}],\"choropleth\":[{\"colorbar\":{\"outlinewidth\":0,\"ticks\":\"\"},\"type\":\"choropleth\"}],\"contour\":[{\"colorbar\":{\"outlinewidth\":0,\"ticks\":\"\"},\"colorscale\":[[0.0,\"#0d0887\"],[0.1111111111111111,\"#46039f\"],[0.2222222222222222,\"#7201a8\"],[0.3333333333333333,\"#9c179e\"],[0.4444444444444444,\"#bd3786\"],[0.5555555555555556,\"#d8576b\"],[0.6666666666666666,\"#ed7953\"],[0.7777777777777778,\"#fb9f3a\"],[0.8888888888888888,\"#fdca26\"],[1.0,\"#f0f921\"]],\"type\":\"contour\"}],\"contourcarpet\":[{\"colorbar\":{\"outlinewidth\":0,\"ticks\":\"\"},\"type\":\"contourcarpet\"}],\"heatmap\":[{\"colorbar\":{\"outlinewidth\":0,\"ticks\":\"\"},\"colorscale\":[[0.0,\"#0d0887\"],[0.1111111111111111,\"#46039f\"],[0.2222222222222222,\"#7201a8\"],[0.3333333333333333,\"#9c179e\"],[0.4444444444444444,\"#bd3786\"],[0.5555555555555556,\"#d8576b\"],[0.6666666666666666,\"#ed7953\"],[0.7777777777777778,\"#fb9f3a\"],[0.8888888888888888,\"#fdca26\"],[1.0,\"#f0f921\"]],\"type\":\"heatmap\"}],\"heatmapgl\":[{\"colorbar\":{\"outlinewidth\":0,\"ticks\":\"\"},\"colorscale\":[[0.0,\"#0d0887\"],[0.1111111111111111,\"#46039f\"],[0.2222222222222222,\"#7201a8\"],[0.3333333333333333,\"#9c179e\"],[0.4444444444444444,\"#bd3786\"],[0.5555555555555556,\"#d8576b\"],[0.6666666666666666,\"#ed7953\"],[0.7777777777777778,\"#fb9f3a\"],[0.8888888888888888,\"#fdca26\"],[1.0,\"#f0f921\"]],\"type\":\"heatmapgl\"}],\"histogram\":[{\"marker\":{\"pattern\":{\"fillmode\":\"overlay\",\"size\":10,\"solidity\":0.2}},\"type\":\"histogram\"}],\"histogram2d\":[{\"colorbar\":{\"outlinewidth\":0,\"ticks\":\"\"},\"colorscale\":[[0.0,\"#0d0887\"],[0.1111111111111111,\"#46039f\"],[0.2222222222222222,\"#7201a8\"],[0.3333333333333333,\"#9c179e\"],[0.4444444444444444,\"#bd3786\"],[0.5555555555555556,\"#d8576b\"],[0.6666666666666666,\"#ed7953\"],[0.7777777777777778,\"#fb9f3a\"],[0.8888888888888888,\"#fdca26\"],[1.0,\"#f0f921\"]],\"type\":\"histogram2d\"}],\"histogram2dcontour\":[{\"colorbar\":{\"outlinewidth\":0,\"ticks\":\"\"},\"colorscale\":[[0.0,\"#0d0887\"],[0.1111111111111111,\"#46039f\"],[0.2222222222222222,\"#7201a8\"],[0.3333333333333333,\"#9c179e\"],[0.4444444444444444,\"#bd3786\"],[0.5555555555555556,\"#d8576b\"],[0.6666666666666666,\"#ed7953\"],[0.7777777777777778,\"#fb9f3a\"],[0.8888888888888888,\"#fdca26\"],[1.0,\"#f0f921\"]],\"type\":\"histogram2dcontour\"}],\"mesh3d\":[{\"colorbar\":{\"outlinewidth\":0,\"ticks\":\"\"},\"type\":\"mesh3d\"}],\"parcoords\":[{\"line\":{\"colorbar\":{\"outlinewidth\":0,\"ticks\":\"\"}},\"type\":\"parcoords\"}],\"pie\":[{\"automargin\":true,\"type\":\"pie\"}],\"scatter\":[{\"marker\":{\"colorbar\":{\"outlinewidth\":0,\"ticks\":\"\"}},\"type\":\"scatter\"}],\"scatter3d\":[{\"line\":{\"colorbar\":{\"outlinewidth\":0,\"ticks\":\"\"}},\"marker\":{\"colorbar\":{\"outlinewidth\":0,\"ticks\":\"\"}},\"type\":\"scatter3d\"}],\"scattercarpet\":[{\"marker\":{\"colorbar\":{\"outlinewidth\":0,\"ticks\":\"\"}},\"type\":\"scattercarpet\"}],\"scattergeo\":[{\"marker\":{\"colorbar\":{\"outlinewidth\":0,\"ticks\":\"\"}},\"type\":\"scattergeo\"}],\"scattergl\":[{\"marker\":{\"colorbar\":{\"outlinewidth\":0,\"ticks\":\"\"}},\"type\":\"scattergl\"}],\"scattermapbox\":[{\"marker\":{\"colorbar\":{\"outlinewidth\":0,\"ticks\":\"\"}},\"type\":\"scattermapbox\"}],\"scatterpolar\":[{\"marker\":{\"colorbar\":{\"outlinewidth\":0,\"ticks\":\"\"}},\"type\":\"scatterpolar\"}],\"scatterpolargl\":[{\"marker\":{\"colorbar\":{\"outlinewidth\":0,\"ticks\":\"\"}},\"type\":\"scatterpolargl\"}],\"scatterternary\":[{\"marker\":{\"colorbar\":{\"outlinewidth\":0,\"ticks\":\"\"}},\"type\":\"scatterternary\"}],\"surface\":[{\"colorbar\":{\"outlinewidth\":0,\"ticks\":\"\"},\"colorscale\":[[0.0,\"#0d0887\"],[0.1111111111111111,\"#46039f\"],[0.2222222222222222,\"#7201a8\"],[0.3333333333333333,\"#9c179e\"],[0.4444444444444444,\"#bd3786\"],[0.5555555555555556,\"#d8576b\"],[0.6666666666666666,\"#ed7953\"],[0.7777777777777778,\"#fb9f3a\"],[0.8888888888888888,\"#fdca26\"],[1.0,\"#f0f921\"]],\"type\":\"surface\"}],\"table\":[{\"cells\":{\"fill\":{\"color\":\"#EBF0F8\"},\"line\":{\"color\":\"white\"}},\"header\":{\"fill\":{\"color\":\"#C8D4E3\"},\"line\":{\"color\":\"white\"}},\"type\":\"table\"}]},\"layout\":{\"annotationdefaults\":{\"arrowcolor\":\"#2a3f5f\",\"arrowhead\":0,\"arrowwidth\":1},\"autotypenumbers\":\"strict\",\"coloraxis\":{\"colorbar\":{\"outlinewidth\":0,\"ticks\":\"\"}},\"colorscale\":{\"diverging\":[[0,\"#8e0152\"],[0.1,\"#c51b7d\"],[0.2,\"#de77ae\"],[0.3,\"#f1b6da\"],[0.4,\"#fde0ef\"],[0.5,\"#f7f7f7\"],[0.6,\"#e6f5d0\"],[0.7,\"#b8e186\"],[0.8,\"#7fbc41\"],[0.9,\"#4d9221\"],[1,\"#276419\"]],\"sequential\":[[0.0,\"#0d0887\"],[0.1111111111111111,\"#46039f\"],[0.2222222222222222,\"#7201a8\"],[0.3333333333333333,\"#9c179e\"],[0.4444444444444444,\"#bd3786\"],[0.5555555555555556,\"#d8576b\"],[0.6666666666666666,\"#ed7953\"],[0.7777777777777778,\"#fb9f3a\"],[0.8888888888888888,\"#fdca26\"],[1.0,\"#f0f921\"]],\"sequentialminus\":[[0.0,\"#0d0887\"],[0.1111111111111111,\"#46039f\"],[0.2222222222222222,\"#7201a8\"],[0.3333333333333333,\"#9c179e\"],[0.4444444444444444,\"#bd3786\"],[0.5555555555555556,\"#d8576b\"],[0.6666666666666666,\"#ed7953\"],[0.7777777777777778,\"#fb9f3a\"],[0.8888888888888888,\"#fdca26\"],[1.0,\"#f0f921\"]]},\"colorway\":[\"#636efa\",\"#EF553B\",\"#00cc96\",\"#ab63fa\",\"#FFA15A\",\"#19d3f3\",\"#FF6692\",\"#B6E880\",\"#FF97FF\",\"#FECB52\"],\"font\":{\"color\":\"#2a3f5f\"},\"geo\":{\"bgcolor\":\"white\",\"lakecolor\":\"white\",\"landcolor\":\"#E5ECF6\",\"showlakes\":true,\"showland\":true,\"subunitcolor\":\"white\"},\"hoverlabel\":{\"align\":\"left\"},\"hovermode\":\"closest\",\"mapbox\":{\"style\":\"light\"},\"paper_bgcolor\":\"white\",\"plot_bgcolor\":\"#E5ECF6\",\"polar\":{\"angularaxis\":{\"gridcolor\":\"white\",\"linecolor\":\"white\",\"ticks\":\"\"},\"bgcolor\":\"#E5ECF6\",\"radialaxis\":{\"gridcolor\":\"white\",\"linecolor\":\"white\",\"ticks\":\"\"}},\"scene\":{\"xaxis\":{\"backgroundcolor\":\"#E5ECF6\",\"gridcolor\":\"white\",\"gridwidth\":2,\"linecolor\":\"white\",\"showbackground\":true,\"ticks\":\"\",\"zerolinecolor\":\"white\"},\"yaxis\":{\"backgroundcolor\":\"#E5ECF6\",\"gridcolor\":\"white\",\"gridwidth\":2,\"linecolor\":\"white\",\"showbackground\":true,\"ticks\":\"\",\"zerolinecolor\":\"white\"},\"zaxis\":{\"backgroundcolor\":\"#E5ECF6\",\"gridcolor\":\"white\",\"gridwidth\":2,\"linecolor\":\"white\",\"showbackground\":true,\"ticks\":\"\",\"zerolinecolor\":\"white\"}},\"shapedefaults\":{\"line\":{\"color\":\"#2a3f5f\"}},\"ternary\":{\"aaxis\":{\"gridcolor\":\"white\",\"linecolor\":\"white\",\"ticks\":\"\"},\"baxis\":{\"gridcolor\":\"white\",\"linecolor\":\"white\",\"ticks\":\"\"},\"bgcolor\":\"#E5ECF6\",\"caxis\":{\"gridcolor\":\"white\",\"linecolor\":\"white\",\"ticks\":\"\"}},\"title\":{\"x\":0.05},\"xaxis\":{\"automargin\":true,\"gridcolor\":\"white\",\"linecolor\":\"white\",\"ticks\":\"\",\"title\":{\"standoff\":15},\"zerolinecolor\":\"white\",\"zerolinewidth\":2},\"yaxis\":{\"automargin\":true,\"gridcolor\":\"white\",\"linecolor\":\"white\",\"ticks\":\"\",\"title\":{\"standoff\":15},\"zerolinecolor\":\"white\",\"zerolinewidth\":2}}},\"xaxis\":{\"anchor\":\"y\",\"domain\":[0.0,1.0],\"title\":{\"text\":\"x\"},\"visible\":false,\"range\":[-1.1215548745524484,1.3052462092069508]},\"yaxis\":{\"anchor\":\"x\",\"domain\":[0.0,1.0],\"title\":{\"text\":\"y\"},\"visible\":false,\"range\":[-1.4085916575443127,1.512381933442344]},\"coloraxis\":{\"colorbar\":{\"title\":{\"text\":\"color\"}},\"colorscale\":[[0.0,\"#0d0887\"],[0.1111111111111111,\"#46039f\"],[0.2222222222222222,\"#7201a8\"],[0.3333333333333333,\"#9c179e\"],[0.4444444444444444,\"#bd3786\"],[0.5555555555555556,\"#d8576b\"],[0.6666666666666666,\"#ed7953\"],[0.7777777777777778,\"#fb9f3a\"],[0.8888888888888888,\"#fdca26\"],[1.0,\"#f0f921\"]],\"showscale\":false},\"legend\":{\"tracegroupgap\":0},\"margin\":{\"t\":0,\"l\":0,\"r\":0,\"b\":0},\"plot_bgcolor\":\"white\",\"width\":400,\"height\":400,\"autosize\":false},                        {\"responsive\": true}                    ).then(function(){\n",
       "                            \n",
       "var gd = document.getElementById('9dd09ae8-2407-4177-8abf-23027e47f271');\n",
       "var x = new MutationObserver(function (mutations, observer) {{\n",
       "        var display = window.getComputedStyle(gd).display;\n",
       "        if (!display || display === 'none') {{\n",
       "            console.log([gd, 'removed!']);\n",
       "            Plotly.purge(gd);\n",
       "            observer.disconnect();\n",
       "        }}\n",
       "}});\n",
       "\n",
       "// Listen for the removal of the full notebook cells\n",
       "var notebookContainer = gd.closest('#notebook-container');\n",
       "if (notebookContainer) {{\n",
       "    x.observe(notebookContainer, {childList: true});\n",
       "}}\n",
       "\n",
       "// Listen for the clearing of the current output cell\n",
       "var outputEl = gd.closest('.output');\n",
       "if (outputEl) {{\n",
       "    x.observe(outputEl, {childList: true});\n",
       "}}\n",
       "\n",
       "                        })                };                });            </script>        </div>"
      ]
     },
     "metadata": {},
     "output_type": "display_data"
    }
   ],
   "source": [
    "fig = plotly_2D_scatter(X_isomap, y = np.ones(X.shape[0]), \n",
    "                        save_path=\"images/Tendril/ISOMAP.pdf\",\n",
    "                  width=400, height=400, \n",
    "                  autosize=False, margin = {'l':0,'r':0,'t':0,'b':0})\n",
    "fig.show()"
   ]
  },
  {
   "cell_type": "markdown",
   "id": "8fe7fb3c",
   "metadata": {},
   "source": [
    "see 4 "
   ]
  },
  {
   "cell_type": "markdown",
   "id": "322216fb",
   "metadata": {},
   "source": [
    "## PH"
   ]
  },
  {
   "cell_type": "code",
   "execution_count": 7,
   "id": "37fd9586",
   "metadata": {},
   "outputs": [
    {
     "data": {
      "text/plain": [
       "  C_CONTIGUOUS : True\n",
       "  F_CONTIGUOUS : False\n",
       "  OWNDATA : True\n",
       "  WRITEABLE : True\n",
       "  ALIGNED : True\n",
       "  WRITEBACKIFCOPY : False\n",
       "  UPDATEIFCOPY : False"
      ]
     },
     "execution_count": 7,
     "metadata": {},
     "output_type": "execute_result"
    }
   ],
   "source": [
    "from herabottleneck import BottleneckDistanceHera, BottleneckLayerHera\n",
    "from torch_tda.nn import RipsLayer, Rips0Layer, BottleneckLayer, WassersteinLayer, BarcodePolyFeature\n",
    "import bats\n",
    "import torch\n",
    "\n",
    "X.flags"
   ]
  },
  {
   "cell_type": "markdown",
   "id": "700155a5",
   "metadata": {},
   "source": [
    "double check `C_CONTIGUOUS == True` so that BATs will run successfully."
   ]
  },
  {
   "cell_type": "markdown",
   "id": "dc89fed7",
   "metadata": {},
   "source": [
    "### Rips"
   ]
  },
  {
   "cell_type": "code",
   "execution_count": 8,
   "id": "00787394",
   "metadata": {},
   "outputs": [
    {
     "data": {
      "image/png": "[encoded data removed]",
      "text/plain": [
       "<Figure size 432x288 with 1 Axes>"
      ]
     },
     "metadata": {
      "needs_background": "light"
     },
     "output_type": "display_data"
    }
   ],
   "source": [
    "# see the ground truch PH information first\n",
    "F = bats.LightRipsFiltration(bats.DataSet(bats.Matrix(X)), bats.Euclidean(), np.inf, 2)\n",
    "R = bats.reduce(F, bats.F2(), bats.standard_reduction_flag(), bats.clearing_flag())\n",
    "# find persistence pairs at each dimension\n",
    "ps = []\n",
    "for d in range(R.maxdim()):\n",
    "    ps.extend(R.persistence_pairs(d))\n",
    "\n",
    "# Draw persistent diagram\n",
    "# 'tmax' is the axis maixmum value\n",
    "fig, ax = bats.persistence_diagram(ps)"
   ]
  },
  {
   "cell_type": "code",
   "execution_count": 19,
   "id": "e23bd0ea",
   "metadata": {},
   "outputs": [
    {
     "data": {
      "text/plain": [
       "<matplotlib.collections.PathCollection at 0x7f325e1a4d00>"
      ]
     },
     "execution_count": 19,
     "metadata": {},
     "output_type": "execute_result"
    },
    {
     "data": {
      "image/png": "[encoded data removed]",
      "text/plain": [
       "<Figure size 432x288 with 1 Axes>"
      ]
     },
     "metadata": {
      "needs_background": "light"
     },
     "output_type": "display_data"
    }
   ],
   "source": [
    "Xt = torch.tensor(X, dtype=torch.double)\n",
    "n,p = Xt.shape\n",
    "rand_mat = np.random.randn(p,2) \n",
    "V, _ = np.linalg.qr(rand_mat) # a random orthonormal projection\n",
    "X_p = X @ V\n",
    "plt.scatter(X_p[:, 0],X_p[:,1])"
   ]
  },
  {
   "cell_type": "code",
   "execution_count": 20,
   "id": "cdd759c9",
   "metadata": {},
   "outputs": [
    {
     "name": "stdout",
     "output_type": "stream",
     "text": [
      "at iter 0 loss = 0.01359973878789579\n",
      "at iter 10 loss = 0.013089070228385267\n",
      "at iter 20 loss = 0.012577885320482925\n",
      "at iter 30 loss = 0.012066700412580594\n",
      "at iter 40 loss = 0.011555515504678267\n",
      "at iter 50 loss = 0.011044330596775936\n",
      "at iter 60 loss = 0.010533145688873598\n",
      "at iter 70 loss = 0.010021960780971256\n",
      "at iter 80 loss = 0.009678674027381033\n",
      "at iter 90 loss = 0.0096737401492758\n",
      "at iter 100 loss = 0.009668806272014423\n"
     ]
    }
   ],
   "source": [
    "import time\n",
    "layer = RipsLayer(maxdim=1, reduction_flags=(bats.standard_reduction_flag(), \n",
    "                                             bats.clearing_flag(),))\n",
    "# layer = Rips0Layer()\n",
    "ground_truth_dgm = layer(Xt)\n",
    "crit = BottleneckLayer()\n",
    "# crit = BottleneckLayerHera()\n",
    "\n",
    "Vt = torch.tensor(V, dtype=torch.double, requires_grad = True)\n",
    "optimizer = torch.optim.SGD([Vt], lr=1e-1, momentum=0.01)\n",
    "losses = []\n",
    "\n",
    "for i in range(101):\n",
    "    ts = []\n",
    "    optimizer.zero_grad()\n",
    "    \n",
    "    ts.append(time.monotonic())\n",
    "    Y_dgm = layer(torch.mm(Xt, Vt))\n",
    "#     loss = crit(Y_dgm[1], ground_truth_dgm[1]) + crit(Y_dgm[0], ground_truth_dgm[0])\n",
    "    loss = crit(Y_dgm[0], ground_truth_dgm[0])\n",
    "    if i%10 == 0:\n",
    "        print(f\"at iter {i} loss = {loss.item()}\")\n",
    "        \n",
    "    loss.backward()\n",
    "    ts.append(time.monotonic())\n",
    "    optimizer.step()\n",
    "    ts.append(time.monotonic())\n",
    "    losses.append(loss.detach().numpy())"
   ]
  },
  {
   "cell_type": "code",
   "execution_count": 22,
   "id": "325fd4e0",
   "metadata": {},
   "outputs": [
    {
     "data": {
      "text/plain": [
       "<matplotlib.legend.Legend at 0x7f3264c20760>"
      ]
     },
     "execution_count": 22,
     "metadata": {},
     "output_type": "execute_result"
    },
    {
     "data": {
      "image/png": "[encoded data removed]",
      "text/plain": [
       "<Figure size 432x288 with 1 Axes>"
      ]
     },
     "metadata": {
      "needs_background": "light"
     },
     "output_type": "display_data"
    }
   ],
   "source": [
    "X_PH = X @ Vt.detach().numpy()\n",
    "Xp = X @ V\n",
    "# plt.scatter(X[:,0], X[:,1], label=\"true\")\n",
    "plt.scatter(Xp[:,0], Xp[:,1], label=\"rand\")\n",
    "plt.scatter(X_PH[:,0], X_PH[:,1], label=\"PH\")\n",
    "plt.legend()"
   ]
  },
  {
   "cell_type": "markdown",
   "id": "5114e599",
   "metadata": {},
   "source": [
    "Does not change too much"
   ]
  },
  {
   "cell_type": "code",
   "execution_count": null,
   "id": "85e48df9",
   "metadata": {},
   "outputs": [],
   "source": []
  }
 ],
 "metadata": {
  "kernelspec": {
   "display_name": "Python 3 (ipykernel)",
   "language": "python",
   "name": "python3"
  },
  "language_info": {
   "codemirror_mode": {
    "name": "ipython",
    "version": 3
   },
   "file_extension": ".py",
   "mimetype": "text/x-python",
   "name": "python",
   "nbconvert_exporter": "python",
   "pygments_lexer": "ipython3",
   "version": "3.9.7"
  }
 },
 "nbformat": 4,
 "nbformat_minor": 5
}
